{
  "nbformat": 4,
  "nbformat_minor": 0,
  "metadata": {
    "colab": {
      "provenance": [],
      "include_colab_link": true
    },
    "kernelspec": {
      "name": "python3",
      "display_name": "Python 3"
    },
    "language_info": {
      "name": "python"
    }
  },
  "cells": [
    {
      "cell_type": "markdown",
      "metadata": {
        "id": "view-in-github",
        "colab_type": "text"
      },
      "source": [
        "<a href=\"https://colab.research.google.com/github/Aandhikads/Aandhikads/blob/main/Vehicle_Classification_using_CNN.ipynb\" target=\"_parent\"><img src=\"https://colab.research.google.com/assets/colab-badge.svg\" alt=\"Open In Colab\"/></a>"
      ]
    },
    {
      "cell_type": "markdown",
      "source": [
        "Albertus Andhika D.S.B.B\n",
        "20.0504.0037\n",
        "Teknik Informatika 5B\n"
      ],
      "metadata": {
        "id": "plDjQKhLaypv"
      }
    },
    {
      "cell_type": "markdown",
      "source": [
        "Link Datasets :https://www.kaggle.com/datasets/maciejgronczynski/vehicle-classification-dataset"
      ],
      "metadata": {
        "id": "cyrf-34-a7uI"
      }
    },
    {
      "cell_type": "code",
      "execution_count": 2,
      "metadata": {
        "colab": {
          "base_uri": "https://localhost:8080/"
        },
        "id": "AoQalXTRL-l6",
        "outputId": "0f910060-5f8f-4183-c8ad-05ea258af23e"
      },
      "outputs": [
        {
          "output_type": "stream",
          "name": "stdout",
          "text": [
            "Mounted at /content/drive\n"
          ]
        }
      ],
      "source": [
        "from google.colab import drive\n",
        "drive.mount('/content/drive')"
      ]
    },
    {
      "cell_type": "code",
      "source": [
        "pathdata = '/content/drive/MyDrive/dataset'"
      ],
      "metadata": {
        "id": "8Sjo18iZMDL0"
      },
      "execution_count": 4,
      "outputs": []
    },
    {
      "cell_type": "code",
      "source": [
        "import tensorflow as tf\n",
        "from tensorflow.keras.preprocessing.image import ImageDataGenerator\n",
        "\n",
        "train_datagen = ImageDataGenerator(\n",
        "                    rescale=1./255,\n",
        "                    rotation_range=30,\n",
        "                    width_shift_range=0.3,\n",
        "                    height_shift_range=0.3,\n",
        "                    horizontal_flip=True,\n",
        "                    shear_range = 0.3,\n",
        "                    fill_mode = 'nearest',\n",
        "                    validation_split=0.4)"
      ],
      "metadata": {
        "id": "T15Q1ISnMRCy"
      },
      "execution_count": 5,
      "outputs": []
    },
    {
      "cell_type": "code",
      "source": [
        "train_gen = train_datagen.flow_from_directory(\n",
        "    pathdata, \n",
        "    subset='training',\n",
        "    target_size=(180, 120),\n",
        "    batch_size=10,\n",
        "    shuffle=True,\n",
        "    class_mode='categorical'\n",
        ")\n",
        "\n",
        "val_gen = train_datagen.flow_from_directory(\n",
        "    pathdata,\n",
        "    subset='validation',\n",
        "    target_size=(180, 120),\n",
        "    batch_size=10,\n",
        "    shuffle=True,\n",
        "    class_mode='categorical'\n",
        ")"
      ],
      "metadata": {
        "colab": {
          "base_uri": "https://localhost:8080/"
        },
        "id": "5M90o3fvMSub",
        "outputId": "12563d36-0a49-443a-c369-874e0e5251c3"
      },
      "execution_count": 6,
      "outputs": [
        {
          "output_type": "stream",
          "name": "stdout",
          "text": [
            "Found 720 images belonging to 3 classes.\n",
            "Found 480 images belonging to 3 classes.\n"
          ]
        }
      ]
    },
    {
      "cell_type": "code",
      "source": [
        "model =tf.keras.models.Sequential([\n",
        "tf.keras.layers.Conv2D(8, (3,3), activation='relu', input_shape=(180, 120 , 3)),\n",
        "tf.keras.layers.MaxPooling2D((3,3)),\n",
        "tf.keras.layers.Conv2D(16, (3,3), activation='relu'),\n",
        "tf.keras.layers.MaxPooling2D((3,3)),\n",
        "tf.keras.layers.Conv2D(32, (3,3), activation='relu'),\n",
        "tf.keras.layers.MaxPooling2D((3,3)),\n",
        "tf.keras.layers.Flatten(),\n",
        "tf.keras.layers.Dense(150, activation='relu'),\n",
        "tf.keras.layers.Dense(60, activation='relu'),\n",
        "tf.keras.layers.Dense(3, activation='softmax')\n",
        "])"
      ],
      "metadata": {
        "id": "EomF-cY7MUfu"
      },
      "execution_count": 7,
      "outputs": []
    },
    {
      "cell_type": "code",
      "source": [
        "model.summary()"
      ],
      "metadata": {
        "colab": {
          "base_uri": "https://localhost:8080/"
        },
        "id": "1rGOhI1QMXvT",
        "outputId": "95eee640-1bdf-4635-a4fd-2c25d6cc01a8"
      },
      "execution_count": 8,
      "outputs": [
        {
          "output_type": "stream",
          "name": "stdout",
          "text": [
            "Model: \"sequential\"\n",
            "_________________________________________________________________\n",
            " Layer (type)                Output Shape              Param #   \n",
            "=================================================================\n",
            " conv2d (Conv2D)             (None, 178, 118, 8)       224       \n",
            "                                                                 \n",
            " max_pooling2d (MaxPooling2D  (None, 59, 39, 8)        0         \n",
            " )                                                               \n",
            "                                                                 \n",
            " conv2d_1 (Conv2D)           (None, 57, 37, 16)        1168      \n",
            "                                                                 \n",
            " max_pooling2d_1 (MaxPooling  (None, 19, 12, 16)       0         \n",
            " 2D)                                                             \n",
            "                                                                 \n",
            " conv2d_2 (Conv2D)           (None, 17, 10, 32)        4640      \n",
            "                                                                 \n",
            " max_pooling2d_2 (MaxPooling  (None, 5, 3, 32)         0         \n",
            " 2D)                                                             \n",
            "                                                                 \n",
            " flatten (Flatten)           (None, 480)               0         \n",
            "                                                                 \n",
            " dense (Dense)               (None, 150)               72150     \n",
            "                                                                 \n",
            " dense_1 (Dense)             (None, 60)                9060      \n",
            "                                                                 \n",
            " dense_2 (Dense)             (None, 3)                 183       \n",
            "                                                                 \n",
            "=================================================================\n",
            "Total params: 87,425\n",
            "Trainable params: 87,425\n",
            "Non-trainable params: 0\n",
            "_________________________________________________________________\n"
          ]
        }
      ]
    },
    {
      "cell_type": "code",
      "source": [
        "from tensorflow.keras.optimizers import Adadelta\n",
        "model.compile(loss='categorical_crossentropy',\n",
        "              optimizer=Adadelta(lr=1),\n",
        "              metrics=['accuracy'])"
      ],
      "metadata": {
        "id": "2Zgh6UGDMZrw",
        "colab": {
          "base_uri": "https://localhost:8080/"
        },
        "outputId": "7f84bd3e-e9b8-4236-e25e-b5b00f995229"
      },
      "execution_count": 9,
      "outputs": [
        {
          "output_type": "stream",
          "name": "stderr",
          "text": [
            "/usr/local/lib/python3.8/dist-packages/keras/optimizers/optimizer_v2/adadelta.py:77: UserWarning: The `lr` argument is deprecated, use `learning_rate` instead.\n",
            "  super(Adadelta, self).__init__(name, **kwargs)\n"
          ]
        }
      ]
    },
    {
      "cell_type": "code",
      "source": [
        "callbacks=tf.keras.callbacks.EarlyStopping(monitor='accuracy', min_delta=0, patience=16, mode='max')"
      ],
      "metadata": {
        "id": "4h3f8yYqMa2P"
      },
      "execution_count": 10,
      "outputs": []
    },
    {
      "cell_type": "code",
      "source": [
        "history=model.fit(\n",
        "      train_gen ,\n",
        "      steps_per_epoch=64,  \n",
        "      epochs=20,\n",
        "      validation_data=val_gen, \n",
        "      validation_steps=64,  \n",
        "      verbose=2,\n",
        "      callbacks=callbacks)"
      ],
      "metadata": {
        "colab": {
          "base_uri": "https://localhost:8080/"
        },
        "id": "HFqZSmlzMcTV",
        "outputId": "50f5e00a-3464-429e-d240-98a670545377"
      },
      "execution_count": 11,
      "outputs": [
        {
          "output_type": "stream",
          "name": "stdout",
          "text": [
            "Epoch 1/20\n"
          ]
        },
        {
          "output_type": "stream",
          "name": "stderr",
          "text": [
            "WARNING:tensorflow:Your input ran out of data; interrupting training. Make sure that your dataset or generator can generate at least `steps_per_epoch * epochs` batches (in this case, 64 batches). You may need to use the repeat() function when building your dataset.\n"
          ]
        },
        {
          "output_type": "stream",
          "name": "stdout",
          "text": [
            "64/64 - 184s - loss: 1.0972 - accuracy: 0.3594 - val_loss: 1.0534 - val_accuracy: 0.5021 - 184s/epoch - 3s/step\n",
            "Epoch 2/20\n",
            "64/64 - 25s - loss: 1.0432 - accuracy: 0.4703 - 25s/epoch - 390ms/step\n",
            "Epoch 3/20\n",
            "64/64 - 17s - loss: 0.9582 - accuracy: 0.5250 - 17s/epoch - 270ms/step\n",
            "Epoch 4/20\n",
            "64/64 - 17s - loss: 0.9065 - accuracy: 0.5562 - 17s/epoch - 260ms/step\n",
            "Epoch 5/20\n",
            "64/64 - 17s - loss: 0.8526 - accuracy: 0.6234 - 17s/epoch - 261ms/step\n",
            "Epoch 6/20\n",
            "64/64 - 16s - loss: 0.8051 - accuracy: 0.6547 - 16s/epoch - 254ms/step\n",
            "Epoch 7/20\n",
            "64/64 - 16s - loss: 0.7662 - accuracy: 0.6562 - 16s/epoch - 257ms/step\n",
            "Epoch 8/20\n",
            "64/64 - 16s - loss: 0.7538 - accuracy: 0.6734 - 16s/epoch - 256ms/step\n",
            "Epoch 9/20\n",
            "64/64 - 16s - loss: 0.7387 - accuracy: 0.6703 - 16s/epoch - 256ms/step\n",
            "Epoch 10/20\n",
            "64/64 - 17s - loss: 0.7059 - accuracy: 0.7203 - 17s/epoch - 264ms/step\n",
            "Epoch 11/20\n",
            "64/64 - 16s - loss: 0.6765 - accuracy: 0.7016 - 16s/epoch - 248ms/step\n",
            "Epoch 12/20\n",
            "64/64 - 18s - loss: 0.6025 - accuracy: 0.7516 - 18s/epoch - 282ms/step\n",
            "Epoch 13/20\n",
            "64/64 - 17s - loss: 0.6033 - accuracy: 0.7422 - 17s/epoch - 259ms/step\n",
            "Epoch 14/20\n",
            "64/64 - 17s - loss: 0.5876 - accuracy: 0.7484 - 17s/epoch - 258ms/step\n",
            "Epoch 15/20\n",
            "64/64 - 17s - loss: 0.5668 - accuracy: 0.7484 - 17s/epoch - 264ms/step\n",
            "Epoch 16/20\n",
            "64/64 - 17s - loss: 0.5782 - accuracy: 0.7531 - 17s/epoch - 259ms/step\n",
            "Epoch 17/20\n",
            "64/64 - 17s - loss: 0.5514 - accuracy: 0.7578 - 17s/epoch - 258ms/step\n",
            "Epoch 18/20\n",
            "64/64 - 17s - loss: 0.5352 - accuracy: 0.7828 - 17s/epoch - 258ms/step\n",
            "Epoch 19/20\n",
            "64/64 - 17s - loss: 0.5682 - accuracy: 0.7563 - 17s/epoch - 258ms/step\n",
            "Epoch 20/20\n",
            "64/64 - 17s - loss: 0.4733 - accuracy: 0.8125 - 17s/epoch - 258ms/step\n"
          ]
        }
      ]
    },
    {
      "cell_type": "code",
      "source": [
        "import numpy as np\n",
        "from google.colab import files\n",
        "from tensorflow.keras.preprocessing import image\n",
        "import matplotlib.pyplot as plt\n",
        "import matplotlib.image as mpimg\n",
        "import matplotlib.pyplot as plt\n",
        "import matplotlib.image as mpimg\n",
        "%matplotlib inline\n",
        "\n",
        "uploaded = files.upload()\n",
        "\n",
        "for fn in uploaded.keys():\n",
        " \n",
        "  # predicting images\n",
        "  path = fn\n",
        "  img = image.load_img(path, target_size=(180,120))\n",
        "\n",
        "  imgplot = plt.imshow(img)\n",
        "  x = image.img_to_array(img)\n",
        "  x = np.expand_dims(x, axis=0)\n",
        "  images = np.vstack([x])\n",
        "\n",
        "  prediksi = model.predict(images, batch_size=10)\n",
        "  label = np.argmax(prediksi)  \n",
        "  print(fn)\n",
        "  if label== 0:\n",
        "    print('cars')\n",
        "  elif label==1:\n",
        "    print('planes')\n",
        "  else:\n",
        "    print('train')"
      ],
      "metadata": {
        "id": "741smOx9MxW7",
        "colab": {
          "base_uri": "https://localhost:8080/",
          "height": 377
        },
        "outputId": "bcfe1583-0210-4442-a041-e88386e17d25"
      },
      "execution_count": 21,
      "outputs": [
        {
          "output_type": "display_data",
          "data": {
            "text/plain": [
              "<IPython.core.display.HTML object>"
            ],
            "text/html": [
              "\n",
              "     <input type=\"file\" id=\"files-3d5152bb-d3a3-446d-8e52-0f8e7997789c\" name=\"files[]\" multiple disabled\n",
              "        style=\"border:none\" />\n",
              "     <output id=\"result-3d5152bb-d3a3-446d-8e52-0f8e7997789c\">\n",
              "      Upload widget is only available when the cell has been executed in the\n",
              "      current browser session. Please rerun this cell to enable.\n",
              "      </output>\n",
              "      <script>// Copyright 2017 Google LLC\n",
              "//\n",
              "// Licensed under the Apache License, Version 2.0 (the \"License\");\n",
              "// you may not use this file except in compliance with the License.\n",
              "// You may obtain a copy of the License at\n",
              "//\n",
              "//      http://www.apache.org/licenses/LICENSE-2.0\n",
              "//\n",
              "// Unless required by applicable law or agreed to in writing, software\n",
              "// distributed under the License is distributed on an \"AS IS\" BASIS,\n",
              "// WITHOUT WARRANTIES OR CONDITIONS OF ANY KIND, either express or implied.\n",
              "// See the License for the specific language governing permissions and\n",
              "// limitations under the License.\n",
              "\n",
              "/**\n",
              " * @fileoverview Helpers for google.colab Python module.\n",
              " */\n",
              "(function(scope) {\n",
              "function span(text, styleAttributes = {}) {\n",
              "  const element = document.createElement('span');\n",
              "  element.textContent = text;\n",
              "  for (const key of Object.keys(styleAttributes)) {\n",
              "    element.style[key] = styleAttributes[key];\n",
              "  }\n",
              "  return element;\n",
              "}\n",
              "\n",
              "// Max number of bytes which will be uploaded at a time.\n",
              "const MAX_PAYLOAD_SIZE = 100 * 1024;\n",
              "\n",
              "function _uploadFiles(inputId, outputId) {\n",
              "  const steps = uploadFilesStep(inputId, outputId);\n",
              "  const outputElement = document.getElementById(outputId);\n",
              "  // Cache steps on the outputElement to make it available for the next call\n",
              "  // to uploadFilesContinue from Python.\n",
              "  outputElement.steps = steps;\n",
              "\n",
              "  return _uploadFilesContinue(outputId);\n",
              "}\n",
              "\n",
              "// This is roughly an async generator (not supported in the browser yet),\n",
              "// where there are multiple asynchronous steps and the Python side is going\n",
              "// to poll for completion of each step.\n",
              "// This uses a Promise to block the python side on completion of each step,\n",
              "// then passes the result of the previous step as the input to the next step.\n",
              "function _uploadFilesContinue(outputId) {\n",
              "  const outputElement = document.getElementById(outputId);\n",
              "  const steps = outputElement.steps;\n",
              "\n",
              "  const next = steps.next(outputElement.lastPromiseValue);\n",
              "  return Promise.resolve(next.value.promise).then((value) => {\n",
              "    // Cache the last promise value to make it available to the next\n",
              "    // step of the generator.\n",
              "    outputElement.lastPromiseValue = value;\n",
              "    return next.value.response;\n",
              "  });\n",
              "}\n",
              "\n",
              "/**\n",
              " * Generator function which is called between each async step of the upload\n",
              " * process.\n",
              " * @param {string} inputId Element ID of the input file picker element.\n",
              " * @param {string} outputId Element ID of the output display.\n",
              " * @return {!Iterable<!Object>} Iterable of next steps.\n",
              " */\n",
              "function* uploadFilesStep(inputId, outputId) {\n",
              "  const inputElement = document.getElementById(inputId);\n",
              "  inputElement.disabled = false;\n",
              "\n",
              "  const outputElement = document.getElementById(outputId);\n",
              "  outputElement.innerHTML = '';\n",
              "\n",
              "  const pickedPromise = new Promise((resolve) => {\n",
              "    inputElement.addEventListener('change', (e) => {\n",
              "      resolve(e.target.files);\n",
              "    });\n",
              "  });\n",
              "\n",
              "  const cancel = document.createElement('button');\n",
              "  inputElement.parentElement.appendChild(cancel);\n",
              "  cancel.textContent = 'Cancel upload';\n",
              "  const cancelPromise = new Promise((resolve) => {\n",
              "    cancel.onclick = () => {\n",
              "      resolve(null);\n",
              "    };\n",
              "  });\n",
              "\n",
              "  // Wait for the user to pick the files.\n",
              "  const files = yield {\n",
              "    promise: Promise.race([pickedPromise, cancelPromise]),\n",
              "    response: {\n",
              "      action: 'starting',\n",
              "    }\n",
              "  };\n",
              "\n",
              "  cancel.remove();\n",
              "\n",
              "  // Disable the input element since further picks are not allowed.\n",
              "  inputElement.disabled = true;\n",
              "\n",
              "  if (!files) {\n",
              "    return {\n",
              "      response: {\n",
              "        action: 'complete',\n",
              "      }\n",
              "    };\n",
              "  }\n",
              "\n",
              "  for (const file of files) {\n",
              "    const li = document.createElement('li');\n",
              "    li.append(span(file.name, {fontWeight: 'bold'}));\n",
              "    li.append(span(\n",
              "        `(${file.type || 'n/a'}) - ${file.size} bytes, ` +\n",
              "        `last modified: ${\n",
              "            file.lastModifiedDate ? file.lastModifiedDate.toLocaleDateString() :\n",
              "                                    'n/a'} - `));\n",
              "    const percent = span('0% done');\n",
              "    li.appendChild(percent);\n",
              "\n",
              "    outputElement.appendChild(li);\n",
              "\n",
              "    const fileDataPromise = new Promise((resolve) => {\n",
              "      const reader = new FileReader();\n",
              "      reader.onload = (e) => {\n",
              "        resolve(e.target.result);\n",
              "      };\n",
              "      reader.readAsArrayBuffer(file);\n",
              "    });\n",
              "    // Wait for the data to be ready.\n",
              "    let fileData = yield {\n",
              "      promise: fileDataPromise,\n",
              "      response: {\n",
              "        action: 'continue',\n",
              "      }\n",
              "    };\n",
              "\n",
              "    // Use a chunked sending to avoid message size limits. See b/62115660.\n",
              "    let position = 0;\n",
              "    do {\n",
              "      const length = Math.min(fileData.byteLength - position, MAX_PAYLOAD_SIZE);\n",
              "      const chunk = new Uint8Array(fileData, position, length);\n",
              "      position += length;\n",
              "\n",
              "      const base64 = btoa(String.fromCharCode.apply(null, chunk));\n",
              "      yield {\n",
              "        response: {\n",
              "          action: 'append',\n",
              "          file: file.name,\n",
              "          data: base64,\n",
              "        },\n",
              "      };\n",
              "\n",
              "      let percentDone = fileData.byteLength === 0 ?\n",
              "          100 :\n",
              "          Math.round((position / fileData.byteLength) * 100);\n",
              "      percent.textContent = `${percentDone}% done`;\n",
              "\n",
              "    } while (position < fileData.byteLength);\n",
              "  }\n",
              "\n",
              "  // All done.\n",
              "  yield {\n",
              "    response: {\n",
              "      action: 'complete',\n",
              "    }\n",
              "  };\n",
              "}\n",
              "\n",
              "scope.google = scope.google || {};\n",
              "scope.google.colab = scope.google.colab || {};\n",
              "scope.google.colab._files = {\n",
              "  _uploadFiles,\n",
              "  _uploadFilesContinue,\n",
              "};\n",
              "})(self);\n",
              "</script> "
            ]
          },
          "metadata": {}
        },
        {
          "output_type": "stream",
          "name": "stdout",
          "text": [
            "Saving train1.jpg to train1.jpg\n",
            "1/1 [==============================] - 0s 27ms/step\n",
            "train1.jpg\n",
            "train\n"
          ]
        },
        {
          "output_type": "display_data",
          "data": {
            "text/plain": [
              "<Figure size 432x288 with 1 Axes>"
            ],
            "image/png": "[encoded data removed]"
          },
          "metadata": {
            "needs_background": "light"
          }
        }
      ]
    }
  ]
}