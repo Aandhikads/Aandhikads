{
  "cells": [
    {
      "cell_type": "markdown",
      "metadata": {
        "id": "view-in-github",
        "colab_type": "text"
      },
      "source": [
        "<a href=\"https://colab.research.google.com/github/Aandhikads/Aandhikads/blob/main/vehicle_model_classify.ipynb\" target=\"_parent\"><img src=\"https://colab.research.google.com/assets/colab-badge.svg\" alt=\"Open In Colab\"/></a>"
      ]
    },
    {
      "cell_type": "code",
      "execution_count": null,
      "id": "d2748a90",
      "metadata": {
        "execution": {
          "iopub.execute_input": "2021-10-12T18:02:42.696226Z",
          "iopub.status.busy": "2021-10-12T18:02:42.695579Z",
          "iopub.status.idle": "2021-10-12T18:02:47.789357Z",
          "shell.execute_reply": "2021-10-12T18:02:47.788155Z",
          "shell.execute_reply.started": "2021-10-12T17:54:40.107868Z"
        },
        "papermill": {
          "duration": 5.200936,
          "end_time": "2021-10-12T18:02:47.789572",
          "exception": false,
          "start_time": "2021-10-12T18:02:42.588636",
          "status": "completed"
        },
        "tags": [],
        "id": "d2748a90",
        "outputId": "b1381289-9ae1-4c20-e916-868717b91f8b"
      },
      "outputs": [
        {
          "name": "stderr",
          "output_type": "stream",
          "text": [
            "2021-10-12 18:02:43.178249: I tensorflow/stream_executor/platform/default/dso_loader.cc:49] Successfully opened dynamic library libcudart.so.11.0\n"
          ]
        }
      ],
      "source": [
        "import numpy as np\n",
        "import pandas as pd\n",
        "import os\n",
        "import matplotlib.pyplot as plt\n",
        "import tensorflow as tf\n",
        "import cv2\n",
        "from tensorflow.keras.utils import to_categorical\n",
        "from tensorflow.keras.preprocessing.image import load_img, img_to_array\n",
        "from tensorflow.python.keras.preprocessing.image import ImageDataGenerator\n",
        "from sklearn.metrics import classification_report, log_loss, accuracy_score\n",
        "from sklearn.model_selection import train_test_split\n",
        "from tqdm import tqdm\n",
        "import random"
      ]
    },
    {
      "cell_type": "code",
      "execution_count": null,
      "id": "4c30fbfa",
      "metadata": {
        "execution": {
          "iopub.execute_input": "2021-10-12T18:02:47.837046Z",
          "iopub.status.busy": "2021-10-12T18:02:47.836307Z",
          "iopub.status.idle": "2021-10-12T18:02:47.838570Z",
          "shell.execute_reply": "2021-10-12T18:02:47.838969Z",
          "shell.execute_reply.started": "2021-10-12T17:54:40.116030Z"
        },
        "papermill": {
          "duration": 0.027445,
          "end_time": "2021-10-12T18:02:47.839098",
          "exception": false,
          "start_time": "2021-10-12T18:02:47.811653",
          "status": "completed"
        },
        "tags": [],
        "id": "4c30fbfa"
      },
      "outputs": [],
      "source": [
        "data_dir = '../input/vehicle-images-dataset/vehicle_images/vehicle_images'"
      ]
    },
    {
      "cell_type": "code",
      "execution_count": null,
      "id": "ea9d8819",
      "metadata": {
        "execution": {
          "iopub.execute_input": "2021-10-12T18:02:47.886371Z",
          "iopub.status.busy": "2021-10-12T18:02:47.885816Z",
          "iopub.status.idle": "2021-10-12T18:02:47.970478Z",
          "shell.execute_reply": "2021-10-12T18:02:47.970895Z",
          "shell.execute_reply.started": "2021-10-12T17:54:40.129728Z"
        },
        "papermill": {
          "duration": 0.109959,
          "end_time": "2021-10-12T18:02:47.971036",
          "exception": false,
          "start_time": "2021-10-12T18:02:47.861077",
          "status": "completed"
        },
        "tags": [],
        "id": "ea9d8819",
        "outputId": "0a690f9d-92fd-401a-c725-561d7b8523a0"
      },
      "outputs": [
        {
          "data": {
            "text/html": [
              "<div>\n",
              "<style scoped>\n",
              "    .dataframe tbody tr th:only-of-type {\n",
              "        vertical-align: middle;\n",
              "    }\n",
              "\n",
              "    .dataframe tbody tr th {\n",
              "        vertical-align: top;\n",
              "    }\n",
              "\n",
              "    .dataframe thead th {\n",
              "        text-align: right;\n",
              "    }\n",
              "</style>\n",
              "<table border=\"1\" class=\"dataframe\">\n",
              "  <thead>\n",
              "    <tr style=\"text-align: right;\">\n",
              "      <th></th>\n",
              "      <th>Image_Path</th>\n",
              "      <th>Brand</th>\n",
              "      <th>Model</th>\n",
              "      <th>Edition</th>\n",
              "      <th>Year</th>\n",
              "      <th>Condition</th>\n",
              "      <th>Transmission</th>\n",
              "      <th>Body</th>\n",
              "      <th>Fuel</th>\n",
              "      <th>Capacity</th>\n",
              "    </tr>\n",
              "  </thead>\n",
              "  <tbody>\n",
              "    <tr>\n",
              "      <th>0</th>\n",
              "      <td>/vehicle_images/1633889154186_Toyota Hilux 200...</td>\n",
              "      <td>Toyota</td>\n",
              "      <td>Hilux</td>\n",
              "      <td>Hilux</td>\n",
              "      <td>2006</td>\n",
              "      <td>Used</td>\n",
              "      <td>Manual</td>\n",
              "      <td>SUV / 4x4</td>\n",
              "      <td>Diesel</td>\n",
              "      <td>2,500 cc</td>\n",
              "    </tr>\n",
              "    <tr>\n",
              "      <th>1</th>\n",
              "      <td>/vehicle_images/1633889154395_Land Rover Freel...</td>\n",
              "      <td>Land Rover</td>\n",
              "      <td>Freelander</td>\n",
              "      <td>1999</td>\n",
              "      <td>1999</td>\n",
              "      <td>Used</td>\n",
              "      <td>Manual</td>\n",
              "      <td>SUV / 4x4</td>\n",
              "      <td>Diesel</td>\n",
              "      <td>1,990 cc</td>\n",
              "    </tr>\n",
              "    <tr>\n",
              "      <th>2</th>\n",
              "      <td>/vehicle_images/1633889154545_Nissan Leaf G Gr...</td>\n",
              "      <td>Nissan</td>\n",
              "      <td>Leaf</td>\n",
              "      <td>G Grade</td>\n",
              "      <td>2014</td>\n",
              "      <td>Used</td>\n",
              "      <td>Automatic</td>\n",
              "      <td>Hatchback</td>\n",
              "      <td>Electric</td>\n",
              "      <td>70 cc</td>\n",
              "    </tr>\n",
              "    <tr>\n",
              "      <th>3</th>\n",
              "      <td>/vehicle_images/1633889154697_Mercedes Benz C2...</td>\n",
              "      <td>Mercedes Benz</td>\n",
              "      <td>C200</td>\n",
              "      <td>C-Cabriolet AMG Line</td>\n",
              "      <td>2016</td>\n",
              "      <td>Used</td>\n",
              "      <td>Automatic</td>\n",
              "      <td>Convertible</td>\n",
              "      <td>Petrol</td>\n",
              "      <td>2,000 cc</td>\n",
              "    </tr>\n",
              "    <tr>\n",
              "      <th>4</th>\n",
              "      <td>/vehicle_images/1633889154870_Toyota Vitz 2018...</td>\n",
              "      <td>Toyota</td>\n",
              "      <td>Vitz</td>\n",
              "      <td>2018</td>\n",
              "      <td>2018</td>\n",
              "      <td>Used</td>\n",
              "      <td>Automatic</td>\n",
              "      <td>Hatchback</td>\n",
              "      <td>Petrol</td>\n",
              "      <td>1,000 cc</td>\n",
              "    </tr>\n",
              "    <tr>\n",
              "      <th>...</th>\n",
              "      <td>...</td>\n",
              "      <td>...</td>\n",
              "      <td>...</td>\n",
              "      <td>...</td>\n",
              "      <td>...</td>\n",
              "      <td>...</td>\n",
              "      <td>...</td>\n",
              "      <td>...</td>\n",
              "      <td>...</td>\n",
              "      <td>...</td>\n",
              "    </tr>\n",
              "    <tr>\n",
              "      <th>8181</th>\n",
              "      <td>/vehicle_images/1633902178902_Toyota Tank Gs C...</td>\n",
              "      <td>Toyota</td>\n",
              "      <td>Tank</td>\n",
              "      <td>Gs Custom</td>\n",
              "      <td>2017</td>\n",
              "      <td>Used</td>\n",
              "      <td>Automatic</td>\n",
              "      <td>MPV</td>\n",
              "      <td>Petrol</td>\n",
              "      <td>1,000 cc</td>\n",
              "    </tr>\n",
              "    <tr>\n",
              "      <th>8182</th>\n",
              "      <td>/vehicle_images/1633902179189_Suzuki Swift 200...</td>\n",
              "      <td>Suzuki</td>\n",
              "      <td>Swift</td>\n",
              "      <td>Suzuki</td>\n",
              "      <td>2003</td>\n",
              "      <td>Used</td>\n",
              "      <td>Automatic</td>\n",
              "      <td>Hatchback</td>\n",
              "      <td>Petrol</td>\n",
              "      <td>1,320 cc</td>\n",
              "    </tr>\n",
              "    <tr>\n",
              "      <th>8183</th>\n",
              "      <td>/vehicle_images/1633902179392_Land Rover Range...</td>\n",
              "      <td>Land Rover</td>\n",
              "      <td>Range Rover Sport</td>\n",
              "      <td>Diesel Com. Reg.2019</td>\n",
              "      <td>2018</td>\n",
              "      <td>Used</td>\n",
              "      <td>Automatic</td>\n",
              "      <td>SUV / 4x4</td>\n",
              "      <td>Diesel</td>\n",
              "      <td>2,000 cc</td>\n",
              "    </tr>\n",
              "    <tr>\n",
              "      <th>8184</th>\n",
              "      <td>/vehicle_images/1633902179722_Nissan Sunny FB1...</td>\n",
              "      <td>Nissan</td>\n",
              "      <td>Sunny</td>\n",
              "      <td>FB14</td>\n",
              "      <td>1998</td>\n",
              "      <td>Used</td>\n",
              "      <td>Manual</td>\n",
              "      <td>Saloon</td>\n",
              "      <td>Petrol</td>\n",
              "      <td>1,500 cc</td>\n",
              "    </tr>\n",
              "    <tr>\n",
              "      <th>8185</th>\n",
              "      <td>/vehicle_images/1633902180012_Tata Nano Twist ...</td>\n",
              "      <td>Tata</td>\n",
              "      <td>Nano</td>\n",
              "      <td>Twist</td>\n",
              "      <td>2015</td>\n",
              "      <td>Used</td>\n",
              "      <td>Manual</td>\n",
              "      <td>Hatchback</td>\n",
              "      <td>Petrol</td>\n",
              "      <td>650 cc</td>\n",
              "    </tr>\n",
              "  </tbody>\n",
              "</table>\n",
              "<p>8186 rows × 10 columns</p>\n",
              "</div>"
            ],
            "text/plain": [
              "                                             Image_Path          Brand  \\\n",
              "0     /vehicle_images/1633889154186_Toyota Hilux 200...         Toyota   \n",
              "1     /vehicle_images/1633889154395_Land Rover Freel...     Land Rover   \n",
              "2     /vehicle_images/1633889154545_Nissan Leaf G Gr...         Nissan   \n",
              "3     /vehicle_images/1633889154697_Mercedes Benz C2...  Mercedes Benz   \n",
              "4     /vehicle_images/1633889154870_Toyota Vitz 2018...         Toyota   \n",
              "...                                                 ...            ...   \n",
              "8181  /vehicle_images/1633902178902_Toyota Tank Gs C...         Toyota   \n",
              "8182  /vehicle_images/1633902179189_Suzuki Swift 200...         Suzuki   \n",
              "8183  /vehicle_images/1633902179392_Land Rover Range...     Land Rover   \n",
              "8184  /vehicle_images/1633902179722_Nissan Sunny FB1...         Nissan   \n",
              "8185  /vehicle_images/1633902180012_Tata Nano Twist ...           Tata   \n",
              "\n",
              "                  Model               Edition  Year Condition Transmission  \\\n",
              "0                 Hilux                 Hilux  2006      Used       Manual   \n",
              "1            Freelander                  1999  1999      Used       Manual   \n",
              "2                  Leaf               G Grade  2014      Used    Automatic   \n",
              "3                  C200  C-Cabriolet AMG Line  2016      Used    Automatic   \n",
              "4                  Vitz                  2018  2018      Used    Automatic   \n",
              "...                 ...                   ...   ...       ...          ...   \n",
              "8181               Tank             Gs Custom  2017      Used    Automatic   \n",
              "8182              Swift                Suzuki  2003      Used    Automatic   \n",
              "8183  Range Rover Sport  Diesel Com. Reg.2019  2018      Used    Automatic   \n",
              "8184              Sunny                  FB14  1998      Used       Manual   \n",
              "8185               Nano                 Twist  2015      Used       Manual   \n",
              "\n",
              "             Body      Fuel  Capacity  \n",
              "0       SUV / 4x4    Diesel  2,500 cc  \n",
              "1       SUV / 4x4    Diesel  1,990 cc  \n",
              "2       Hatchback  Electric     70 cc  \n",
              "3     Convertible    Petrol  2,000 cc  \n",
              "4       Hatchback    Petrol  1,000 cc  \n",
              "...           ...       ...       ...  \n",
              "8181          MPV    Petrol  1,000 cc  \n",
              "8182    Hatchback    Petrol  1,320 cc  \n",
              "8183    SUV / 4x4    Diesel  2,000 cc  \n",
              "8184       Saloon    Petrol  1,500 cc  \n",
              "8185    Hatchback    Petrol    650 cc  \n",
              "\n",
              "[8186 rows x 10 columns]"
            ]
          },
          "execution_count": 3,
          "metadata": {},
          "output_type": "execute_result"
        }
      ],
      "source": [
        "data0=pd.read_csv('../input/vehicle-images-dataset/vehcle_img_data.csv')\n",
        "data0"
      ]
    },
    {
      "cell_type": "code",
      "execution_count": null,
      "id": "9bdb271e",
      "metadata": {
        "execution": {
          "iopub.execute_input": "2021-10-12T18:02:48.024594Z",
          "iopub.status.busy": "2021-10-12T18:02:48.023363Z",
          "iopub.status.idle": "2021-10-12T18:02:48.027062Z",
          "shell.execute_reply": "2021-10-12T18:02:48.027471Z",
          "shell.execute_reply.started": "2021-10-12T17:54:40.182023Z"
        },
        "papermill": {
          "duration": 0.033532,
          "end_time": "2021-10-12T18:02:48.027696",
          "exception": false,
          "start_time": "2021-10-12T18:02:47.994164",
          "status": "completed"
        },
        "tags": [],
        "id": "9bdb271e",
        "outputId": "cfc9787a-9dcc-47a8-8c97-aceb9bcf51c9"
      },
      "outputs": [
        {
          "name": "stdout",
          "output_type": "stream",
          "text": [
            "['Hilux', 'Freelander', 'Leaf', 'C200', 'Vitz', 'Starlet', 'Aqua', 'Outlander', 'Axio', 'Grand Vitara']\n",
            "438\n"
          ]
        }
      ],
      "source": [
        "Name=data0['Model'].unique().tolist()\n",
        "print(Name[0:10])\n",
        "print(len(Name))"
      ]
    },
    {
      "cell_type": "code",
      "execution_count": null,
      "id": "f3c7f988",
      "metadata": {
        "execution": {
          "iopub.execute_input": "2021-10-12T18:02:48.074947Z",
          "iopub.status.busy": "2021-10-12T18:02:48.074197Z",
          "iopub.status.idle": "2021-10-12T18:02:48.076852Z",
          "shell.execute_reply": "2021-10-12T18:02:48.076400Z",
          "shell.execute_reply.started": "2021-10-12T17:54:40.193122Z"
        },
        "papermill": {
          "duration": 0.028138,
          "end_time": "2021-10-12T18:02:48.076954",
          "exception": false,
          "start_time": "2021-10-12T18:02:48.048816",
          "status": "completed"
        },
        "tags": [],
        "id": "f3c7f988"
      },
      "outputs": [],
      "source": [
        "N=list(range(len(Name)))\n",
        "normal_mapping=dict(zip(Name,N)) \n",
        "reverse_mapping=dict(zip(N,Name)) "
      ]
    },
    {
      "cell_type": "code",
      "execution_count": null,
      "id": "a42205ce",
      "metadata": {
        "execution": {
          "iopub.execute_input": "2021-10-12T18:02:48.134096Z",
          "iopub.status.busy": "2021-10-12T18:02:48.133194Z",
          "iopub.status.idle": "2021-10-12T18:02:48.138034Z",
          "shell.execute_reply": "2021-10-12T18:02:48.138447Z",
          "shell.execute_reply.started": "2021-10-12T17:54:40.200729Z"
        },
        "papermill": {
          "duration": 0.040782,
          "end_time": "2021-10-12T18:02:48.138569",
          "exception": false,
          "start_time": "2021-10-12T18:02:48.097787",
          "status": "completed"
        },
        "tags": [],
        "id": "a42205ce",
        "outputId": "c5e2fae2-490c-416f-8d9f-c1deaf8958e7"
      },
      "outputs": [
        {
          "name": "stderr",
          "output_type": "stream",
          "text": [
            "/opt/conda/lib/python3.7/site-packages/ipykernel_launcher.py:2: SettingWithCopyWarning: \n",
            "A value is trying to be set on a copy of a slice from a DataFrame.\n",
            "Try using .loc[row_indexer,col_indexer] = value instead\n",
            "\n",
            "See the caveats in the documentation: https://pandas.pydata.org/pandas-docs/stable/user_guide/indexing.html#returning-a-view-versus-a-copy\n",
            "  \n"
          ]
        },
        {
          "data": {
            "text/html": [
              "<div>\n",
              "<style scoped>\n",
              "    .dataframe tbody tr th:only-of-type {\n",
              "        vertical-align: middle;\n",
              "    }\n",
              "\n",
              "    .dataframe tbody tr th {\n",
              "        vertical-align: top;\n",
              "    }\n",
              "\n",
              "    .dataframe thead th {\n",
              "        text-align: right;\n",
              "    }\n",
              "</style>\n",
              "<table border=\"1\" class=\"dataframe\">\n",
              "  <thead>\n",
              "    <tr style=\"text-align: right;\">\n",
              "      <th></th>\n",
              "      <th>Image_Path</th>\n",
              "      <th>Model</th>\n",
              "    </tr>\n",
              "  </thead>\n",
              "  <tbody>\n",
              "    <tr>\n",
              "      <th>0</th>\n",
              "      <td>/vehicle_images/1633889154186_Toyota Hilux 200...</td>\n",
              "      <td>0</td>\n",
              "    </tr>\n",
              "    <tr>\n",
              "      <th>1</th>\n",
              "      <td>/vehicle_images/1633889154395_Land Rover Freel...</td>\n",
              "      <td>1</td>\n",
              "    </tr>\n",
              "    <tr>\n",
              "      <th>2</th>\n",
              "      <td>/vehicle_images/1633889154545_Nissan Leaf G Gr...</td>\n",
              "      <td>2</td>\n",
              "    </tr>\n",
              "    <tr>\n",
              "      <th>3</th>\n",
              "      <td>/vehicle_images/1633889154697_Mercedes Benz C2...</td>\n",
              "      <td>3</td>\n",
              "    </tr>\n",
              "    <tr>\n",
              "      <th>4</th>\n",
              "      <td>/vehicle_images/1633889154870_Toyota Vitz 2018...</td>\n",
              "      <td>4</td>\n",
              "    </tr>\n",
              "    <tr>\n",
              "      <th>...</th>\n",
              "      <td>...</td>\n",
              "      <td>...</td>\n",
              "    </tr>\n",
              "    <tr>\n",
              "      <th>8181</th>\n",
              "      <td>/vehicle_images/1633902178902_Toyota Tank Gs C...</td>\n",
              "      <td>247</td>\n",
              "    </tr>\n",
              "    <tr>\n",
              "      <th>8182</th>\n",
              "      <td>/vehicle_images/1633902179189_Suzuki Swift 200...</td>\n",
              "      <td>81</td>\n",
              "    </tr>\n",
              "    <tr>\n",
              "      <th>8183</th>\n",
              "      <td>/vehicle_images/1633902179392_Land Rover Range...</td>\n",
              "      <td>178</td>\n",
              "    </tr>\n",
              "    <tr>\n",
              "      <th>8184</th>\n",
              "      <td>/vehicle_images/1633902179722_Nissan Sunny FB1...</td>\n",
              "      <td>11</td>\n",
              "    </tr>\n",
              "    <tr>\n",
              "      <th>8185</th>\n",
              "      <td>/vehicle_images/1633902180012_Tata Nano Twist ...</td>\n",
              "      <td>59</td>\n",
              "    </tr>\n",
              "  </tbody>\n",
              "</table>\n",
              "<p>8186 rows × 2 columns</p>\n",
              "</div>"
            ],
            "text/plain": [
              "                                             Image_Path  Model\n",
              "0     /vehicle_images/1633889154186_Toyota Hilux 200...      0\n",
              "1     /vehicle_images/1633889154395_Land Rover Freel...      1\n",
              "2     /vehicle_images/1633889154545_Nissan Leaf G Gr...      2\n",
              "3     /vehicle_images/1633889154697_Mercedes Benz C2...      3\n",
              "4     /vehicle_images/1633889154870_Toyota Vitz 2018...      4\n",
              "...                                                 ...    ...\n",
              "8181  /vehicle_images/1633902178902_Toyota Tank Gs C...    247\n",
              "8182  /vehicle_images/1633902179189_Suzuki Swift 200...     81\n",
              "8183  /vehicle_images/1633902179392_Land Rover Range...    178\n",
              "8184  /vehicle_images/1633902179722_Nissan Sunny FB1...     11\n",
              "8185  /vehicle_images/1633902180012_Tata Nano Twist ...     59\n",
              "\n",
              "[8186 rows x 2 columns]"
            ]
          },
          "execution_count": 6,
          "metadata": {},
          "output_type": "execute_result"
        }
      ],
      "source": [
        "data1=data0[['Image_Path','Model']]\n",
        "data1['Model']=data1['Model'].map(normal_mapping)\n",
        "data1"
      ]
    },
    {
      "cell_type": "code",
      "execution_count": null,
      "id": "0f8c4dac",
      "metadata": {
        "execution": {
          "iopub.execute_input": "2021-10-12T18:02:48.187985Z",
          "iopub.status.busy": "2021-10-12T18:02:48.187281Z",
          "iopub.status.idle": "2021-10-12T18:02:48.472603Z",
          "shell.execute_reply": "2021-10-12T18:02:48.473269Z",
          "shell.execute_reply.started": "2021-10-12T17:54:40.246458Z"
        },
        "papermill": {
          "duration": 0.312899,
          "end_time": "2021-10-12T18:02:48.473585",
          "exception": false,
          "start_time": "2021-10-12T18:02:48.160686",
          "status": "completed"
        },
        "tags": [],
        "id": "0f8c4dac",
        "outputId": "13939fc6-2b05-48f8-8229-accb772ca52f"
      },
      "outputs": [
        {
          "name": "stdout",
          "output_type": "stream",
          "text": [
            "(120, 160, 3)\n",
            "(36, 48, 3)\n"
          ]
        },
        {
          "data": {
            "text/plain": [
              "<matplotlib.image.AxesImage at 0x7f89f93d9250>"
            ]
          },
          "execution_count": 7,
          "metadata": {},
          "output_type": "execute_result"
        },
        {
          "data": {
            "image/png": "[encoded data removed]",
            "text/plain": [
              "<Figure size 432x288 with 1 Axes>"
            ]
          },
          "metadata": {
            "needs_background": "light"
          },
          "output_type": "display_data"
        }
      ],
      "source": [
        "image=cv2.imread('../input/vehicle-images-dataset/vehicle_images/vehicle_images/1633889154186_Toyota Hilux 2006 for sale.jpg')\n",
        "print(image.shape)\n",
        "image2=cv2.resize(image,dsize=(48,36),interpolation=cv2.INTER_CUBIC)\n",
        "print(image2.shape)\n",
        "plt.imshow(image2)"
      ]
    },
    {
      "cell_type": "code",
      "execution_count": null,
      "id": "e7842186",
      "metadata": {
        "execution": {
          "iopub.execute_input": "2021-10-12T18:02:48.530734Z",
          "iopub.status.busy": "2021-10-12T18:02:48.529906Z",
          "iopub.status.idle": "2021-10-12T18:03:17.261107Z",
          "shell.execute_reply": "2021-10-12T18:03:17.260207Z",
          "shell.execute_reply.started": "2021-10-12T17:55:42.906634Z"
        },
        "papermill": {
          "duration": 28.762112,
          "end_time": "2021-10-12T18:03:17.261275",
          "exception": false,
          "start_time": "2021-10-12T18:02:48.499163",
          "status": "completed"
        },
        "tags": [],
        "id": "e7842186"
      },
      "outputs": [],
      "source": [
        "dataX=[]\n",
        "dataY0=[]\n",
        "for i in range(len(data1)):\n",
        "    path=data1.loc[i,'Image_Path']\n",
        "    model=data1.loc[i,'Model']\n",
        "    image=cv2.imread('../input/vehicle-images-dataset/vehicle_images'+path)\n",
        "    image2=cv2.resize(image,dsize=(48,36),interpolation=cv2.INTER_CUBIC)\n",
        "    dataX+=[image2]\n",
        "    dataY0+=[model]"
      ]
    },
    {
      "cell_type": "code",
      "execution_count": null,
      "id": "245d1f82",
      "metadata": {
        "execution": {
          "iopub.execute_input": "2021-10-12T18:03:17.313350Z",
          "iopub.status.busy": "2021-10-12T18:03:17.312213Z",
          "iopub.status.idle": "2021-10-12T18:03:17.339580Z",
          "shell.execute_reply": "2021-10-12T18:03:17.340058Z",
          "shell.execute_reply.started": "2021-10-12T17:56:31.483003Z"
        },
        "papermill": {
          "duration": 0.055595,
          "end_time": "2021-10-12T18:03:17.340225",
          "exception": false,
          "start_time": "2021-10-12T18:03:17.284630",
          "status": "completed"
        },
        "tags": [],
        "id": "245d1f82"
      },
      "outputs": [],
      "source": [
        "dataX=np.array(dataX)\n",
        "dataY0=np.array(dataY0)"
      ]
    },
    {
      "cell_type": "code",
      "execution_count": null,
      "id": "cd02c51b",
      "metadata": {
        "execution": {
          "iopub.execute_input": "2021-10-12T18:03:17.402504Z",
          "iopub.status.busy": "2021-10-12T18:03:17.401634Z",
          "iopub.status.idle": "2021-10-12T18:03:17.405422Z",
          "shell.execute_reply": "2021-10-12T18:03:17.405852Z",
          "shell.execute_reply.started": "2021-10-12T17:56:31.514512Z"
        },
        "papermill": {
          "duration": 0.04039,
          "end_time": "2021-10-12T18:03:17.405998",
          "exception": false,
          "start_time": "2021-10-12T18:03:17.365608",
          "status": "completed"
        },
        "tags": [],
        "id": "cd02c51b"
      },
      "outputs": [],
      "source": [
        "m=len(dataX)\n",
        "M=list(range(m))\n",
        "random.seed(2021)\n",
        "random.shuffle(M)"
      ]
    },
    {
      "cell_type": "code",
      "execution_count": null,
      "id": "116b0a89",
      "metadata": {
        "execution": {
          "iopub.execute_input": "2021-10-12T18:03:17.457750Z",
          "iopub.status.busy": "2021-10-12T18:03:17.456603Z",
          "iopub.status.idle": "2021-10-12T18:03:17.474240Z",
          "shell.execute_reply": "2021-10-12T18:03:17.473810Z",
          "shell.execute_reply.started": "2021-10-12T17:56:31.529693Z"
        },
        "papermill": {
          "duration": 0.044793,
          "end_time": "2021-10-12T18:03:17.474377",
          "exception": false,
          "start_time": "2021-10-12T18:03:17.429584",
          "status": "completed"
        },
        "tags": [],
        "id": "116b0a89"
      },
      "outputs": [],
      "source": [
        "trainX=dataX[M[0:(m//4)*3]]\n",
        "trainY0=dataY0[M[0:(m//4)*3]]\n",
        "testX=dataX[M[(m//4)*3:]]\n",
        "testY0=dataY0[M[(m//4)*3:]]"
      ]
    },
    {
      "cell_type": "code",
      "execution_count": null,
      "id": "bc814fb6",
      "metadata": {
        "execution": {
          "iopub.execute_input": "2021-10-12T18:03:17.523061Z",
          "iopub.status.busy": "2021-10-12T18:03:17.521717Z",
          "iopub.status.idle": "2021-10-12T18:03:17.526836Z",
          "shell.execute_reply": "2021-10-12T18:03:17.527196Z",
          "shell.execute_reply.started": "2021-10-12T17:56:31.554672Z"
        },
        "papermill": {
          "duration": 0.031386,
          "end_time": "2021-10-12T18:03:17.527340",
          "exception": false,
          "start_time": "2021-10-12T18:03:17.495954",
          "status": "completed"
        },
        "tags": [],
        "id": "bc814fb6"
      },
      "outputs": [],
      "source": [
        "labels1=to_categorical(trainY0)\n",
        "trainY=np.array(labels1)"
      ]
    },
    {
      "cell_type": "code",
      "execution_count": null,
      "id": "68fe6451",
      "metadata": {
        "execution": {
          "iopub.execute_input": "2021-10-12T18:03:17.578813Z",
          "iopub.status.busy": "2021-10-12T18:03:17.577666Z",
          "iopub.status.idle": "2021-10-12T18:03:17.594827Z",
          "shell.execute_reply": "2021-10-12T18:03:17.595208Z",
          "shell.execute_reply.started": "2021-10-12T17:56:31.569466Z"
        },
        "papermill": {
          "duration": 0.046301,
          "end_time": "2021-10-12T18:03:17.595390",
          "exception": false,
          "start_time": "2021-10-12T18:03:17.549089",
          "status": "completed"
        },
        "tags": [],
        "id": "68fe6451"
      },
      "outputs": [],
      "source": [
        "trainx,testx,trainy,testy=train_test_split(trainX,trainY,test_size=0.2,random_state=44)"
      ]
    },
    {
      "cell_type": "code",
      "execution_count": null,
      "id": "395a8c5f",
      "metadata": {
        "execution": {
          "iopub.execute_input": "2021-10-12T18:03:17.643978Z",
          "iopub.status.busy": "2021-10-12T18:03:17.643423Z",
          "iopub.status.idle": "2021-10-12T18:03:17.646395Z",
          "shell.execute_reply": "2021-10-12T18:03:17.646959Z",
          "shell.execute_reply.started": "2021-10-12T17:56:31.590729Z"
        },
        "papermill": {
          "duration": 0.030032,
          "end_time": "2021-10-12T18:03:17.647129",
          "exception": false,
          "start_time": "2021-10-12T18:03:17.617097",
          "status": "completed"
        },
        "tags": [],
        "id": "395a8c5f",
        "outputId": "0e531a64-af99-42cc-b1c6-37102c8aa10a"
      },
      "outputs": [
        {
          "name": "stdout",
          "output_type": "stream",
          "text": [
            "(4910, 36, 48, 3)\n",
            "(1228, 36, 48, 3)\n",
            "(4910, 438)\n",
            "(1228, 438)\n"
          ]
        }
      ],
      "source": [
        "print(trainx.shape)\n",
        "print(testx.shape)\n",
        "print(trainy.shape)\n",
        "print(testy.shape)"
      ]
    },
    {
      "cell_type": "markdown",
      "id": "6e595884",
      "metadata": {
        "execution": {
          "iopub.execute_input": "2021-10-07T06:08:20.884171Z",
          "iopub.status.busy": "2021-10-07T06:08:20.883927Z",
          "iopub.status.idle": "2021-10-07T06:08:20.893155Z",
          "shell.execute_reply": "2021-10-07T06:08:20.892171Z",
          "shell.execute_reply.started": "2021-10-07T06:08:20.884143Z"
        },
        "papermill": {
          "duration": 0.021859,
          "end_time": "2021-10-12T18:03:17.691959",
          "exception": false,
          "start_time": "2021-10-12T18:03:17.670100",
          "status": "completed"
        },
        "tags": [],
        "id": "6e595884"
      },
      "source": [
        "datagen = ImageDataGenerator(horizontal_flip=True,vertical_flip=True,rotation_range=20,zoom_range=0.2,\n",
        "                        width_shift_range=0.2,height_shift_range=0.2,shear_range=0.1,fill_mode=\"nearest\")"
      ]
    },
    {
      "cell_type": "code",
      "execution_count": null,
      "id": "9f541273",
      "metadata": {
        "execution": {
          "iopub.execute_input": "2021-10-12T18:03:17.743159Z",
          "iopub.status.busy": "2021-10-12T18:03:17.742679Z",
          "iopub.status.idle": "2021-10-12T18:03:25.733378Z",
          "shell.execute_reply": "2021-10-12T18:03:25.732519Z",
          "shell.execute_reply.started": "2021-10-12T17:56:31.598645Z"
        },
        "papermill": {
          "duration": 8.019371,
          "end_time": "2021-10-12T18:03:25.733558",
          "exception": false,
          "start_time": "2021-10-12T18:03:17.714187",
          "status": "completed"
        },
        "tags": [],
        "id": "9f541273",
        "outputId": "bdf70ec1-cdef-4adf-a771-278f01efaf00"
      },
      "outputs": [
        {
          "name": "stderr",
          "output_type": "stream",
          "text": [
            "2021-10-12 18:03:17.771643: I tensorflow/compiler/jit/xla_cpu_device.cc:41] Not creating XLA devices, tf_xla_enable_xla_devices not set\n",
            "2021-10-12 18:03:17.774899: I tensorflow/stream_executor/platform/default/dso_loader.cc:49] Successfully opened dynamic library libcuda.so.1\n",
            "2021-10-12 18:03:17.821161: I tensorflow/stream_executor/cuda/cuda_gpu_executor.cc:941] successful NUMA node read from SysFS had negative value (-1), but there must be at least one NUMA node, so returning NUMA node zero\n",
            "2021-10-12 18:03:17.821902: I tensorflow/core/common_runtime/gpu/gpu_device.cc:1720] Found device 0 with properties: \n",
            "pciBusID: 0000:00:04.0 name: Tesla P100-PCIE-16GB computeCapability: 6.0\n",
            "coreClock: 1.3285GHz coreCount: 56 deviceMemorySize: 15.90GiB deviceMemoryBandwidth: 681.88GiB/s\n",
            "2021-10-12 18:03:17.821962: I tensorflow/stream_executor/platform/default/dso_loader.cc:49] Successfully opened dynamic library libcudart.so.11.0\n",
            "2021-10-12 18:03:17.846115: I tensorflow/stream_executor/platform/default/dso_loader.cc:49] Successfully opened dynamic library libcublas.so.11\n",
            "2021-10-12 18:03:17.846225: I tensorflow/stream_executor/platform/default/dso_loader.cc:49] Successfully opened dynamic library libcublasLt.so.11\n",
            "2021-10-12 18:03:17.864304: I tensorflow/stream_executor/platform/default/dso_loader.cc:49] Successfully opened dynamic library libcufft.so.10\n",
            "2021-10-12 18:03:17.872783: I tensorflow/stream_executor/platform/default/dso_loader.cc:49] Successfully opened dynamic library libcurand.so.10\n",
            "2021-10-12 18:03:17.898920: I tensorflow/stream_executor/platform/default/dso_loader.cc:49] Successfully opened dynamic library libcusolver.so.10\n",
            "2021-10-12 18:03:17.906224: I tensorflow/stream_executor/platform/default/dso_loader.cc:49] Successfully opened dynamic library libcusparse.so.11\n",
            "2021-10-12 18:03:17.909159: I tensorflow/stream_executor/platform/default/dso_loader.cc:49] Successfully opened dynamic library libcudnn.so.8\n",
            "2021-10-12 18:03:17.909369: I tensorflow/stream_executor/cuda/cuda_gpu_executor.cc:941] successful NUMA node read from SysFS had negative value (-1), but there must be at least one NUMA node, so returning NUMA node zero\n",
            "2021-10-12 18:03:17.910056: I tensorflow/stream_executor/cuda/cuda_gpu_executor.cc:941] successful NUMA node read from SysFS had negative value (-1), but there must be at least one NUMA node, so returning NUMA node zero\n",
            "2021-10-12 18:03:17.911574: I tensorflow/core/common_runtime/gpu/gpu_device.cc:1862] Adding visible gpu devices: 0\n",
            "2021-10-12 18:03:17.912318: I tensorflow/core/platform/cpu_feature_guard.cc:142] This TensorFlow binary is optimized with oneAPI Deep Neural Network Library (oneDNN) to use the following CPU instructions in performance-critical operations:  AVX2 AVX512F FMA\n",
            "To enable them in other operations, rebuild TensorFlow with the appropriate compiler flags.\n",
            "2021-10-12 18:03:17.912524: I tensorflow/compiler/jit/xla_gpu_device.cc:99] Not creating XLA devices, tf_xla_enable_xla_devices not set\n",
            "2021-10-12 18:03:17.912690: I tensorflow/stream_executor/cuda/cuda_gpu_executor.cc:941] successful NUMA node read from SysFS had negative value (-1), but there must be at least one NUMA node, so returning NUMA node zero\n",
            "2021-10-12 18:03:17.913299: I tensorflow/core/common_runtime/gpu/gpu_device.cc:1720] Found device 0 with properties: \n",
            "pciBusID: 0000:00:04.0 name: Tesla P100-PCIE-16GB computeCapability: 6.0\n",
            "coreClock: 1.3285GHz coreCount: 56 deviceMemorySize: 15.90GiB deviceMemoryBandwidth: 681.88GiB/s\n",
            "2021-10-12 18:03:17.913345: I tensorflow/stream_executor/platform/default/dso_loader.cc:49] Successfully opened dynamic library libcudart.so.11.0\n",
            "2021-10-12 18:03:17.913374: I tensorflow/stream_executor/platform/default/dso_loader.cc:49] Successfully opened dynamic library libcublas.so.11\n",
            "2021-10-12 18:03:17.913392: I tensorflow/stream_executor/platform/default/dso_loader.cc:49] Successfully opened dynamic library libcublasLt.so.11\n",
            "2021-10-12 18:03:17.913410: I tensorflow/stream_executor/platform/default/dso_loader.cc:49] Successfully opened dynamic library libcufft.so.10\n",
            "2021-10-12 18:03:17.913427: I tensorflow/stream_executor/platform/default/dso_loader.cc:49] Successfully opened dynamic library libcurand.so.10\n",
            "2021-10-12 18:03:17.913445: I tensorflow/stream_executor/platform/default/dso_loader.cc:49] Successfully opened dynamic library libcusolver.so.10\n",
            "2021-10-12 18:03:17.913477: I tensorflow/stream_executor/platform/default/dso_loader.cc:49] Successfully opened dynamic library libcusparse.so.11\n",
            "2021-10-12 18:03:17.913496: I tensorflow/stream_executor/platform/default/dso_loader.cc:49] Successfully opened dynamic library libcudnn.so.8\n",
            "2021-10-12 18:03:17.913582: I tensorflow/stream_executor/cuda/cuda_gpu_executor.cc:941] successful NUMA node read from SysFS had negative value (-1), but there must be at least one NUMA node, so returning NUMA node zero\n",
            "2021-10-12 18:03:17.914213: I tensorflow/stream_executor/cuda/cuda_gpu_executor.cc:941] successful NUMA node read from SysFS had negative value (-1), but there must be at least one NUMA node, so returning NUMA node zero\n",
            "2021-10-12 18:03:17.914765: I tensorflow/core/common_runtime/gpu/gpu_device.cc:1862] Adding visible gpu devices: 0\n",
            "2021-10-12 18:03:17.915857: I tensorflow/stream_executor/platform/default/dso_loader.cc:49] Successfully opened dynamic library libcudart.so.11.0\n",
            "2021-10-12 18:03:19.317911: I tensorflow/core/common_runtime/gpu/gpu_device.cc:1261] Device interconnect StreamExecutor with strength 1 edge matrix:\n",
            "2021-10-12 18:03:19.317959: I tensorflow/core/common_runtime/gpu/gpu_device.cc:1267]      0 \n",
            "2021-10-12 18:03:19.317970: I tensorflow/core/common_runtime/gpu/gpu_device.cc:1280] 0:   N \n",
            "2021-10-12 18:03:19.320220: I tensorflow/stream_executor/cuda/cuda_gpu_executor.cc:941] successful NUMA node read from SysFS had negative value (-1), but there must be at least one NUMA node, so returning NUMA node zero\n",
            "2021-10-12 18:03:19.320956: I tensorflow/stream_executor/cuda/cuda_gpu_executor.cc:941] successful NUMA node read from SysFS had negative value (-1), but there must be at least one NUMA node, so returning NUMA node zero\n",
            "2021-10-12 18:03:19.321584: I tensorflow/stream_executor/cuda/cuda_gpu_executor.cc:941] successful NUMA node read from SysFS had negative value (-1), but there must be at least one NUMA node, so returning NUMA node zero\n",
            "2021-10-12 18:03:19.322190: I tensorflow/core/common_runtime/gpu/gpu_device.cc:1406] Created TensorFlow device (/job:localhost/replica:0/task:0/device:GPU:0 with 14957 MB memory) -> physical GPU (device: 0, name: Tesla P100-PCIE-16GB, pci bus id: 0000:00:04.0, compute capability: 6.0)\n"
          ]
        },
        {
          "name": "stdout",
          "output_type": "stream",
          "text": [
            "Downloading data from https://storage.googleapis.com/tensorflow/keras-applications/densenet/densenet201_weights_tf_dim_ordering_tf_kernels_notop.h5\n",
            "74842112/74836368 [==============================] - 1s 0us/step\n"
          ]
        }
      ],
      "source": [
        "pretrained_model3 = tf.keras.applications.DenseNet201(input_shape=(36,48,3),include_top=False,weights='imagenet',pooling='avg')\n",
        "pretrained_model3.trainable = False"
      ]
    },
    {
      "cell_type": "code",
      "execution_count": null,
      "id": "53042d76",
      "metadata": {
        "execution": {
          "iopub.execute_input": "2021-10-12T18:03:25.791691Z",
          "iopub.status.busy": "2021-10-12T18:03:25.790559Z",
          "iopub.status.idle": "2021-10-12T18:03:25.844776Z",
          "shell.execute_reply": "2021-10-12T18:03:25.844367Z",
          "shell.execute_reply.started": "2021-10-12T17:56:39.082724Z"
        },
        "papermill": {
          "duration": 0.086074,
          "end_time": "2021-10-12T18:03:25.844911",
          "exception": false,
          "start_time": "2021-10-12T18:03:25.758837",
          "status": "completed"
        },
        "tags": [],
        "id": "53042d76"
      },
      "outputs": [],
      "source": [
        "inputs3 = pretrained_model3.input\n",
        "x3 = tf.keras.layers.Dense(128, activation='relu')(pretrained_model3.output)\n",
        "outputs3 = tf.keras.layers.Dense(len(Name), activation='softmax')(x3)\n",
        "model = tf.keras.Model(inputs=inputs3, outputs=outputs3)"
      ]
    },
    {
      "cell_type": "code",
      "execution_count": null,
      "id": "090b06ec",
      "metadata": {
        "execution": {
          "iopub.execute_input": "2021-10-12T18:03:25.911393Z",
          "iopub.status.busy": "2021-10-12T18:03:25.910841Z",
          "iopub.status.idle": "2021-10-12T18:03:25.920019Z",
          "shell.execute_reply": "2021-10-12T18:03:25.919610Z",
          "shell.execute_reply.started": "2021-10-12T17:56:39.421311Z"
        },
        "papermill": {
          "duration": 0.050131,
          "end_time": "2021-10-12T18:03:25.920124",
          "exception": false,
          "start_time": "2021-10-12T18:03:25.869993",
          "status": "completed"
        },
        "tags": [],
        "id": "090b06ec"
      },
      "outputs": [],
      "source": [
        "model.compile(optimizer='adam',loss='categorical_crossentropy',metrics=['accuracy'])"
      ]
    },
    {
      "cell_type": "code",
      "execution_count": null,
      "id": "97c01a09",
      "metadata": {
        "execution": {
          "iopub.execute_input": "2021-10-12T18:03:25.978217Z",
          "iopub.status.busy": "2021-10-12T18:03:25.977682Z",
          "iopub.status.idle": "2021-10-12T18:20:59.657423Z",
          "shell.execute_reply": "2021-10-12T18:20:59.655966Z",
          "shell.execute_reply.started": "2021-10-12T17:56:39.465561Z"
        },
        "papermill": {
          "duration": 1053.71218,
          "end_time": "2021-10-12T18:20:59.657560",
          "exception": false,
          "start_time": "2021-10-12T18:03:25.945380",
          "status": "completed"
        },
        "tags": [],
        "id": "97c01a09",
        "outputId": "d02d2503-c97b-42c7-ed91-69437f1474c4"
      },
      "outputs": [
        {
          "name": "stderr",
          "output_type": "stream",
          "text": [
            "2021-10-12 18:03:26.059030: I tensorflow/compiler/mlir/mlir_graph_optimization_pass.cc:116] None of the MLIR optimization passes are enabled (registered 2)\n",
            "2021-10-12 18:03:26.069691: I tensorflow/core/platform/profile_utils/cpu_utils.cc:112] CPU Frequency: 2000200000 Hz\n"
          ]
        },
        {
          "name": "stdout",
          "output_type": "stream",
          "text": [
            "Epoch 1/200\n"
          ]
        },
        {
          "name": "stderr",
          "output_type": "stream",
          "text": [
            "2021-10-12 18:03:35.243908: I tensorflow/stream_executor/platform/default/dso_loader.cc:49] Successfully opened dynamic library libcublas.so.11\n",
            "2021-10-12 18:03:36.013705: I tensorflow/stream_executor/platform/default/dso_loader.cc:49] Successfully opened dynamic library libcublasLt.so.11\n",
            "2021-10-12 18:03:36.037026: I tensorflow/stream_executor/platform/default/dso_loader.cc:49] Successfully opened dynamic library libcudnn.so.8\n"
          ]
        },
        {
          "name": "stdout",
          "output_type": "stream",
          "text": [
            "154/154 [==============================] - 25s 57ms/step - loss: 5.5551 - accuracy: 0.0277 - val_loss: 4.9887 - val_accuracy: 0.0464\n",
            "Epoch 2/200\n",
            "154/154 [==============================] - 5s 33ms/step - loss: 4.7742 - accuracy: 0.0595 - val_loss: 4.9591 - val_accuracy: 0.0562\n",
            "Epoch 3/200\n",
            "154/154 [==============================] - 5s 31ms/step - loss: 4.6411 - accuracy: 0.0670 - val_loss: 4.9376 - val_accuracy: 0.0643\n",
            "Epoch 4/200\n",
            "154/154 [==============================] - 5s 33ms/step - loss: 4.5062 - accuracy: 0.0812 - val_loss: 4.9195 - val_accuracy: 0.0611\n",
            "Epoch 5/200\n",
            "154/154 [==============================] - 5s 31ms/step - loss: 4.3505 - accuracy: 0.0971 - val_loss: 4.9333 - val_accuracy: 0.0651\n",
            "Epoch 6/200\n",
            "154/154 [==============================] - 5s 35ms/step - loss: 4.2360 - accuracy: 0.1021 - val_loss: 5.1522 - val_accuracy: 0.0651\n",
            "Epoch 7/200\n",
            "154/154 [==============================] - 5s 31ms/step - loss: 4.0780 - accuracy: 0.1226 - val_loss: 5.0547 - val_accuracy: 0.0668\n",
            "Epoch 8/200\n",
            "154/154 [==============================] - 5s 31ms/step - loss: 4.0325 - accuracy: 0.1299 - val_loss: 5.1962 - val_accuracy: 0.0627\n",
            "Epoch 9/200\n",
            "154/154 [==============================] - 5s 33ms/step - loss: 3.8628 - accuracy: 0.1438 - val_loss: 5.1871 - val_accuracy: 0.0684\n",
            "Epoch 10/200\n",
            "154/154 [==============================] - 5s 31ms/step - loss: 3.7523 - accuracy: 0.1589 - val_loss: 5.2338 - val_accuracy: 0.0578\n",
            "Epoch 11/200\n",
            "154/154 [==============================] - 5s 33ms/step - loss: 3.6887 - accuracy: 0.1663 - val_loss: 5.2987 - val_accuracy: 0.0529\n",
            "Epoch 12/200\n",
            "154/154 [==============================] - 5s 31ms/step - loss: 3.5674 - accuracy: 0.1754 - val_loss: 5.4618 - val_accuracy: 0.0578\n",
            "Epoch 13/200\n",
            "154/154 [==============================] - 5s 35ms/step - loss: 3.4637 - accuracy: 0.1888 - val_loss: 5.4879 - val_accuracy: 0.0578\n",
            "Epoch 14/200\n",
            "154/154 [==============================] - 5s 31ms/step - loss: 3.3891 - accuracy: 0.2026 - val_loss: 5.5547 - val_accuracy: 0.0603\n",
            "Epoch 15/200\n",
            "154/154 [==============================] - 5s 33ms/step - loss: 3.2590 - accuracy: 0.2163 - val_loss: 5.6464 - val_accuracy: 0.0586\n",
            "Epoch 16/200\n",
            "154/154 [==============================] - 5s 31ms/step - loss: 3.2490 - accuracy: 0.2218 - val_loss: 5.8176 - val_accuracy: 0.0660\n",
            "Epoch 17/200\n",
            "154/154 [==============================] - 5s 33ms/step - loss: 3.1008 - accuracy: 0.2557 - val_loss: 5.9241 - val_accuracy: 0.0497\n",
            "Epoch 18/200\n",
            "154/154 [==============================] - 5s 31ms/step - loss: 3.0479 - accuracy: 0.2586 - val_loss: 6.0473 - val_accuracy: 0.0537\n",
            "Epoch 19/200\n",
            "154/154 [==============================] - 5s 34ms/step - loss: 2.9794 - accuracy: 0.2674 - val_loss: 6.0835 - val_accuracy: 0.0505\n",
            "Epoch 20/200\n",
            "154/154 [==============================] - 5s 34ms/step - loss: 2.9427 - accuracy: 0.2734 - val_loss: 6.1858 - val_accuracy: 0.0546\n",
            "Epoch 21/200\n",
            "154/154 [==============================] - 5s 32ms/step - loss: 2.8472 - accuracy: 0.2873 - val_loss: 6.2729 - val_accuracy: 0.0546\n",
            "Epoch 22/200\n",
            "154/154 [==============================] - 5s 34ms/step - loss: 2.8212 - accuracy: 0.3052 - val_loss: 6.4299 - val_accuracy: 0.0586\n",
            "Epoch 23/200\n",
            "154/154 [==============================] - 5s 31ms/step - loss: 2.7302 - accuracy: 0.3301 - val_loss: 6.5471 - val_accuracy: 0.0521\n",
            "Epoch 24/200\n",
            "154/154 [==============================] - 5s 33ms/step - loss: 2.6760 - accuracy: 0.3431 - val_loss: 6.6463 - val_accuracy: 0.0578\n",
            "Epoch 25/200\n",
            "154/154 [==============================] - 5s 32ms/step - loss: 2.5695 - accuracy: 0.3603 - val_loss: 6.6796 - val_accuracy: 0.0651\n",
            "Epoch 26/200\n",
            "154/154 [==============================] - 6s 37ms/step - loss: 2.5586 - accuracy: 0.3630 - val_loss: 6.8238 - val_accuracy: 0.0529\n",
            "Epoch 27/200\n",
            "154/154 [==============================] - 5s 34ms/step - loss: 2.4996 - accuracy: 0.3783 - val_loss: 6.9614 - val_accuracy: 0.0586\n",
            "Epoch 28/200\n",
            "154/154 [==============================] - 5s 35ms/step - loss: 2.4801 - accuracy: 0.3783 - val_loss: 6.9710 - val_accuracy: 0.0619\n",
            "Epoch 29/200\n",
            "154/154 [==============================] - 5s 33ms/step - loss: 2.4292 - accuracy: 0.3837 - val_loss: 6.9519 - val_accuracy: 0.0668\n",
            "Epoch 30/200\n",
            "154/154 [==============================] - 6s 36ms/step - loss: 2.4141 - accuracy: 0.3901 - val_loss: 7.2358 - val_accuracy: 0.0546\n",
            "Epoch 31/200\n",
            "154/154 [==============================] - 5s 34ms/step - loss: 2.3518 - accuracy: 0.4142 - val_loss: 7.3909 - val_accuracy: 0.0554\n",
            "Epoch 32/200\n",
            "154/154 [==============================] - 5s 35ms/step - loss: 2.2664 - accuracy: 0.4253 - val_loss: 7.2707 - val_accuracy: 0.0497\n",
            "Epoch 33/200\n",
            "154/154 [==============================] - 5s 33ms/step - loss: 2.2305 - accuracy: 0.4379 - val_loss: 7.3137 - val_accuracy: 0.0521\n",
            "Epoch 34/200\n",
            "154/154 [==============================] - 5s 35ms/step - loss: 2.2468 - accuracy: 0.4168 - val_loss: 7.7262 - val_accuracy: 0.0586\n",
            "Epoch 35/200\n",
            "154/154 [==============================] - 5s 33ms/step - loss: 2.2225 - accuracy: 0.4429 - val_loss: 7.7160 - val_accuracy: 0.0497\n",
            "Epoch 36/200\n",
            "154/154 [==============================] - 5s 33ms/step - loss: 2.1296 - accuracy: 0.4612 - val_loss: 7.6728 - val_accuracy: 0.0521\n",
            "Epoch 37/200\n",
            "154/154 [==============================] - 5s 34ms/step - loss: 2.0781 - accuracy: 0.4620 - val_loss: 7.8426 - val_accuracy: 0.0537\n",
            "Epoch 38/200\n",
            "154/154 [==============================] - 5s 35ms/step - loss: 2.0820 - accuracy: 0.4638 - val_loss: 7.8802 - val_accuracy: 0.0586\n",
            "Epoch 39/200\n",
            "154/154 [==============================] - 6s 37ms/step - loss: 2.0382 - accuracy: 0.4708 - val_loss: 7.7780 - val_accuracy: 0.0578\n",
            "Epoch 40/200\n",
            "154/154 [==============================] - 5s 32ms/step - loss: 1.9765 - accuracy: 0.4967 - val_loss: 8.0392 - val_accuracy: 0.0513\n",
            "Epoch 41/200\n",
            "154/154 [==============================] - 5s 34ms/step - loss: 1.9881 - accuracy: 0.4826 - val_loss: 8.3469 - val_accuracy: 0.0529\n",
            "Epoch 42/200\n",
            "154/154 [==============================] - 5s 33ms/step - loss: 1.9208 - accuracy: 0.5079 - val_loss: 8.3182 - val_accuracy: 0.0480\n",
            "Epoch 43/200\n",
            "154/154 [==============================] - 5s 35ms/step - loss: 1.8729 - accuracy: 0.5156 - val_loss: 8.2525 - val_accuracy: 0.0505\n",
            "Epoch 44/200\n",
            "154/154 [==============================] - 5s 33ms/step - loss: 1.8759 - accuracy: 0.5232 - val_loss: 8.5388 - val_accuracy: 0.0440\n",
            "Epoch 45/200\n",
            "154/154 [==============================] - 6s 41ms/step - loss: 1.8248 - accuracy: 0.5298 - val_loss: 8.6001 - val_accuracy: 0.0480\n",
            "Epoch 46/200\n",
            "154/154 [==============================] - 5s 31ms/step - loss: 1.8179 - accuracy: 0.5251 - val_loss: 8.7297 - val_accuracy: 0.0480\n",
            "Epoch 47/200\n",
            "154/154 [==============================] - 5s 33ms/step - loss: 1.8342 - accuracy: 0.5124 - val_loss: 8.8011 - val_accuracy: 0.0456\n",
            "Epoch 48/200\n",
            "154/154 [==============================] - 5s 31ms/step - loss: 1.7297 - accuracy: 0.5605 - val_loss: 8.8485 - val_accuracy: 0.0505\n",
            "Epoch 49/200\n",
            "154/154 [==============================] - 5s 33ms/step - loss: 1.7252 - accuracy: 0.5558 - val_loss: 8.9428 - val_accuracy: 0.0472\n",
            "Epoch 50/200\n",
            "154/154 [==============================] - 5s 31ms/step - loss: 1.7058 - accuracy: 0.5607 - val_loss: 9.0270 - val_accuracy: 0.0521\n",
            "Epoch 51/200\n",
            "154/154 [==============================] - 6s 41ms/step - loss: 1.7268 - accuracy: 0.5457 - val_loss: 9.1835 - val_accuracy: 0.0464\n",
            "Epoch 52/200\n",
            "154/154 [==============================] - 5s 31ms/step - loss: 1.6243 - accuracy: 0.5794 - val_loss: 9.5642 - val_accuracy: 0.0554\n",
            "Epoch 53/200\n",
            "154/154 [==============================] - 5s 33ms/step - loss: 1.6391 - accuracy: 0.5701 - val_loss: 9.4559 - val_accuracy: 0.0423\n",
            "Epoch 54/200\n",
            "154/154 [==============================] - 5s 31ms/step - loss: 1.5935 - accuracy: 0.5759 - val_loss: 9.4852 - val_accuracy: 0.0497\n",
            "Epoch 55/200\n",
            "154/154 [==============================] - 5s 31ms/step - loss: 1.5830 - accuracy: 0.5864 - val_loss: 9.6173 - val_accuracy: 0.0480\n",
            "Epoch 56/200\n",
            "154/154 [==============================] - 5s 32ms/step - loss: 1.5824 - accuracy: 0.5922 - val_loss: 9.7530 - val_accuracy: 0.0423\n",
            "Epoch 57/200\n",
            "154/154 [==============================] - 6s 38ms/step - loss: 1.5928 - accuracy: 0.5851 - val_loss: 9.7021 - val_accuracy: 0.0423\n",
            "Epoch 58/200\n",
            "154/154 [==============================] - 5s 34ms/step - loss: 1.4952 - accuracy: 0.6050 - val_loss: 9.8241 - val_accuracy: 0.0464\n",
            "Epoch 59/200\n",
            "154/154 [==============================] - 5s 31ms/step - loss: 1.4638 - accuracy: 0.6164 - val_loss: 10.1273 - val_accuracy: 0.0505\n",
            "Epoch 60/200\n",
            "154/154 [==============================] - 5s 34ms/step - loss: 1.4641 - accuracy: 0.6132 - val_loss: 9.8889 - val_accuracy: 0.0464\n",
            "Epoch 61/200\n",
            "154/154 [==============================] - 5s 31ms/step - loss: 1.4170 - accuracy: 0.6372 - val_loss: 10.1528 - val_accuracy: 0.0472\n",
            "Epoch 62/200\n",
            "154/154 [==============================] - 5s 32ms/step - loss: 1.3856 - accuracy: 0.6487 - val_loss: 10.1836 - val_accuracy: 0.0456\n",
            "Epoch 63/200\n",
            "154/154 [==============================] - 5s 31ms/step - loss: 1.3894 - accuracy: 0.6436 - val_loss: 10.4644 - val_accuracy: 0.0472\n",
            "Epoch 64/200\n",
            "154/154 [==============================] - 6s 40ms/step - loss: 1.3805 - accuracy: 0.6339 - val_loss: 10.5646 - val_accuracy: 0.0472\n",
            "Epoch 65/200\n",
            "154/154 [==============================] - 5s 31ms/step - loss: 1.3507 - accuracy: 0.6487 - val_loss: 10.7794 - val_accuracy: 0.0432\n",
            "Epoch 66/200\n",
            "154/154 [==============================] - 5s 32ms/step - loss: 1.3654 - accuracy: 0.6411 - val_loss: 10.9002 - val_accuracy: 0.0464\n",
            "Epoch 67/200\n",
            "154/154 [==============================] - 5s 31ms/step - loss: 1.3347 - accuracy: 0.6481 - val_loss: 11.0478 - val_accuracy: 0.0448\n",
            "Epoch 68/200\n",
            "154/154 [==============================] - 5s 31ms/step - loss: 1.3244 - accuracy: 0.6466 - val_loss: 10.9364 - val_accuracy: 0.0505\n",
            "Epoch 69/200\n",
            "154/154 [==============================] - 5s 33ms/step - loss: 1.3050 - accuracy: 0.6589 - val_loss: 10.9414 - val_accuracy: 0.0423\n",
            "Epoch 70/200\n",
            "154/154 [==============================] - 6s 36ms/step - loss: 1.3434 - accuracy: 0.6356 - val_loss: 11.1658 - val_accuracy: 0.0432\n",
            "Epoch 71/200\n",
            "154/154 [==============================] - 5s 35ms/step - loss: 1.2521 - accuracy: 0.6686 - val_loss: 11.3170 - val_accuracy: 0.0472\n",
            "Epoch 72/200\n",
            "154/154 [==============================] - 5s 31ms/step - loss: 1.2406 - accuracy: 0.6834 - val_loss: 11.2922 - val_accuracy: 0.0423\n",
            "Epoch 73/200\n",
            "154/154 [==============================] - 5s 32ms/step - loss: 1.1931 - accuracy: 0.6888 - val_loss: 11.6179 - val_accuracy: 0.0456\n",
            "Epoch 74/200\n",
            "154/154 [==============================] - 5s 31ms/step - loss: 1.1534 - accuracy: 0.6913 - val_loss: 11.7309 - val_accuracy: 0.0432\n",
            "Epoch 75/200\n",
            "154/154 [==============================] - 5s 33ms/step - loss: 1.1422 - accuracy: 0.7043 - val_loss: 11.6170 - val_accuracy: 0.0423\n",
            "Epoch 76/200\n",
            "154/154 [==============================] - 5s 31ms/step - loss: 1.1308 - accuracy: 0.7076 - val_loss: 11.8719 - val_accuracy: 0.0399\n",
            "Epoch 77/200\n",
            "154/154 [==============================] - 6s 42ms/step - loss: 1.1330 - accuracy: 0.7025 - val_loss: 12.0200 - val_accuracy: 0.0456\n",
            "Epoch 78/200\n",
            "154/154 [==============================] - 5s 31ms/step - loss: 1.0750 - accuracy: 0.7292 - val_loss: 12.0979 - val_accuracy: 0.0472\n",
            "Epoch 79/200\n",
            "154/154 [==============================] - 5s 32ms/step - loss: 1.0879 - accuracy: 0.7120 - val_loss: 12.0802 - val_accuracy: 0.0456\n",
            "Epoch 80/200\n",
            "154/154 [==============================] - 5s 31ms/step - loss: 1.0818 - accuracy: 0.7208 - val_loss: 12.5695 - val_accuracy: 0.0456\n",
            "Epoch 81/200\n",
            "154/154 [==============================] - 5s 31ms/step - loss: 1.0756 - accuracy: 0.7157 - val_loss: 12.2843 - val_accuracy: 0.0448\n",
            "Epoch 82/200\n",
            "154/154 [==============================] - 5s 32ms/step - loss: 1.0395 - accuracy: 0.7320 - val_loss: 12.5556 - val_accuracy: 0.0399\n",
            "Epoch 83/200\n",
            "154/154 [==============================] - 6s 40ms/step - loss: 1.0345 - accuracy: 0.7300 - val_loss: 12.6133 - val_accuracy: 0.0366\n",
            "Epoch 84/200\n",
            "154/154 [==============================] - 5s 33ms/step - loss: 1.0487 - accuracy: 0.7237 - val_loss: 12.7019 - val_accuracy: 0.0448\n",
            "Epoch 85/200\n",
            "154/154 [==============================] - 5s 31ms/step - loss: 0.9888 - accuracy: 0.7501 - val_loss: 12.9164 - val_accuracy: 0.0440\n",
            "Epoch 86/200\n",
            "154/154 [==============================] - 5s 32ms/step - loss: 1.0122 - accuracy: 0.7293 - val_loss: 13.0430 - val_accuracy: 0.0415\n",
            "Epoch 87/200\n",
            "154/154 [==============================] - 5s 31ms/step - loss: 0.9785 - accuracy: 0.7443 - val_loss: 12.8528 - val_accuracy: 0.0448\n",
            "Epoch 88/200\n",
            "154/154 [==============================] - 5s 33ms/step - loss: 0.9688 - accuracy: 0.7521 - val_loss: 13.3972 - val_accuracy: 0.0375\n",
            "Epoch 89/200\n",
            "154/154 [==============================] - 6s 38ms/step - loss: 0.9472 - accuracy: 0.7542 - val_loss: 13.4901 - val_accuracy: 0.0399\n",
            "Epoch 90/200\n",
            "154/154 [==============================] - 6s 36ms/step - loss: 0.9256 - accuracy: 0.7576 - val_loss: 13.5264 - val_accuracy: 0.0456\n",
            "Epoch 91/200\n",
            "154/154 [==============================] - 5s 31ms/step - loss: 0.9188 - accuracy: 0.7589 - val_loss: 13.5795 - val_accuracy: 0.0399\n",
            "Epoch 92/200\n",
            "154/154 [==============================] - 5s 33ms/step - loss: 0.9070 - accuracy: 0.7643 - val_loss: 13.7516 - val_accuracy: 0.0448\n",
            "Epoch 93/200\n",
            "154/154 [==============================] - 5s 32ms/step - loss: 0.9148 - accuracy: 0.7604 - val_loss: 13.4667 - val_accuracy: 0.0440\n",
            "Epoch 94/200\n",
            "154/154 [==============================] - 5s 32ms/step - loss: 0.8943 - accuracy: 0.7704 - val_loss: 13.8171 - val_accuracy: 0.0423\n",
            "Epoch 95/200\n",
            "154/154 [==============================] - 5s 32ms/step - loss: 0.8281 - accuracy: 0.7900 - val_loss: 13.9730 - val_accuracy: 0.0423\n",
            "Epoch 96/200\n",
            "154/154 [==============================] - 7s 43ms/step - loss: 0.8667 - accuracy: 0.7766 - val_loss: 13.8899 - val_accuracy: 0.0456\n",
            "Epoch 97/200\n",
            "154/154 [==============================] - 5s 31ms/step - loss: 0.8796 - accuracy: 0.7696 - val_loss: 14.4596 - val_accuracy: 0.0489\n",
            "Epoch 98/200\n",
            "154/154 [==============================] - 5s 31ms/step - loss: 0.8672 - accuracy: 0.7718 - val_loss: 14.2163 - val_accuracy: 0.0448\n",
            "Epoch 99/200\n",
            "154/154 [==============================] - 5s 33ms/step - loss: 0.8083 - accuracy: 0.7909 - val_loss: 14.6097 - val_accuracy: 0.0391\n",
            "Epoch 100/200\n",
            "154/154 [==============================] - 5s 31ms/step - loss: 0.8237 - accuracy: 0.7900 - val_loss: 14.7544 - val_accuracy: 0.0432\n",
            "Epoch 101/200\n",
            "154/154 [==============================] - 5s 33ms/step - loss: 0.7913 - accuracy: 0.7958 - val_loss: 14.8744 - val_accuracy: 0.0480\n",
            "Epoch 102/200\n",
            "154/154 [==============================] - 6s 39ms/step - loss: 0.7850 - accuracy: 0.7987 - val_loss: 15.1635 - val_accuracy: 0.0456\n",
            "Epoch 103/200\n",
            "154/154 [==============================] - 5s 35ms/step - loss: 0.7904 - accuracy: 0.8053 - val_loss: 14.6969 - val_accuracy: 0.0464\n",
            "Epoch 104/200\n",
            "154/154 [==============================] - 5s 31ms/step - loss: 0.7572 - accuracy: 0.8128 - val_loss: 15.3127 - val_accuracy: 0.0415\n",
            "Epoch 105/200\n",
            "154/154 [==============================] - 5s 33ms/step - loss: 0.7577 - accuracy: 0.8059 - val_loss: 15.2846 - val_accuracy: 0.0456\n",
            "Epoch 106/200\n",
            "154/154 [==============================] - 5s 32ms/step - loss: 0.7238 - accuracy: 0.8134 - val_loss: 15.1264 - val_accuracy: 0.0472\n",
            "Epoch 107/200\n",
            "154/154 [==============================] - 5s 32ms/step - loss: 0.7246 - accuracy: 0.8129 - val_loss: 15.7194 - val_accuracy: 0.0423\n",
            "Epoch 108/200\n",
            "154/154 [==============================] - 5s 31ms/step - loss: 0.7005 - accuracy: 0.8216 - val_loss: 15.6897 - val_accuracy: 0.0432\n",
            "Epoch 109/200\n",
            "154/154 [==============================] - 7s 44ms/step - loss: 0.6987 - accuracy: 0.8227 - val_loss: 16.2035 - val_accuracy: 0.0358\n",
            "Epoch 110/200\n",
            "154/154 [==============================] - 5s 31ms/step - loss: 0.7151 - accuracy: 0.8111 - val_loss: 16.1816 - val_accuracy: 0.0415\n",
            "Epoch 111/200\n",
            "154/154 [==============================] - 5s 32ms/step - loss: 0.6739 - accuracy: 0.8185 - val_loss: 16.0301 - val_accuracy: 0.0407\n",
            "Epoch 112/200\n",
            "154/154 [==============================] - 5s 31ms/step - loss: 0.6361 - accuracy: 0.8404 - val_loss: 16.2731 - val_accuracy: 0.0358\n",
            "Epoch 113/200\n",
            "154/154 [==============================] - 5s 31ms/step - loss: 0.6578 - accuracy: 0.8339 - val_loss: 15.7975 - val_accuracy: 0.0440\n",
            "Epoch 114/200\n",
            "154/154 [==============================] - 5s 33ms/step - loss: 0.6594 - accuracy: 0.8280 - val_loss: 16.0488 - val_accuracy: 0.0432\n",
            "Epoch 115/200\n",
            "154/154 [==============================] - 7s 44ms/step - loss: 0.6459 - accuracy: 0.8363 - val_loss: 16.6687 - val_accuracy: 0.0375\n",
            "Epoch 116/200\n",
            "154/154 [==============================] - 5s 31ms/step - loss: 0.6119 - accuracy: 0.8442 - val_loss: 16.5484 - val_accuracy: 0.0432\n",
            "Epoch 117/200\n",
            "154/154 [==============================] - 5s 30ms/step - loss: 0.6227 - accuracy: 0.8407 - val_loss: 16.8299 - val_accuracy: 0.0407\n",
            "Epoch 118/200\n",
            "154/154 [==============================] - 5s 32ms/step - loss: 0.5926 - accuracy: 0.8487 - val_loss: 16.9385 - val_accuracy: 0.0399\n",
            "Epoch 119/200\n",
            "154/154 [==============================] - 5s 31ms/step - loss: 0.5970 - accuracy: 0.8470 - val_loss: 17.0324 - val_accuracy: 0.0350\n",
            "Epoch 120/200\n",
            "154/154 [==============================] - 5s 32ms/step - loss: 0.6065 - accuracy: 0.8493 - val_loss: 17.0892 - val_accuracy: 0.0383\n",
            "Epoch 121/200\n",
            "154/154 [==============================] - 5s 31ms/step - loss: 0.5566 - accuracy: 0.8605 - val_loss: 17.5589 - val_accuracy: 0.0375\n",
            "Epoch 122/200\n",
            "154/154 [==============================] - 7s 45ms/step - loss: 0.5760 - accuracy: 0.8564 - val_loss: 17.3771 - val_accuracy: 0.0399\n",
            "Epoch 123/200\n",
            "154/154 [==============================] - 5s 30ms/step - loss: 0.5775 - accuracy: 0.8553 - val_loss: 17.3050 - val_accuracy: 0.0448\n",
            "Epoch 124/200\n",
            "154/154 [==============================] - 5s 32ms/step - loss: 0.5192 - accuracy: 0.8778 - val_loss: 17.7994 - val_accuracy: 0.0366\n",
            "Epoch 125/200\n",
            "154/154 [==============================] - 5s 30ms/step - loss: 0.5677 - accuracy: 0.8600 - val_loss: 17.4973 - val_accuracy: 0.0432\n",
            "Epoch 126/200\n",
            "154/154 [==============================] - 5s 30ms/step - loss: 0.5287 - accuracy: 0.8724 - val_loss: 17.8366 - val_accuracy: 0.0415\n",
            "Epoch 127/200\n",
            "154/154 [==============================] - 5s 32ms/step - loss: 0.6034 - accuracy: 0.8405 - val_loss: 17.9450 - val_accuracy: 0.0399\n",
            "Epoch 128/200\n",
            "154/154 [==============================] - 5s 33ms/step - loss: 0.5714 - accuracy: 0.8502 - val_loss: 18.1332 - val_accuracy: 0.0423\n",
            "Epoch 129/200\n",
            "154/154 [==============================] - 6s 42ms/step - loss: 0.5511 - accuracy: 0.8564 - val_loss: 18.1798 - val_accuracy: 0.0391\n",
            "Epoch 130/200\n",
            "154/154 [==============================] - 5s 31ms/step - loss: 0.5025 - accuracy: 0.8793 - val_loss: 18.4895 - val_accuracy: 0.0383\n",
            "Epoch 131/200\n",
            "154/154 [==============================] - 5s 32ms/step - loss: 0.4664 - accuracy: 0.8912 - val_loss: 18.1549 - val_accuracy: 0.0342\n",
            "Epoch 132/200\n",
            "154/154 [==============================] - 5s 30ms/step - loss: 0.4837 - accuracy: 0.8863 - val_loss: 18.5319 - val_accuracy: 0.0399\n",
            "Epoch 133/200\n",
            "154/154 [==============================] - 5s 32ms/step - loss: 0.5113 - accuracy: 0.8698 - val_loss: 18.9817 - val_accuracy: 0.0350\n",
            "Epoch 134/200\n",
            "154/154 [==============================] - 5s 30ms/step - loss: 0.4872 - accuracy: 0.8804 - val_loss: 18.7031 - val_accuracy: 0.0407\n",
            "Epoch 135/200\n",
            "154/154 [==============================] - 7s 43ms/step - loss: 0.4376 - accuracy: 0.9034 - val_loss: 18.9212 - val_accuracy: 0.0366\n",
            "Epoch 136/200\n",
            "154/154 [==============================] - 5s 33ms/step - loss: 0.4914 - accuracy: 0.8822 - val_loss: 19.0680 - val_accuracy: 0.0399\n",
            "Epoch 137/200\n",
            "154/154 [==============================] - 5s 32ms/step - loss: 0.4343 - accuracy: 0.8997 - val_loss: 19.1194 - val_accuracy: 0.0366\n",
            "Epoch 138/200\n",
            "154/154 [==============================] - 5s 31ms/step - loss: 0.4836 - accuracy: 0.8727 - val_loss: 19.4901 - val_accuracy: 0.0432\n",
            "Epoch 139/200\n",
            "154/154 [==============================] - 5s 32ms/step - loss: 0.4371 - accuracy: 0.8956 - val_loss: 19.3606 - val_accuracy: 0.0375\n",
            "Epoch 140/200\n",
            "154/154 [==============================] - 5s 33ms/step - loss: 0.4590 - accuracy: 0.8859 - val_loss: 19.8007 - val_accuracy: 0.0350\n",
            "Epoch 141/200\n",
            "154/154 [==============================] - 6s 37ms/step - loss: 0.4796 - accuracy: 0.8784 - val_loss: 19.9601 - val_accuracy: 0.0366\n",
            "Epoch 142/200\n",
            "154/154 [==============================] - 7s 43ms/step - loss: 0.4356 - accuracy: 0.8891 - val_loss: 20.2513 - val_accuracy: 0.0358\n",
            "Epoch 143/200\n",
            "154/154 [==============================] - 5s 33ms/step - loss: 0.4171 - accuracy: 0.8959 - val_loss: 19.8992 - val_accuracy: 0.0391\n",
            "Epoch 144/200\n",
            "154/154 [==============================] - 5s 31ms/step - loss: 0.4377 - accuracy: 0.8914 - val_loss: 20.3335 - val_accuracy: 0.0440\n",
            "Epoch 145/200\n",
            "154/154 [==============================] - 5s 31ms/step - loss: 0.4137 - accuracy: 0.8967 - val_loss: 20.2183 - val_accuracy: 0.0375\n",
            "Epoch 146/200\n",
            "154/154 [==============================] - 5s 33ms/step - loss: 0.4301 - accuracy: 0.8918 - val_loss: 20.2614 - val_accuracy: 0.0391\n",
            "Epoch 147/200\n",
            "154/154 [==============================] - 5s 34ms/step - loss: 0.4477 - accuracy: 0.8822 - val_loss: 20.5681 - val_accuracy: 0.0375\n",
            "Epoch 148/200\n",
            "154/154 [==============================] - 6s 39ms/step - loss: 0.4008 - accuracy: 0.8991 - val_loss: 20.6426 - val_accuracy: 0.0375\n",
            "Epoch 149/200\n",
            "154/154 [==============================] - 6s 36ms/step - loss: 0.4609 - accuracy: 0.8833 - val_loss: 20.2995 - val_accuracy: 0.0415\n",
            "Epoch 150/200\n",
            "154/154 [==============================] - 5s 33ms/step - loss: 0.3678 - accuracy: 0.9171 - val_loss: 20.8609 - val_accuracy: 0.0383\n",
            "Epoch 151/200\n",
            "154/154 [==============================] - 5s 31ms/step - loss: 0.3879 - accuracy: 0.9057 - val_loss: 20.7990 - val_accuracy: 0.0415\n",
            "Epoch 152/200\n",
            "154/154 [==============================] - 5s 33ms/step - loss: 0.3688 - accuracy: 0.9100 - val_loss: 21.2553 - val_accuracy: 0.0423\n",
            "Epoch 153/200\n",
            "154/154 [==============================] - 5s 31ms/step - loss: 0.3496 - accuracy: 0.9199 - val_loss: 21.4282 - val_accuracy: 0.0375\n",
            "Epoch 154/200\n",
            "154/154 [==============================] - 6s 36ms/step - loss: 0.3265 - accuracy: 0.9319 - val_loss: 21.1346 - val_accuracy: 0.0375\n",
            "Epoch 155/200\n",
            "154/154 [==============================] - 7s 43ms/step - loss: 0.3215 - accuracy: 0.9282 - val_loss: 21.3744 - val_accuracy: 0.0407\n",
            "Epoch 156/200\n",
            "154/154 [==============================] - 5s 32ms/step - loss: 0.3395 - accuracy: 0.9214 - val_loss: 21.5471 - val_accuracy: 0.0383\n",
            "Epoch 157/200\n",
            "154/154 [==============================] - 5s 31ms/step - loss: 0.3524 - accuracy: 0.9142 - val_loss: 21.8475 - val_accuracy: 0.0383\n",
            "Epoch 158/200\n",
            "154/154 [==============================] - 5s 33ms/step - loss: 0.3871 - accuracy: 0.9043 - val_loss: 21.4012 - val_accuracy: 0.0399\n",
            "Epoch 159/200\n",
            "154/154 [==============================] - 5s 33ms/step - loss: 0.3532 - accuracy: 0.9164 - val_loss: 22.5108 - val_accuracy: 0.0423\n",
            "Epoch 160/200\n",
            "154/154 [==============================] - 5s 35ms/step - loss: 0.3062 - accuracy: 0.9357 - val_loss: 22.1458 - val_accuracy: 0.0366\n",
            "Epoch 161/200\n",
            "154/154 [==============================] - 5s 35ms/step - loss: 0.3091 - accuracy: 0.9287 - val_loss: 21.8848 - val_accuracy: 0.0358\n",
            "Epoch 162/200\n",
            "154/154 [==============================] - 6s 41ms/step - loss: 0.3256 - accuracy: 0.9285 - val_loss: 22.1940 - val_accuracy: 0.0366\n",
            "Epoch 163/200\n",
            "154/154 [==============================] - 5s 31ms/step - loss: 0.3480 - accuracy: 0.9129 - val_loss: 22.3010 - val_accuracy: 0.0309\n",
            "Epoch 164/200\n",
            "154/154 [==============================] - 5s 33ms/step - loss: 0.3110 - accuracy: 0.9340 - val_loss: 22.4922 - val_accuracy: 0.0383\n",
            "Epoch 165/200\n",
            "154/154 [==============================] - 5s 32ms/step - loss: 0.2544 - accuracy: 0.9480 - val_loss: 22.7218 - val_accuracy: 0.0415\n",
            "Epoch 166/200\n",
            "154/154 [==============================] - 5s 35ms/step - loss: 0.2546 - accuracy: 0.9462 - val_loss: 23.0172 - val_accuracy: 0.0383\n",
            "Epoch 167/200\n",
            "154/154 [==============================] - 5s 31ms/step - loss: 0.2558 - accuracy: 0.9472 - val_loss: 22.8680 - val_accuracy: 0.0366\n",
            "Epoch 168/200\n",
            "154/154 [==============================] - 7s 45ms/step - loss: 0.3670 - accuracy: 0.9072 - val_loss: 23.0001 - val_accuracy: 0.0383\n",
            "Epoch 169/200\n",
            "154/154 [==============================] - 5s 32ms/step - loss: 0.3691 - accuracy: 0.8964 - val_loss: 23.2121 - val_accuracy: 0.0383\n",
            "Epoch 170/200\n",
            "154/154 [==============================] - 5s 31ms/step - loss: 0.2691 - accuracy: 0.9433 - val_loss: 23.3098 - val_accuracy: 0.0423\n",
            "Epoch 171/200\n",
            "154/154 [==============================] - 5s 32ms/step - loss: 0.2257 - accuracy: 0.9594 - val_loss: 22.6773 - val_accuracy: 0.0342\n",
            "Epoch 172/200\n",
            "154/154 [==============================] - 5s 34ms/step - loss: 0.3976 - accuracy: 0.8889 - val_loss: 23.6820 - val_accuracy: 0.0391\n",
            "Epoch 173/200\n",
            "154/154 [==============================] - 5s 35ms/step - loss: 0.2819 - accuracy: 0.9378 - val_loss: 23.7089 - val_accuracy: 0.0375\n",
            "Epoch 174/200\n",
            "154/154 [==============================] - 5s 31ms/step - loss: 0.2809 - accuracy: 0.9335 - val_loss: 23.4205 - val_accuracy: 0.0407\n",
            "Epoch 175/200\n",
            "154/154 [==============================] - 7s 46ms/step - loss: 0.2240 - accuracy: 0.9599 - val_loss: 23.7840 - val_accuracy: 0.0448\n",
            "Epoch 176/200\n",
            "154/154 [==============================] - 5s 31ms/step - loss: 0.1947 - accuracy: 0.9700 - val_loss: 24.0979 - val_accuracy: 0.0399\n",
            "Epoch 177/200\n",
            "154/154 [==============================] - 5s 33ms/step - loss: 0.2125 - accuracy: 0.9620 - val_loss: 24.2854 - val_accuracy: 0.0432\n",
            "Epoch 178/200\n",
            "154/154 [==============================] - 5s 34ms/step - loss: 0.2074 - accuracy: 0.9661 - val_loss: 23.9008 - val_accuracy: 0.0383\n",
            "Epoch 179/200\n",
            "154/154 [==============================] - 5s 32ms/step - loss: 0.2074 - accuracy: 0.9614 - val_loss: 23.8748 - val_accuracy: 0.0366\n",
            "Epoch 180/200\n",
            "154/154 [==============================] - 5s 31ms/step - loss: 0.2901 - accuracy: 0.9230 - val_loss: 24.4289 - val_accuracy: 0.0366\n",
            "Epoch 181/200\n",
            "154/154 [==============================] - 6s 37ms/step - loss: 0.2371 - accuracy: 0.9480 - val_loss: 24.5400 - val_accuracy: 0.0407\n",
            "Epoch 182/200\n",
            "154/154 [==============================] - 6s 41ms/step - loss: 0.2287 - accuracy: 0.9516 - val_loss: 24.9301 - val_accuracy: 0.0391\n",
            "Epoch 183/200\n",
            "154/154 [==============================] - 5s 32ms/step - loss: 0.2854 - accuracy: 0.9210 - val_loss: 24.4189 - val_accuracy: 0.0383\n",
            "Epoch 184/200\n",
            "154/154 [==============================] - 5s 31ms/step - loss: 0.2527 - accuracy: 0.9399 - val_loss: 24.9324 - val_accuracy: 0.0375\n",
            "Epoch 185/200\n",
            "154/154 [==============================] - 6s 37ms/step - loss: 0.2295 - accuracy: 0.9508 - val_loss: 24.7747 - val_accuracy: 0.0391\n",
            "Epoch 186/200\n",
            "154/154 [==============================] - 5s 31ms/step - loss: 0.2611 - accuracy: 0.9369 - val_loss: 24.9360 - val_accuracy: 0.0432\n",
            "Epoch 187/200\n",
            "154/154 [==============================] - 5s 32ms/step - loss: 0.1795 - accuracy: 0.9688 - val_loss: 24.9600 - val_accuracy: 0.0423\n",
            "Epoch 188/200\n",
            "154/154 [==============================] - 6s 42ms/step - loss: 0.1659 - accuracy: 0.9719 - val_loss: 25.0083 - val_accuracy: 0.0366\n",
            "Epoch 189/200\n",
            "154/154 [==============================] - 6s 36ms/step - loss: 0.1786 - accuracy: 0.9660 - val_loss: 25.5457 - val_accuracy: 0.0375\n",
            "Epoch 190/200\n",
            "154/154 [==============================] - 5s 31ms/step - loss: 0.2285 - accuracy: 0.9500 - val_loss: 25.4569 - val_accuracy: 0.0318\n",
            "Epoch 191/200\n",
            "154/154 [==============================] - 5s 35ms/step - loss: 0.4544 - accuracy: 0.8614 - val_loss: 26.3666 - val_accuracy: 0.0407\n",
            "Epoch 192/200\n",
            "154/154 [==============================] - 5s 31ms/step - loss: 0.3662 - accuracy: 0.8918 - val_loss: 26.0611 - val_accuracy: 0.0407\n",
            "Epoch 193/200\n",
            "154/154 [==============================] - 5s 31ms/step - loss: 0.2009 - accuracy: 0.9569 - val_loss: 25.9453 - val_accuracy: 0.0399\n",
            "Epoch 194/200\n",
            "154/154 [==============================] - 5s 31ms/step - loss: 0.1494 - accuracy: 0.9772 - val_loss: 25.8403 - val_accuracy: 0.0399\n",
            "Epoch 195/200\n",
            "154/154 [==============================] - 7s 48ms/step - loss: 0.1465 - accuracy: 0.9779 - val_loss: 26.3458 - val_accuracy: 0.0432\n",
            "Epoch 196/200\n",
            "154/154 [==============================] - 5s 31ms/step - loss: 0.1223 - accuracy: 0.9886 - val_loss: 26.4252 - val_accuracy: 0.0399\n",
            "Epoch 197/200\n",
            "154/154 [==============================] - 6s 36ms/step - loss: 0.1290 - accuracy: 0.9862 - val_loss: 26.2135 - val_accuracy: 0.0432\n",
            "Epoch 198/200\n",
            "154/154 [==============================] - 5s 31ms/step - loss: 0.1394 - accuracy: 0.9825 - val_loss: 26.4159 - val_accuracy: 0.0375\n",
            "Epoch 199/200\n",
            "154/154 [==============================] - 5s 31ms/step - loss: 0.1211 - accuracy: 0.9872 - val_loss: 26.1026 - val_accuracy: 0.0375\n",
            "Epoch 200/200\n",
            "154/154 [==============================] - 5s 32ms/step - loss: 0.3580 - accuracy: 0.8923 - val_loss: 27.1095 - val_accuracy: 0.0432\n"
          ]
        }
      ],
      "source": [
        "his=model.fit(trainx,trainy,batch_size=32,validation_data=(testx,testy),epochs=200)\n",
        "#his=model.fit(datagen.flow(trainx,trainy,batch_size=32),validation_data=(testx,testy),epochs=2)"
      ]
    },
    {
      "cell_type": "code",
      "execution_count": null,
      "id": "a3d7e799",
      "metadata": {
        "execution": {
          "iopub.execute_input": "2021-10-12T18:21:06.636889Z",
          "iopub.status.busy": "2021-10-12T18:21:06.635957Z",
          "iopub.status.idle": "2021-10-12T18:21:10.139792Z",
          "shell.execute_reply": "2021-10-12T18:21:10.138187Z",
          "shell.execute_reply.started": "2021-10-12T17:57:09.070562Z"
        },
        "papermill": {
          "duration": 7.083559,
          "end_time": "2021-10-12T18:21:10.139980",
          "exception": false,
          "start_time": "2021-10-12T18:21:03.056421",
          "status": "completed"
        },
        "tags": [],
        "id": "a3d7e799",
        "outputId": "1ae89a65-ee9a-427e-8377-98cbe14ccb4c"
      },
      "outputs": [
        {
          "name": "stdout",
          "output_type": "stream",
          "text": [
            "              precision    recall  f1-score   support\n",
            "\n",
            "           0       0.04      0.06      0.05        18\n",
            "           1       0.00      0.00      0.00         1\n",
            "           2       0.00      0.00      0.00        10\n",
            "           3       0.08      0.12      0.10         8\n",
            "           4       0.07      0.08      0.08        36\n",
            "           5       0.00      0.00      0.00         1\n",
            "           6       0.03      0.03      0.03        35\n",
            "           7       0.00      0.00      0.00         7\n",
            "           8       0.04      0.07      0.05        28\n",
            "           9       0.00      0.00      0.00         1\n",
            "          10       0.00      0.00      0.00         9\n",
            "          11       0.10      0.09      0.09        43\n",
            "          13       0.00      0.00      0.00         4\n",
            "          14       0.00      0.00      0.00        15\n",
            "          15       0.00      0.00      0.00         8\n",
            "          16       0.11      0.11      0.11        45\n",
            "          17       0.04      0.04      0.04        26\n",
            "          18       0.20      0.08      0.11        13\n",
            "          19       0.11      0.07      0.08        46\n",
            "          21       0.17      0.15      0.16        47\n",
            "          22       0.00      0.00      0.00         2\n",
            "          23       0.07      0.07      0.07        30\n",
            "          24       0.06      0.06      0.06        16\n",
            "          25       0.00      0.00      0.00         3\n",
            "          26       0.00      0.00      0.00         3\n",
            "          27       0.00      0.00      0.00         3\n",
            "          28       0.00      0.00      0.00         8\n",
            "          29       0.00      0.00      0.00         1\n",
            "          30       0.16      0.12      0.14        40\n",
            "          31       0.00      0.00      0.00         3\n",
            "          33       0.00      0.00      0.00        14\n",
            "          34       0.08      0.10      0.09        10\n",
            "          35       0.00      0.00      0.00         0\n",
            "          36       0.00      0.00      0.00         2\n",
            "          37       0.00      0.00      0.00         5\n",
            "          38       0.00      0.00      0.00        14\n",
            "          39       0.00      0.00      0.00         1\n",
            "          40       0.00      0.00      0.00         2\n",
            "          41       0.07      0.10      0.08        31\n",
            "          42       0.00      0.00      0.00         1\n",
            "          43       0.11      0.11      0.11        19\n",
            "          44       0.06      0.06      0.06        18\n",
            "          45       0.06      0.06      0.06        31\n",
            "          46       0.00      0.00      0.00         1\n",
            "          47       0.00      0.00      0.00        28\n",
            "          48       0.00      0.00      0.00         1\n",
            "          49       0.00      0.00      0.00         2\n",
            "          50       0.00      0.00      0.00         0\n",
            "          51       0.00      0.00      0.00         5\n",
            "          52       0.00      0.00      0.00         0\n",
            "          53       0.00      0.00      0.00         1\n",
            "          54       0.00      0.00      0.00         1\n",
            "          55       0.00      0.00      0.00         3\n",
            "          56       0.07      0.10      0.08        20\n",
            "          57       0.08      0.07      0.07        30\n",
            "          58       0.00      0.00      0.00         4\n",
            "          59       0.00      0.00      0.00         3\n",
            "          60       0.00      0.00      0.00         4\n",
            "          61       0.00      0.00      0.00         2\n",
            "          62       0.00      0.00      0.00         2\n",
            "          63       0.00      0.00      0.00         3\n",
            "          64       0.00      0.00      0.00         7\n",
            "          65       0.00      0.00      0.00         1\n",
            "          66       0.00      0.00      0.00         3\n",
            "          67       0.00      0.00      0.00        10\n",
            "          68       0.00      0.00      0.00         8\n",
            "          69       0.00      0.00      0.00         1\n",
            "          70       0.00      0.00      0.00         4\n",
            "          71       0.00      0.00      0.00         2\n",
            "          72       0.00      0.00      0.00         8\n",
            "          73       0.00      0.00      0.00        12\n",
            "          75       0.00      0.00      0.00         2\n",
            "          76       0.00      0.00      0.00        18\n",
            "          77       0.05      0.12      0.07         8\n",
            "          78       0.00      0.00      0.00         1\n",
            "          79       0.00      0.00      0.00         0\n",
            "          80       0.00      0.00      0.00         9\n",
            "          81       0.00      0.00      0.00        17\n",
            "          82       0.00      0.00      0.00         1\n",
            "          84       0.00      0.00      0.00         3\n",
            "          85       0.00      0.00      0.00         2\n",
            "          86       0.00      0.00      0.00         3\n",
            "          87       0.00      0.00      0.00         6\n",
            "          88       0.00      0.00      0.00         4\n",
            "          90       0.00      0.00      0.00         4\n",
            "          91       0.00      0.00      0.00         2\n",
            "          93       0.00      0.00      0.00         2\n",
            "          94       0.00      0.00      0.00         0\n",
            "          95       0.00      0.00      0.00         3\n",
            "          96       0.00      0.00      0.00         4\n",
            "          98       0.00      0.00      0.00        12\n",
            "         100       0.00      0.00      0.00         3\n",
            "         101       0.00      0.00      0.00         4\n",
            "         102       0.00      0.00      0.00         4\n",
            "         103       0.00      0.00      0.00         1\n",
            "         104       0.00      0.00      0.00         1\n",
            "         105       0.00      0.00      0.00         3\n",
            "         106       0.00      0.00      0.00         0\n",
            "         107       0.00      0.00      0.00         8\n",
            "         108       0.00      0.00      0.00         2\n",
            "         109       0.00      0.00      0.00         6\n",
            "         110       0.00      0.00      0.00         5\n",
            "         113       0.00      0.00      0.00         2\n",
            "         114       0.00      0.00      0.00         2\n",
            "         116       0.00      0.00      0.00         1\n",
            "         117       0.00      0.00      0.00         2\n",
            "         118       0.00      0.00      0.00         1\n",
            "         119       0.00      0.00      0.00         1\n",
            "         120       0.00      0.00      0.00         1\n",
            "         121       0.00      0.00      0.00         3\n",
            "         123       0.00      0.00      0.00         6\n",
            "         124       0.00      0.00      0.00         1\n",
            "         126       0.00      0.00      0.00         2\n",
            "         127       0.00      0.00      0.00         4\n",
            "         128       0.00      0.00      0.00         8\n",
            "         130       0.00      0.00      0.00         1\n",
            "         132       0.00      0.00      0.00         2\n",
            "         133       0.00      0.00      0.00         2\n",
            "         136       0.00      0.00      0.00         1\n",
            "         137       0.00      0.00      0.00         2\n",
            "         138       0.00      0.00      0.00         4\n",
            "         139       0.00      0.00      0.00         2\n",
            "         141       1.00      0.25      0.40         4\n",
            "         142       0.00      0.00      0.00         6\n",
            "         143       0.00      0.00      0.00         4\n",
            "         144       0.00      0.00      0.00         4\n",
            "         145       0.00      0.00      0.00         2\n",
            "         147       0.00      0.00      0.00         1\n",
            "         148       0.00      0.00      0.00         1\n",
            "         149       0.00      0.00      0.00         0\n",
            "         150       0.50      0.25      0.33         4\n",
            "         151       0.00      0.00      0.00         4\n",
            "         152       0.00      0.00      0.00         3\n",
            "         153       0.00      0.00      0.00         1\n",
            "         154       0.00      0.00      0.00         2\n",
            "         155       0.00      0.00      0.00         1\n",
            "         157       0.00      0.00      0.00         1\n",
            "         160       0.00      0.00      0.00         1\n",
            "         161       0.00      0.00      0.00         2\n",
            "         162       0.00      0.00      0.00         2\n",
            "         163       0.00      0.00      0.00         2\n",
            "         164       0.00      0.00      0.00         1\n",
            "         165       0.00      0.00      0.00         0\n",
            "         167       0.00      0.00      0.00         3\n",
            "         168       0.00      0.00      0.00         0\n",
            "         170       0.00      0.00      0.00         2\n",
            "         171       0.00      0.00      0.00         2\n",
            "         172       0.00      0.00      0.00         1\n",
            "         176       0.00      0.00      0.00         1\n",
            "         177       0.00      0.00      0.00         2\n",
            "         178       0.00      0.00      0.00         5\n",
            "         179       0.00      0.00      0.00         2\n",
            "         180       0.00      0.00      0.00         0\n",
            "         182       0.00      0.00      0.00         1\n",
            "         183       0.00      0.00      0.00         5\n",
            "         184       0.00      0.00      0.00         1\n",
            "         186       0.00      0.00      0.00         1\n",
            "         187       0.00      0.00      0.00         1\n",
            "         188       0.00      0.00      0.00         4\n",
            "         189       0.00      0.00      0.00         1\n",
            "         190       0.00      0.00      0.00         0\n",
            "         191       0.00      0.00      0.00         0\n",
            "         192       0.00      0.00      0.00         1\n",
            "         193       0.00      0.00      0.00         1\n",
            "         195       0.00      0.00      0.00         0\n",
            "         196       0.00      0.00      0.00         1\n",
            "         197       0.00      0.00      0.00         2\n",
            "         198       0.00      0.00      0.00         3\n",
            "         199       0.00      0.00      0.00         1\n",
            "         200       0.00      0.00      0.00         1\n",
            "         201       0.00      0.00      0.00         4\n",
            "         203       0.00      0.00      0.00         0\n",
            "         205       0.00      0.00      0.00         1\n",
            "         206       0.00      0.00      0.00         2\n",
            "         207       0.00      0.00      0.00         6\n",
            "         209       0.00      0.00      0.00         1\n",
            "         210       0.00      0.00      0.00         1\n",
            "         213       0.00      0.00      0.00         2\n",
            "         214       0.00      0.00      0.00         1\n",
            "         215       0.00      0.00      0.00         7\n",
            "         216       0.00      0.00      0.00         1\n",
            "         217       0.00      0.00      0.00         1\n",
            "         219       0.00      0.00      0.00         1\n",
            "         222       0.00      0.00      0.00         3\n",
            "         224       0.00      0.00      0.00         4\n",
            "         225       0.00      0.00      0.00         5\n",
            "         227       0.00      0.00      0.00         2\n",
            "         229       0.00      0.00      0.00         0\n",
            "         231       0.00      0.00      0.00         0\n",
            "         232       0.00      0.00      0.00         1\n",
            "         234       0.00      0.00      0.00         1\n",
            "         235       0.00      0.00      0.00         1\n",
            "         237       0.00      0.00      0.00         0\n",
            "         238       0.00      0.00      0.00         2\n",
            "         239       0.00      0.00      0.00         0\n",
            "         240       0.00      0.00      0.00         2\n",
            "         241       0.00      0.00      0.00         0\n",
            "         242       0.00      0.00      0.00         1\n",
            "         243       0.00      0.00      0.00         1\n",
            "         244       0.00      0.00      0.00         2\n",
            "         245       0.00      0.00      0.00         1\n",
            "         246       0.00      0.00      0.00         1\n",
            "         247       0.00      0.00      0.00         1\n",
            "         249       0.00      0.00      0.00         1\n",
            "         251       0.00      0.00      0.00         1\n",
            "         252       0.00      0.00      0.00         1\n",
            "         253       0.00      0.00      0.00         1\n",
            "         254       0.00      0.00      0.00         1\n",
            "         255       0.00      0.00      0.00         1\n",
            "         258       0.00      0.00      0.00         0\n",
            "         259       0.00      0.00      0.00         1\n",
            "         262       0.00      0.00      0.00         1\n",
            "         264       0.00      0.00      0.00         1\n",
            "         265       0.00      0.00      0.00         1\n",
            "         266       0.00      0.00      0.00         1\n",
            "         267       0.00      0.00      0.00         1\n",
            "         268       0.00      0.00      0.00         1\n",
            "         272       0.00      0.00      0.00         4\n",
            "         273       0.00      0.00      0.00         1\n",
            "         274       0.00      0.00      0.00         1\n",
            "         275       0.00      0.00      0.00         4\n",
            "         276       0.00      0.00      0.00         1\n",
            "         277       0.00      0.00      0.00         1\n",
            "         278       0.00      0.00      0.00         0\n",
            "         281       0.00      0.00      0.00         1\n",
            "         286       0.00      0.00      0.00         1\n",
            "         287       0.00      0.00      0.00         3\n",
            "         289       0.00      0.00      0.00         0\n",
            "         293       0.00      0.00      0.00         1\n",
            "         294       0.00      0.00      0.00         1\n",
            "         295       0.00      0.00      0.00         4\n",
            "         297       0.00      0.00      0.00         1\n",
            "         299       0.00      0.00      0.00         0\n",
            "         301       0.00      0.00      0.00         1\n",
            "         304       0.00      0.00      0.00         1\n",
            "         306       0.00      0.00      0.00         1\n",
            "         309       0.00      0.00      0.00         1\n",
            "         311       0.00      0.00      0.00         0\n",
            "         313       0.00      0.00      0.00         0\n",
            "         315       0.00      0.00      0.00         1\n",
            "         321       0.00      0.00      0.00         0\n",
            "         322       0.00      0.00      0.00         1\n",
            "         323       0.00      0.00      0.00         2\n",
            "         324       0.00      0.00      0.00         1\n",
            "         325       0.00      0.00      0.00         1\n",
            "         326       0.00      0.00      0.00         0\n",
            "         330       0.00      0.00      0.00         1\n",
            "         336       0.00      0.00      0.00         1\n",
            "         345       0.00      0.00      0.00         1\n",
            "         351       0.00      0.00      0.00         1\n",
            "         352       0.00      0.00      0.00         1\n",
            "         357       0.00      0.00      0.00         1\n",
            "         358       0.00      0.00      0.00         1\n",
            "         359       0.00      0.00      0.00         1\n",
            "         361       0.00      0.00      0.00         1\n",
            "         362       0.00      0.00      0.00         1\n",
            "         363       0.00      0.00      0.00         1\n",
            "         364       0.00      0.00      0.00         1\n",
            "         367       0.00      0.00      0.00         1\n",
            "         376       0.00      0.00      0.00         1\n",
            "         380       0.00      0.00      0.00         0\n",
            "         384       0.00      0.00      0.00         0\n",
            "         387       0.00      0.00      0.00         0\n",
            "         392       0.00      0.00      0.00         0\n",
            "         395       0.00      0.00      0.00         1\n",
            "         400       0.00      0.00      0.00         1\n",
            "         401       0.00      0.00      0.00         1\n",
            "         402       0.00      0.00      0.00         1\n",
            "         405       0.00      0.00      0.00         1\n",
            "         406       0.00      0.00      0.00         1\n",
            "         407       0.00      0.00      0.00         0\n",
            "         409       0.00      0.00      0.00         1\n",
            "         413       0.00      0.00      0.00         0\n",
            "         415       0.00      0.00      0.00         1\n",
            "         419       0.00      0.00      0.00         1\n",
            "         422       0.00      0.00      0.00         1\n",
            "         423       0.00      0.00      0.00         1\n",
            "         424       0.00      0.00      0.00         1\n",
            "         432       0.00      0.00      0.00         1\n",
            "         436       0.00      0.00      0.00         0\n",
            "\n",
            "    accuracy                           0.04      1228\n",
            "   macro avg       0.01      0.01      0.01      1228\n",
            "weighted avg       0.05      0.04      0.04      1228\n",
            "\n"
          ]
        },
        {
          "name": "stderr",
          "output_type": "stream",
          "text": [
            "/opt/conda/lib/python3.7/site-packages/sklearn/metrics/_classification.py:1221: UndefinedMetricWarning: Precision and F-score are ill-defined and being set to 0.0 in labels with no predicted samples. Use `zero_division` parameter to control this behavior.\n",
            "  _warn_prf(average, modifier, msg_start, len(result))\n",
            "/opt/conda/lib/python3.7/site-packages/sklearn/metrics/_classification.py:1221: UndefinedMetricWarning: Recall and F-score are ill-defined and being set to 0.0 in labels with no true samples. Use `zero_division` parameter to control this behavior.\n",
            "  _warn_prf(average, modifier, msg_start, len(result))\n"
          ]
        }
      ],
      "source": [
        "y_pred=model.predict(testx)\n",
        "pred=np.argmax(y_pred,axis=1)\n",
        "ground = np.argmax(testy,axis=1)\n",
        "print(classification_report(ground,pred))"
      ]
    },
    {
      "cell_type": "code",
      "execution_count": null,
      "id": "f260842b",
      "metadata": {
        "execution": {
          "iopub.execute_input": "2021-10-12T18:21:17.495595Z",
          "iopub.status.busy": "2021-10-12T18:21:17.494739Z",
          "iopub.status.idle": "2021-10-12T18:21:17.811497Z",
          "shell.execute_reply": "2021-10-12T18:21:17.812480Z",
          "shell.execute_reply.started": "2021-10-12T17:57:13.162260Z"
        },
        "papermill": {
          "duration": 4.302604,
          "end_time": "2021-10-12T18:21:17.812729",
          "exception": false,
          "start_time": "2021-10-12T18:21:13.510125",
          "status": "completed"
        },
        "tags": [],
        "id": "f260842b",
        "outputId": "666338a8-3498-4399-d239-8b35531ddd7e"
      },
      "outputs": [
        {
          "data": {
            "image/png": "[encoded data removed]",
            "text/plain": [
              "<Figure size 432x288 with 1 Axes>"
            ]
          },
          "metadata": {
            "needs_background": "light"
          },
          "output_type": "display_data"
        },
        {
          "data": {
            "text/plain": [
              "<Figure size 432x288 with 0 Axes>"
            ]
          },
          "metadata": {},
          "output_type": "display_data"
        }
      ],
      "source": [
        "get_acc = his.history['accuracy']\n",
        "value_acc = his.history['val_accuracy']\n",
        "get_loss = his.history['loss']\n",
        "validation_loss = his.history['val_loss']\n",
        "\n",
        "epochs = range(len(get_acc))\n",
        "plt.plot(epochs, get_acc, 'r', label='Accuracy of Training data')\n",
        "plt.plot(epochs, value_acc, 'b', label='Accuracy of Validation data')\n",
        "plt.title('Training vs validation accuracy')\n",
        "plt.legend(loc=0)\n",
        "plt.figure()\n",
        "plt.show()"
      ]
    },
    {
      "cell_type": "code",
      "execution_count": null,
      "id": "8f41b2c5",
      "metadata": {
        "execution": {
          "iopub.execute_input": "2021-10-12T18:21:24.812101Z",
          "iopub.status.busy": "2021-10-12T18:21:24.810921Z",
          "iopub.status.idle": "2021-10-12T18:21:25.008002Z",
          "shell.execute_reply": "2021-10-12T18:21:25.008407Z",
          "shell.execute_reply.started": "2021-10-12T17:57:13.446018Z"
        },
        "papermill": {
          "duration": 3.701577,
          "end_time": "2021-10-12T18:21:25.008560",
          "exception": false,
          "start_time": "2021-10-12T18:21:21.306983",
          "status": "completed"
        },
        "tags": [],
        "id": "8f41b2c5",
        "outputId": "21304966-040d-41f3-b55d-d67dff598620"
      },
      "outputs": [
        {
          "data": {
            "image/png": "[encoded data removed]",
            "text/plain": [
              "<Figure size 432x288 with 1 Axes>"
            ]
          },
          "metadata": {
            "needs_background": "light"
          },
          "output_type": "display_data"
        },
        {
          "data": {
            "text/plain": [
              "<Figure size 432x288 with 0 Axes>"
            ]
          },
          "metadata": {},
          "output_type": "display_data"
        }
      ],
      "source": [
        "epochs = range(len(get_loss))\n",
        "plt.plot(epochs, get_loss, 'r', label='Loss of Training data')\n",
        "plt.plot(epochs, validation_loss, 'b', label='Loss of Validation data')\n",
        "plt.title('Training vs validation loss')\n",
        "plt.legend(loc=0)\n",
        "plt.figure()\n",
        "plt.show()"
      ]
    },
    {
      "cell_type": "code",
      "execution_count": null,
      "id": "f01805a3",
      "metadata": {
        "execution": {
          "iopub.execute_input": "2021-10-12T18:21:32.059481Z",
          "iopub.status.busy": "2021-10-12T18:21:32.058577Z",
          "iopub.status.idle": "2021-10-12T18:21:36.015025Z",
          "shell.execute_reply": "2021-10-12T18:21:36.014350Z",
          "shell.execute_reply.started": "2021-10-12T17:57:13.642197Z"
        },
        "papermill": {
          "duration": 7.565979,
          "end_time": "2021-10-12T18:21:36.015211",
          "exception": false,
          "start_time": "2021-10-12T18:21:28.449232",
          "status": "completed"
        },
        "tags": [],
        "id": "f01805a3",
        "outputId": "aab81f94-17e4-4199-f6c7-c5b49aa44dd2"
      },
      "outputs": [
        {
          "name": "stdout",
          "output_type": "stream",
          "text": [
            "(2048, 438)\n",
            "16     97\n",
            "21     84\n",
            "41     77\n",
            "45     73\n",
            "8      70\n",
            "       ..\n",
            "112     1\n",
            "27      1\n",
            "172     1\n",
            "92      1\n",
            "436     1\n",
            "Length: 210, dtype: int64\n"
          ]
        }
      ],
      "source": [
        "pred2=model.predict(testX)\n",
        "print(pred2.shape)\n",
        "\n",
        "PRED=[]\n",
        "for item in pred2:\n",
        "    value2=np.argmax(item)      \n",
        "    PRED+=[value2]\n",
        "print(pd.Series(PRED).value_counts())"
      ]
    },
    {
      "cell_type": "code",
      "execution_count": null,
      "id": "0c1a8f04",
      "metadata": {
        "execution": {
          "iopub.execute_input": "2021-10-12T18:21:43.120732Z",
          "iopub.status.busy": "2021-10-12T18:21:43.119764Z",
          "iopub.status.idle": "2021-10-12T18:21:43.125676Z",
          "shell.execute_reply": "2021-10-12T18:21:43.125051Z",
          "shell.execute_reply.started": "2021-10-12T17:57:17.569027Z"
        },
        "papermill": {
          "duration": 3.601035,
          "end_time": "2021-10-12T18:21:43.125843",
          "exception": false,
          "start_time": "2021-10-12T18:21:39.524808",
          "status": "completed"
        },
        "tags": [],
        "id": "0c1a8f04",
        "outputId": "f24ac218-5a17-4fa3-a112-909b55b35c31"
      },
      "outputs": [
        {
          "name": "stdout",
          "output_type": "stream",
          "text": [
            "4      80\n",
            "8      76\n",
            "19     74\n",
            "16     71\n",
            "30     57\n",
            "       ..\n",
            "252     1\n",
            "251     1\n",
            "248     1\n",
            "245     1\n",
            "435     1\n",
            "Length: 276, dtype: int64\n",
            "0.03662109375\n"
          ]
        }
      ],
      "source": [
        "ANS=testY0\n",
        "print(pd.Series(ANS).value_counts())\n",
        "accuracy=accuracy_score(ANS,PRED)\n",
        "print(accuracy)"
      ]
    },
    {
      "cell_type": "code",
      "execution_count": null,
      "id": "b475254f",
      "metadata": {
        "execution": {
          "iopub.execute_input": "2021-10-12T18:21:50.705630Z",
          "iopub.status.busy": "2021-10-12T18:21:50.704840Z",
          "iopub.status.idle": "2021-10-12T18:21:51.335496Z",
          "shell.execute_reply": "2021-10-12T18:21:51.335040Z",
          "shell.execute_reply.started": "2021-10-12T17:57:17.581966Z"
        },
        "papermill": {
          "duration": 4.411764,
          "end_time": "2021-10-12T18:21:51.335616",
          "exception": false,
          "start_time": "2021-10-12T18:21:46.923852",
          "status": "completed"
        },
        "tags": [],
        "id": "b475254f",
        "outputId": "b082513c-16b3-424e-c912-ac76c269be1f"
      },
      "outputs": [
        {
          "data": {
            "image/png": "[encoded data removed]",
            "text/plain": [
              "<Figure size 864x864 with 9 Axes>"
            ]
          },
          "metadata": {
            "needs_background": "light"
          },
          "output_type": "display_data"
        }
      ],
      "source": [
        "fig, axs = plt.subplots(3,3,figsize=(12,12))\n",
        "for i in range(9):\n",
        "    r=i//3\n",
        "    c=i%3\n",
        "    img1 = testX[i]\n",
        "    ax=axs[r][c].axis(\"off\")\n",
        "    actual=reverse_mapping[testY0[i]]\n",
        "    predict=reverse_mapping[PRED[i]]    \n",
        "    ax=axs[r][c].set_title(actual+'=='+predict)\n",
        "    ax=axs[r][c].imshow(img1)\n",
        "plt.show()"
      ]
    },
    {
      "cell_type": "code",
      "execution_count": null,
      "id": "d1fe1cb9",
      "metadata": {
        "papermill": {
          "duration": 3.524332,
          "end_time": "2021-10-12T18:21:58.473955",
          "exception": false,
          "start_time": "2021-10-12T18:21:54.949623",
          "status": "completed"
        },
        "tags": [],
        "id": "d1fe1cb9"
      },
      "outputs": [],
      "source": []
    },
    {
      "cell_type": "code",
      "execution_count": null,
      "id": "59dfba97",
      "metadata": {
        "papermill": {
          "duration": 3.416964,
          "end_time": "2021-10-12T18:22:05.575691",
          "exception": false,
          "start_time": "2021-10-12T18:22:02.158727",
          "status": "completed"
        },
        "tags": [],
        "id": "59dfba97"
      },
      "outputs": [],
      "source": []
    }
  ],
  "metadata": {
    "kernelspec": {
      "display_name": "Python 3",
      "language": "python",
      "name": "python3"
    },
    "language_info": {
      "codemirror_mode": {
        "name": "ipython",
        "version": 3
      },
      "file_extension": ".py",
      "mimetype": "text/x-python",
      "name": "python",
      "nbconvert_exporter": "python",
      "pygments_lexer": "ipython3",
      "version": "3.7.10"
    },
    "papermill": {
      "default_parameters": {},
      "duration": 1176.216281,
      "end_time": "2021-10-12T18:22:11.794233",
      "environment_variables": {},
      "exception": null,
      "input_path": "__notebook__.ipynb",
      "output_path": "__notebook__.ipynb",
      "parameters": {},
      "start_time": "2021-10-12T18:02:35.577952",
      "version": "2.3.3"
    },
    "colab": {
      "provenance": [],
      "include_colab_link": true
    }
  },
  "nbformat": 4,
  "nbformat_minor": 5
}