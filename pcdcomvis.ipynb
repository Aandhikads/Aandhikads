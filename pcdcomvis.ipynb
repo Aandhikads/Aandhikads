{
  "nbformat": 4,
  "nbformat_minor": 0,
  "metadata": {
    "colab": {
      "provenance": [],
      "include_colab_link": true
    },
    "kernelspec": {
      "name": "python3",
      "display_name": "Python 3"
    },
    "language_info": {
      "name": "python"
    }
  },
  "cells": [
    {
      "cell_type": "markdown",
      "metadata": {
        "id": "view-in-github",
        "colab_type": "text"
      },
      "source": [
        "<a href=\"https://colab.research.google.com/github/Aandhikads/Aandhikads/blob/main/pcdcomvis.ipynb\" target=\"_parent\"><img src=\"https://colab.research.google.com/assets/colab-badge.svg\" alt=\"Open In Colab\"/></a>"
      ]
    },
    {
      "cell_type": "code",
      "execution_count": 1,
      "metadata": {
        "id": "YJHCPUORxMfz",
        "colab": {
          "base_uri": "https://localhost:8080/"
        },
        "outputId": "acd94372-a81f-4186-98f3-bef93e5b1040"
      },
      "outputs": [
        {
          "output_type": "stream",
          "name": "stdout",
          "text": [
            "Mounted at /content/drive\n"
          ]
        }
      ],
      "source": [
        "from google.colab import drive\n",
        "drive.mount('/content/drive')"
      ]
    },
    {
      "cell_type": "code",
      "source": [
        "import tensorflow as tf\n",
        "from tensorflow.keras.datasets import mnist\n",
        "from tensorflow.keras.layers import Dense, Dropout, Input\n",
        "from tensorflow.keras.models import Model\n",
        "from tensorflow.keras.optimizers import RMSprop\n",
        "import tensorflow.keras.backend as K\n",
        "import numpy as np"
      ],
      "metadata": {
        "id": "dkUmj-16xstZ"
      },
      "execution_count": 2,
      "outputs": []
    },
    {
      "cell_type": "code",
      "source": [
        "# the data, split between train and test sets\n",
        "(x_train, y_train), (x_test, y_test) = mnist.load_data()\n",
        "\n",
        "x_train = x_train.reshape(60000, 784)\n",
        "x_test = x_test.reshape(10000, 784)\n",
        "x_train = x_train.astype('float32')\n",
        "x_test = x_test.astype('float32')\n",
        "x_train /= 255.\n",
        "x_test /= 255.\n",
        "print(x_train.shape[0], '/content/drive/MyDrive/Datasets')\n",
        "print(x_test.shape[0], '/content/drive/MyDrive/Datasets')\n",
        "\n",
        "num_classes = 10\n",
        "\n",
        "# convert class vectors to binary class matrices\n",
        "y_train = tf.keras.utils.to_categorical(y_train, num_classes)\n",
        "y_test = tf.keras.utils.to_categorical(y_test, num_classes)"
      ],
      "metadata": {
        "colab": {
          "base_uri": "https://localhost:8080/"
        },
        "id": "zWPxnX2Dxswt",
        "outputId": "c4b341a4-8d57-49da-c483-4a9ab8619157"
      },
      "execution_count": 3,
      "outputs": [
        {
          "output_type": "stream",
          "name": "stdout",
          "text": [
            "Downloading data from https://storage.googleapis.com/tensorflow/tf-keras-datasets/mnist.npz\n",
            "11490434/11490434 [==============================] - 0s 0us/step\n",
            "60000 /content/drive/MyDrive/Datasets\n",
            "10000 /content/drive/MyDrive/Datasets\n"
          ]
        }
      ]
    },
    {
      "cell_type": "code",
      "source": [
        "def model_1(x_input):\n",
        "    x = Dense(512, activation='relu')(x_input)\n",
        "    x = Dense(512, activation='relu')(x)\n",
        "    x = Dropout(0.5)(x)\n",
        "    x_out = Dense(256, activation='relu')(x)\n",
        "    x_out = Dropout(0.5)(x)\n",
        "    return x_out"
      ],
      "metadata": {
        "id": "jViSjUMNx3vK"
      },
      "execution_count": 4,
      "outputs": []
    },
    {
      "cell_type": "code",
      "source": [
        "def model_2(x_input):\n",
        "    x = Dense(800, activation='sigmoid')(x_input)\n",
        "    x = Dropout(0.5)(x)\n",
        "    x = Dense(200, activation='sigmoid')(x)\n",
        "    x = Dropout(0.5)(x)\n",
        "    x_out = Dense(12)(x)\n",
        "    return x_out"
      ],
      "metadata": {
        "id": "NNi8nj6Txs82"
      },
      "execution_count": 5,
      "outputs": []
    },
    {
      "cell_type": "code",
      "source": [
        "inputs = Input(shape=(784,))\n",
        "x      = model_1(inputs)\n",
        "x_out  = Dense(10, use_bias=False, activation='linear', name='svm')(x)\n",
        "model = Model(inputs, x_out)"
      ],
      "metadata": {
        "id": "q3sI5UFoyePB"
      },
      "execution_count": 6,
      "outputs": []
    },
    {
      "cell_type": "code",
      "source": [
        "def svm_loss(layer):\n",
        "    weights = layer.weights[0]\n",
        "    weights_tf = tf.convert_to_tensor(weights)\n",
        "    \n",
        "    def categorical_hinge_loss(y_true, y_pred):\n",
        "        pos = K.sum(y_true * y_pred, axis=-1)\n",
        "        neg = K.max((1.0 - y_true) * y_pred, axis=-1)\n",
        "        hinge_loss = K.mean(K.maximum(0.0, neg - pos + 1), axis=-1)\n",
        "        regularization_loss = 0.5*(tf.reduce_sum(tf.square(weights_tf)))\n",
        "        return regularization_loss + 0.4*hinge_loss\n",
        "    \n",
        "    return categorical_hinge_loss"
      ],
      "metadata": {
        "id": "YbZ-XHbbygql"
      },
      "execution_count": 7,
      "outputs": []
    },
    {
      "cell_type": "code",
      "source": [
        "metrics = ['accuracy']\n",
        "optimizer = tf.keras.optimizers.RMSprop(lr=2e-3, decay=1e-5)\n",
        "#optimizer = tf.train.AdamOptimizer(1.e-3)\n",
        "\n",
        "model.compile(optimizer=optimizer, loss=svm_loss(model.get_layer('svm')), metrics=metrics)"
      ],
      "metadata": {
        "colab": {
          "base_uri": "https://localhost:8080/"
        },
        "id": "d5-7FoVIykY4",
        "outputId": "18c6c464-272d-48bf-960f-a1f09a6973f5"
      },
      "execution_count": 8,
      "outputs": [
        {
          "output_type": "stream",
          "name": "stderr",
          "text": [
            "/usr/local/lib/python3.8/dist-packages/keras/optimizers/optimizer_v2/rmsprop.py:135: UserWarning: The `lr` argument is deprecated, use `learning_rate` instead.\n",
            "  super(RMSprop, self).__init__(name, **kwargs)\n"
          ]
        }
      ]
    },
    {
      "cell_type": "code",
      "source": [
        "batch_size = 64\n",
        "epochs = 20\n",
        "\n",
        "history = model.fit(x_train, y_train,\n",
        "                    batch_size=batch_size,\n",
        "                    epochs=epochs,\n",
        "                    verbose=1,\n",
        "                    validation_data=(x_test, y_test))\n",
        "score = model.evaluate(x_test, y_test, verbose=0)\n",
        "print('Test loss:', score[0])\n",
        "print('Test accuracy:', score[1])"
      ],
      "metadata": {
        "colab": {
          "base_uri": "https://localhost:8080/"
        },
        "id": "1D6_cA5Jyncx",
        "outputId": "cd9207ca-e575-497c-9937-4781931ee6e6"
      },
      "execution_count": 10,
      "outputs": [
        {
          "output_type": "stream",
          "name": "stdout",
          "text": [
            "Epoch 1/20\n",
            "938/938 [==============================] - 13s 14ms/step - loss: 9.9082 - accuracy: 0.9593 - val_loss: 9.9000 - val_accuracy: 0.9666\n",
            "Epoch 2/20\n",
            "938/938 [==============================] - 14s 15ms/step - loss: 9.8998 - accuracy: 0.9680 - val_loss: 9.8922 - val_accuracy: 0.9729\n",
            "Epoch 3/20\n",
            "938/938 [==============================] - 15s 15ms/step - loss: 9.8953 - accuracy: 0.9719 - val_loss: 9.8929 - val_accuracy: 0.9747\n",
            "Epoch 4/20\n",
            "938/938 [==============================] - 14s 15ms/step - loss: 9.8915 - accuracy: 0.9759 - val_loss: 9.8934 - val_accuracy: 0.9737\n",
            "Epoch 5/20\n",
            "938/938 [==============================] - 15s 16ms/step - loss: 9.8881 - accuracy: 0.9783 - val_loss: 9.8931 - val_accuracy: 0.9744\n",
            "Epoch 6/20\n",
            "938/938 [==============================] - 15s 16ms/step - loss: 9.8869 - accuracy: 0.9795 - val_loss: 9.8902 - val_accuracy: 0.9776\n",
            "Epoch 7/20\n",
            "938/938 [==============================] - 16s 17ms/step - loss: 9.8845 - accuracy: 0.9819 - val_loss: 9.8901 - val_accuracy: 0.9774\n",
            "Epoch 8/20\n",
            "938/938 [==============================] - 15s 16ms/step - loss: 9.8832 - accuracy: 0.9828 - val_loss: 9.8885 - val_accuracy: 0.9804\n",
            "Epoch 9/20\n",
            "938/938 [==============================] - 14s 14ms/step - loss: 9.8819 - accuracy: 0.9843 - val_loss: 9.8915 - val_accuracy: 0.9776\n",
            "Epoch 10/20\n",
            "938/938 [==============================] - 13s 14ms/step - loss: 9.8805 - accuracy: 0.9851 - val_loss: 9.8886 - val_accuracy: 0.9800\n",
            "Epoch 11/20\n",
            "938/938 [==============================] - 13s 14ms/step - loss: 9.8798 - accuracy: 0.9865 - val_loss: 9.8880 - val_accuracy: 0.9815\n",
            "Epoch 12/20\n",
            "938/938 [==============================] - 14s 14ms/step - loss: 9.8782 - accuracy: 0.9871 - val_loss: 9.8888 - val_accuracy: 0.9809\n",
            "Epoch 13/20\n",
            "938/938 [==============================] - 14s 15ms/step - loss: 9.8783 - accuracy: 0.9874 - val_loss: 9.8898 - val_accuracy: 0.9807\n",
            "Epoch 14/20\n",
            "938/938 [==============================] - 13s 14ms/step - loss: 9.8766 - accuracy: 0.9884 - val_loss: 9.8897 - val_accuracy: 0.9815\n",
            "Epoch 15/20\n",
            "938/938 [==============================] - 14s 14ms/step - loss: 9.8761 - accuracy: 0.9895 - val_loss: 9.8886 - val_accuracy: 0.9824\n",
            "Epoch 16/20\n",
            "938/938 [==============================] - 14s 14ms/step - loss: 9.8753 - accuracy: 0.9900 - val_loss: 9.8882 - val_accuracy: 0.9815\n",
            "Epoch 17/20\n",
            "938/938 [==============================] - 13s 14ms/step - loss: 9.8753 - accuracy: 0.9901 - val_loss: 9.8904 - val_accuracy: 0.9815\n",
            "Epoch 18/20\n",
            "938/938 [==============================] - 14s 14ms/step - loss: 9.8746 - accuracy: 0.9908 - val_loss: 9.8896 - val_accuracy: 0.9807\n",
            "Epoch 19/20\n",
            "938/938 [==============================] - 13s 14ms/step - loss: 9.8737 - accuracy: 0.9916 - val_loss: 9.8912 - val_accuracy: 0.9812\n",
            "Epoch 20/20\n",
            "938/938 [==============================] - 13s 14ms/step - loss: 9.8734 - accuracy: 0.9919 - val_loss: 9.8919 - val_accuracy: 0.9809\n",
            "Test loss: 9.891950607299805\n",
            "Test accuracy: 0.98089998960495\n"
          ]
        }
      ]
    }
  ]
}