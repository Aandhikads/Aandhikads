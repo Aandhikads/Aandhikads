{
  "cells": [
    {
      "cell_type": "markdown",
      "metadata": {
        "id": "view-in-github",
        "colab_type": "text"
      },
      "source": [
        "<a href=\"https://colab.research.google.com/github/Aandhikads/Aandhikads/blob/main/datamining_Clustering_Modelling.ipynb\" target=\"_parent\"><img src=\"https://colab.research.google.com/assets/colab-badge.svg\" alt=\"Open In Colab\"/></a>"
      ]
    },
    {
      "cell_type": "markdown",
      "source": [
        "IMPORT LIBRARY"
      ],
      "metadata": {
        "id": "16BXvLoa5pLN"
      }
    },
    {
      "cell_type": "code",
      "execution_count": 63,
      "metadata": {
        "id": "9mjnTmOtMPEA"
      },
      "outputs": [],
      "source": [
        "import numpy as np\n",
        "import pandas as pd\n",
        "import seaborn as sns\n",
        "import matplotlib.pyplot as plt"
      ]
    },
    {
      "cell_type": "markdown",
      "source": [
        "LOAD DATASETS"
      ],
      "metadata": {
        "id": "swosQzin5seZ"
      }
    },
    {
      "cell_type": "code",
      "execution_count": 64,
      "metadata": {
        "id": "uHdtOoqKNc4w"
      },
      "outputs": [],
      "source": [
        "#Load Data From Local File\n",
        "data=pd.read_csv(\"bpbd-od_17606_jml_kejadian_bencana_tanah_longsor__kabupatenkota_data.csv\")"
      ]
    },
    {
      "cell_type": "markdown",
      "source": [
        "DATA UNDERSTANDING"
      ],
      "metadata": {
        "id": "r2_0CGEA5uNx"
      }
    },
    {
      "cell_type": "code",
      "execution_count": 65,
      "metadata": {
        "colab": {
          "base_uri": "https://localhost:8080/",
          "height": 207
        },
        "id": "vTshOoidOE-B",
        "outputId": "01475fea-0f93-4646-cc91-564d7c116dd8"
      },
      "outputs": [
        {
          "output_type": "execute_result",
          "data": {
            "text/plain": [
              "   id  kode_provinsi nama_provinsi  kode_kabupaten_kota nama_kabupaten_kota  \\\n",
              "0   1             32    JAWA BARAT                 3201     KABUPATEN BOGOR   \n",
              "1   2             32    JAWA BARAT                 3202  KABUPATEN SUKABUMI   \n",
              "2   3             32    JAWA BARAT                 3203   KABUPATEN CIANJUR   \n",
              "3   4             32    JAWA BARAT                 3204   KABUPATEN BANDUNG   \n",
              "4   5             32    JAWA BARAT                 3205     KABUPATEN GARUT   \n",
              "\n",
              "   jumlah_tanah_longsor    satuan  tahun  \n",
              "0                     0  KEJADIAN   2012  \n",
              "1                    48  KEJADIAN   2012  \n",
              "2                     9  KEJADIAN   2012  \n",
              "3                    12  KEJADIAN   2012  \n",
              "4                    36  KEJADIAN   2012  "
            ],
            "text/html": [
              "\n",
              "  <div id=\"df-f5f64fb2-3921-4d74-894f-f5ed8ae08cbc\">\n",
              "    <div class=\"colab-df-container\">\n",
              "      <div>\n",
              "<style scoped>\n",
              "    .dataframe tbody tr th:only-of-type {\n",
              "        vertical-align: middle;\n",
              "    }\n",
              "\n",
              "    .dataframe tbody tr th {\n",
              "        vertical-align: top;\n",
              "    }\n",
              "\n",
              "    .dataframe thead th {\n",
              "        text-align: right;\n",
              "    }\n",
              "</style>\n",
              "<table border=\"1\" class=\"dataframe\">\n",
              "  <thead>\n",
              "    <tr style=\"text-align: right;\">\n",
              "      <th></th>\n",
              "      <th>id</th>\n",
              "      <th>kode_provinsi</th>\n",
              "      <th>nama_provinsi</th>\n",
              "      <th>kode_kabupaten_kota</th>\n",
              "      <th>nama_kabupaten_kota</th>\n",
              "      <th>jumlah_tanah_longsor</th>\n",
              "      <th>satuan</th>\n",
              "      <th>tahun</th>\n",
              "    </tr>\n",
              "  </thead>\n",
              "  <tbody>\n",
              "    <tr>\n",
              "      <th>0</th>\n",
              "      <td>1</td>\n",
              "      <td>32</td>\n",
              "      <td>JAWA BARAT</td>\n",
              "      <td>3201</td>\n",
              "      <td>KABUPATEN BOGOR</td>\n",
              "      <td>0</td>\n",
              "      <td>KEJADIAN</td>\n",
              "      <td>2012</td>\n",
              "    </tr>\n",
              "    <tr>\n",
              "      <th>1</th>\n",
              "      <td>2</td>\n",
              "      <td>32</td>\n",
              "      <td>JAWA BARAT</td>\n",
              "      <td>3202</td>\n",
              "      <td>KABUPATEN SUKABUMI</td>\n",
              "      <td>48</td>\n",
              "      <td>KEJADIAN</td>\n",
              "      <td>2012</td>\n",
              "    </tr>\n",
              "    <tr>\n",
              "      <th>2</th>\n",
              "      <td>3</td>\n",
              "      <td>32</td>\n",
              "      <td>JAWA BARAT</td>\n",
              "      <td>3203</td>\n",
              "      <td>KABUPATEN CIANJUR</td>\n",
              "      <td>9</td>\n",
              "      <td>KEJADIAN</td>\n",
              "      <td>2012</td>\n",
              "    </tr>\n",
              "    <tr>\n",
              "      <th>3</th>\n",
              "      <td>4</td>\n",
              "      <td>32</td>\n",
              "      <td>JAWA BARAT</td>\n",
              "      <td>3204</td>\n",
              "      <td>KABUPATEN BANDUNG</td>\n",
              "      <td>12</td>\n",
              "      <td>KEJADIAN</td>\n",
              "      <td>2012</td>\n",
              "    </tr>\n",
              "    <tr>\n",
              "      <th>4</th>\n",
              "      <td>5</td>\n",
              "      <td>32</td>\n",
              "      <td>JAWA BARAT</td>\n",
              "      <td>3205</td>\n",
              "      <td>KABUPATEN GARUT</td>\n",
              "      <td>36</td>\n",
              "      <td>KEJADIAN</td>\n",
              "      <td>2012</td>\n",
              "    </tr>\n",
              "  </tbody>\n",
              "</table>\n",
              "</div>\n",
              "      <button class=\"colab-df-convert\" onclick=\"convertToInteractive('df-f5f64fb2-3921-4d74-894f-f5ed8ae08cbc')\"\n",
              "              title=\"Convert this dataframe to an interactive table.\"\n",
              "              style=\"display:none;\">\n",
              "        \n",
              "  <svg xmlns=\"http://www.w3.org/2000/svg\" height=\"24px\"viewBox=\"0 0 24 24\"\n",
              "       width=\"24px\">\n",
              "    <path d=\"M0 0h24v24H0V0z\" fill=\"none\"/>\n",
              "    <path d=\"M18.56 5.44l.94 2.06.94-2.06 2.06-.94-2.06-.94-.94-2.06-.94 2.06-2.06.94zm-11 1L8.5 8.5l.94-2.06 2.06-.94-2.06-.94L8.5 2.5l-.94 2.06-2.06.94zm10 10l.94 2.06.94-2.06 2.06-.94-2.06-.94-.94-2.06-.94 2.06-2.06.94z\"/><path d=\"M17.41 7.96l-1.37-1.37c-.4-.4-.92-.59-1.43-.59-.52 0-1.04.2-1.43.59L10.3 9.45l-7.72 7.72c-.78.78-.78 2.05 0 2.83L4 21.41c.39.39.9.59 1.41.59.51 0 1.02-.2 1.41-.59l7.78-7.78 2.81-2.81c.8-.78.8-2.07 0-2.86zM5.41 20L4 18.59l7.72-7.72 1.47 1.35L5.41 20z\"/>\n",
              "  </svg>\n",
              "      </button>\n",
              "      \n",
              "  <style>\n",
              "    .colab-df-container {\n",
              "      display:flex;\n",
              "      flex-wrap:wrap;\n",
              "      gap: 12px;\n",
              "    }\n",
              "\n",
              "    .colab-df-convert {\n",
              "      background-color: #E8F0FE;\n",
              "      border: none;\n",
              "      border-radius: 50%;\n",
              "      cursor: pointer;\n",
              "      display: none;\n",
              "      fill: #1967D2;\n",
              "      height: 32px;\n",
              "      padding: 0 0 0 0;\n",
              "      width: 32px;\n",
              "    }\n",
              "\n",
              "    .colab-df-convert:hover {\n",
              "      background-color: #E2EBFA;\n",
              "      box-shadow: 0px 1px 2px rgba(60, 64, 67, 0.3), 0px 1px 3px 1px rgba(60, 64, 67, 0.15);\n",
              "      fill: #174EA6;\n",
              "    }\n",
              "\n",
              "    [theme=dark] .colab-df-convert {\n",
              "      background-color: #3B4455;\n",
              "      fill: #D2E3FC;\n",
              "    }\n",
              "\n",
              "    [theme=dark] .colab-df-convert:hover {\n",
              "      background-color: #434B5C;\n",
              "      box-shadow: 0px 1px 3px 1px rgba(0, 0, 0, 0.15);\n",
              "      filter: drop-shadow(0px 1px 2px rgba(0, 0, 0, 0.3));\n",
              "      fill: #FFFFFF;\n",
              "    }\n",
              "  </style>\n",
              "\n",
              "      <script>\n",
              "        const buttonEl =\n",
              "          document.querySelector('#df-f5f64fb2-3921-4d74-894f-f5ed8ae08cbc button.colab-df-convert');\n",
              "        buttonEl.style.display =\n",
              "          google.colab.kernel.accessAllowed ? 'block' : 'none';\n",
              "\n",
              "        async function convertToInteractive(key) {\n",
              "          const element = document.querySelector('#df-f5f64fb2-3921-4d74-894f-f5ed8ae08cbc');\n",
              "          const dataTable =\n",
              "            await google.colab.kernel.invokeFunction('convertToInteractive',\n",
              "                                                     [key], {});\n",
              "          if (!dataTable) return;\n",
              "\n",
              "          const docLinkHtml = 'Like what you see? Visit the ' +\n",
              "            '<a target=\"_blank\" href=https://colab.research.google.com/notebooks/data_table.ipynb>data table notebook</a>'\n",
              "            + ' to learn more about interactive tables.';\n",
              "          element.innerHTML = '';\n",
              "          dataTable['output_type'] = 'display_data';\n",
              "          await google.colab.output.renderOutput(dataTable, element);\n",
              "          const docLink = document.createElement('div');\n",
              "          docLink.innerHTML = docLinkHtml;\n",
              "          element.appendChild(docLink);\n",
              "        }\n",
              "      </script>\n",
              "    </div>\n",
              "  </div>\n",
              "  "
            ]
          },
          "metadata": {},
          "execution_count": 65
        }
      ],
      "source": [
        "#See the first 5 data\n",
        "data.head()"
      ]
    },
    {
      "cell_type": "code",
      "execution_count": 66,
      "metadata": {
        "colab": {
          "base_uri": "https://localhost:8080/"
        },
        "id": "Y-qiy-mvOKgx",
        "outputId": "804ab2f7-3e7d-41a7-e034-6cefe10047ba"
      },
      "outputs": [
        {
          "output_type": "execute_result",
          "data": {
            "text/plain": [
              "(270, 8)"
            ]
          },
          "metadata": {},
          "execution_count": 66
        }
      ],
      "source": [
        "#See the number of rows and number of colums of data\n",
        "data.shape"
      ]
    },
    {
      "cell_type": "code",
      "execution_count": 67,
      "metadata": {
        "colab": {
          "base_uri": "https://localhost:8080/"
        },
        "id": "0PFCeNQeOhI8",
        "outputId": "97ee84f3-e162-4db6-ee51-2f8a464c848f"
      },
      "outputs": [
        {
          "output_type": "stream",
          "name": "stdout",
          "text": [
            "<class 'pandas.core.frame.DataFrame'>\n",
            "RangeIndex: 270 entries, 0 to 269\n",
            "Data columns (total 8 columns):\n",
            " #   Column                Non-Null Count  Dtype \n",
            "---  ------                --------------  ----- \n",
            " 0   id                    270 non-null    int64 \n",
            " 1   kode_provinsi         270 non-null    int64 \n",
            " 2   nama_provinsi         270 non-null    object\n",
            " 3   kode_kabupaten_kota   270 non-null    int64 \n",
            " 4   nama_kabupaten_kota   270 non-null    object\n",
            " 5   jumlah_tanah_longsor  270 non-null    int64 \n",
            " 6   satuan                270 non-null    object\n",
            " 7   tahun                 270 non-null    int64 \n",
            "dtypes: int64(5), object(3)\n",
            "memory usage: 17.0+ KB\n"
          ]
        }
      ],
      "source": [
        "#Understanding each  variable\n",
        "data.info()"
      ]
    },
    {
      "cell_type": "code",
      "execution_count": 68,
      "metadata": {
        "colab": {
          "base_uri": "https://localhost:8080/",
          "height": 301
        },
        "id": "Ja_3T-E7OnAD",
        "outputId": "49ca496d-4936-4fb5-f725-670973eb5295"
      },
      "outputs": [
        {
          "output_type": "execute_result",
          "data": {
            "text/plain": [
              "               id  kode_provinsi  kode_kabupaten_kota  jumlah_tanah_longsor  \\\n",
              "count  270.000000          270.0           270.000000            270.000000   \n",
              "mean   135.500000           32.0          3231.333333             20.970370   \n",
              "std     78.086491            0.0            31.259794             37.892126   \n",
              "min      1.000000           32.0          3201.000000              0.000000   \n",
              "25%     68.250000           32.0          3207.000000              1.000000   \n",
              "50%    135.500000           32.0          3214.000000              6.000000   \n",
              "75%    202.750000           32.0          3273.000000             27.000000   \n",
              "max    270.000000           32.0          3279.000000            354.000000   \n",
              "\n",
              "             tahun  \n",
              "count   270.000000  \n",
              "mean   2016.500000  \n",
              "std       2.877615  \n",
              "min    2012.000000  \n",
              "25%    2014.000000  \n",
              "50%    2016.500000  \n",
              "75%    2019.000000  \n",
              "max    2021.000000  "
            ],
            "text/html": [
              "\n",
              "  <div id=\"df-91757753-87ac-4ae7-bef8-8a29d9700d5d\">\n",
              "    <div class=\"colab-df-container\">\n",
              "      <div>\n",
              "<style scoped>\n",
              "    .dataframe tbody tr th:only-of-type {\n",
              "        vertical-align: middle;\n",
              "    }\n",
              "\n",
              "    .dataframe tbody tr th {\n",
              "        vertical-align: top;\n",
              "    }\n",
              "\n",
              "    .dataframe thead th {\n",
              "        text-align: right;\n",
              "    }\n",
              "</style>\n",
              "<table border=\"1\" class=\"dataframe\">\n",
              "  <thead>\n",
              "    <tr style=\"text-align: right;\">\n",
              "      <th></th>\n",
              "      <th>id</th>\n",
              "      <th>kode_provinsi</th>\n",
              "      <th>kode_kabupaten_kota</th>\n",
              "      <th>jumlah_tanah_longsor</th>\n",
              "      <th>tahun</th>\n",
              "    </tr>\n",
              "  </thead>\n",
              "  <tbody>\n",
              "    <tr>\n",
              "      <th>count</th>\n",
              "      <td>270.000000</td>\n",
              "      <td>270.0</td>\n",
              "      <td>270.000000</td>\n",
              "      <td>270.000000</td>\n",
              "      <td>270.000000</td>\n",
              "    </tr>\n",
              "    <tr>\n",
              "      <th>mean</th>\n",
              "      <td>135.500000</td>\n",
              "      <td>32.0</td>\n",
              "      <td>3231.333333</td>\n",
              "      <td>20.970370</td>\n",
              "      <td>2016.500000</td>\n",
              "    </tr>\n",
              "    <tr>\n",
              "      <th>std</th>\n",
              "      <td>78.086491</td>\n",
              "      <td>0.0</td>\n",
              "      <td>31.259794</td>\n",
              "      <td>37.892126</td>\n",
              "      <td>2.877615</td>\n",
              "    </tr>\n",
              "    <tr>\n",
              "      <th>min</th>\n",
              "      <td>1.000000</td>\n",
              "      <td>32.0</td>\n",
              "      <td>3201.000000</td>\n",
              "      <td>0.000000</td>\n",
              "      <td>2012.000000</td>\n",
              "    </tr>\n",
              "    <tr>\n",
              "      <th>25%</th>\n",
              "      <td>68.250000</td>\n",
              "      <td>32.0</td>\n",
              "      <td>3207.000000</td>\n",
              "      <td>1.000000</td>\n",
              "      <td>2014.000000</td>\n",
              "    </tr>\n",
              "    <tr>\n",
              "      <th>50%</th>\n",
              "      <td>135.500000</td>\n",
              "      <td>32.0</td>\n",
              "      <td>3214.000000</td>\n",
              "      <td>6.000000</td>\n",
              "      <td>2016.500000</td>\n",
              "    </tr>\n",
              "    <tr>\n",
              "      <th>75%</th>\n",
              "      <td>202.750000</td>\n",
              "      <td>32.0</td>\n",
              "      <td>3273.000000</td>\n",
              "      <td>27.000000</td>\n",
              "      <td>2019.000000</td>\n",
              "    </tr>\n",
              "    <tr>\n",
              "      <th>max</th>\n",
              "      <td>270.000000</td>\n",
              "      <td>32.0</td>\n",
              "      <td>3279.000000</td>\n",
              "      <td>354.000000</td>\n",
              "      <td>2021.000000</td>\n",
              "    </tr>\n",
              "  </tbody>\n",
              "</table>\n",
              "</div>\n",
              "      <button class=\"colab-df-convert\" onclick=\"convertToInteractive('df-91757753-87ac-4ae7-bef8-8a29d9700d5d')\"\n",
              "              title=\"Convert this dataframe to an interactive table.\"\n",
              "              style=\"display:none;\">\n",
              "        \n",
              "  <svg xmlns=\"http://www.w3.org/2000/svg\" height=\"24px\"viewBox=\"0 0 24 24\"\n",
              "       width=\"24px\">\n",
              "    <path d=\"M0 0h24v24H0V0z\" fill=\"none\"/>\n",
              "    <path d=\"M18.56 5.44l.94 2.06.94-2.06 2.06-.94-2.06-.94-.94-2.06-.94 2.06-2.06.94zm-11 1L8.5 8.5l.94-2.06 2.06-.94-2.06-.94L8.5 2.5l-.94 2.06-2.06.94zm10 10l.94 2.06.94-2.06 2.06-.94-2.06-.94-.94-2.06-.94 2.06-2.06.94z\"/><path d=\"M17.41 7.96l-1.37-1.37c-.4-.4-.92-.59-1.43-.59-.52 0-1.04.2-1.43.59L10.3 9.45l-7.72 7.72c-.78.78-.78 2.05 0 2.83L4 21.41c.39.39.9.59 1.41.59.51 0 1.02-.2 1.41-.59l7.78-7.78 2.81-2.81c.8-.78.8-2.07 0-2.86zM5.41 20L4 18.59l7.72-7.72 1.47 1.35L5.41 20z\"/>\n",
              "  </svg>\n",
              "      </button>\n",
              "      \n",
              "  <style>\n",
              "    .colab-df-container {\n",
              "      display:flex;\n",
              "      flex-wrap:wrap;\n",
              "      gap: 12px;\n",
              "    }\n",
              "\n",
              "    .colab-df-convert {\n",
              "      background-color: #E8F0FE;\n",
              "      border: none;\n",
              "      border-radius: 50%;\n",
              "      cursor: pointer;\n",
              "      display: none;\n",
              "      fill: #1967D2;\n",
              "      height: 32px;\n",
              "      padding: 0 0 0 0;\n",
              "      width: 32px;\n",
              "    }\n",
              "\n",
              "    .colab-df-convert:hover {\n",
              "      background-color: #E2EBFA;\n",
              "      box-shadow: 0px 1px 2px rgba(60, 64, 67, 0.3), 0px 1px 3px 1px rgba(60, 64, 67, 0.15);\n",
              "      fill: #174EA6;\n",
              "    }\n",
              "\n",
              "    [theme=dark] .colab-df-convert {\n",
              "      background-color: #3B4455;\n",
              "      fill: #D2E3FC;\n",
              "    }\n",
              "\n",
              "    [theme=dark] .colab-df-convert:hover {\n",
              "      background-color: #434B5C;\n",
              "      box-shadow: 0px 1px 3px 1px rgba(0, 0, 0, 0.15);\n",
              "      filter: drop-shadow(0px 1px 2px rgba(0, 0, 0, 0.3));\n",
              "      fill: #FFFFFF;\n",
              "    }\n",
              "  </style>\n",
              "\n",
              "      <script>\n",
              "        const buttonEl =\n",
              "          document.querySelector('#df-91757753-87ac-4ae7-bef8-8a29d9700d5d button.colab-df-convert');\n",
              "        buttonEl.style.display =\n",
              "          google.colab.kernel.accessAllowed ? 'block' : 'none';\n",
              "\n",
              "        async function convertToInteractive(key) {\n",
              "          const element = document.querySelector('#df-91757753-87ac-4ae7-bef8-8a29d9700d5d');\n",
              "          const dataTable =\n",
              "            await google.colab.kernel.invokeFunction('convertToInteractive',\n",
              "                                                     [key], {});\n",
              "          if (!dataTable) return;\n",
              "\n",
              "          const docLinkHtml = 'Like what you see? Visit the ' +\n",
              "            '<a target=\"_blank\" href=https://colab.research.google.com/notebooks/data_table.ipynb>data table notebook</a>'\n",
              "            + ' to learn more about interactive tables.';\n",
              "          element.innerHTML = '';\n",
              "          dataTable['output_type'] = 'display_data';\n",
              "          await google.colab.output.renderOutput(dataTable, element);\n",
              "          const docLink = document.createElement('div');\n",
              "          docLink.innerHTML = docLinkHtml;\n",
              "          element.appendChild(docLink);\n",
              "        }\n",
              "      </script>\n",
              "    </div>\n",
              "  </div>\n",
              "  "
            ]
          },
          "metadata": {},
          "execution_count": 68
        }
      ],
      "source": [
        "#See a statistical summary of variable with numeric types\n",
        "data.describe()"
      ]
    },
    {
      "cell_type": "markdown",
      "metadata": {
        "id": "-PRxyTcyO3wT"
      },
      "source": [
        "Data Cleaning and Preprocessing"
      ]
    },
    {
      "cell_type": "markdown",
      "metadata": {
        "id": "2mSNNL6-O8eX"
      },
      "source": [
        "Check Duplicate Data\n"
      ]
    },
    {
      "cell_type": "code",
      "execution_count": 69,
      "metadata": {
        "id": "j1EQb_A6O_AB"
      },
      "outputs": [],
      "source": [
        "#Drop duplicate value  \n",
        "data=data.drop_duplicates()"
      ]
    },
    {
      "cell_type": "code",
      "execution_count": 70,
      "metadata": {
        "colab": {
          "base_uri": "https://localhost:8080/"
        },
        "id": "PuuTBJ5rPUkO",
        "outputId": "8cd0052f-c6ac-43f1-b1ab-a0e1c28b6b9b"
      },
      "outputs": [
        {
          "output_type": "execute_result",
          "data": {
            "text/plain": [
              "(270, 8)"
            ]
          },
          "metadata": {},
          "execution_count": 70
        }
      ],
      "source": [
        "#See changes in the number of rows and colums after the duplicate value\n",
        "data.shape"
      ]
    },
    {
      "cell_type": "markdown",
      "metadata": {
        "id": "M18tojLVPnnB"
      },
      "source": [
        "Check data types"
      ]
    },
    {
      "cell_type": "code",
      "execution_count": 71,
      "metadata": {
        "colab": {
          "base_uri": "https://localhost:8080/"
        },
        "id": "RvuGGNtpPi57",
        "outputId": "2c3ae951-9850-4262-a535-73bac3066c65"
      },
      "outputs": [
        {
          "output_type": "execute_result",
          "data": {
            "text/plain": [
              "id                       int64\n",
              "kode_provinsi            int64\n",
              "nama_provinsi           object\n",
              "kode_kabupaten_kota      int64\n",
              "nama_kabupaten_kota     object\n",
              "jumlah_tanah_longsor     int64\n",
              "satuan                  object\n",
              "tahun                    int64\n",
              "dtype: object"
            ]
          },
          "metadata": {},
          "execution_count": 71
        }
      ],
      "source": [
        "#Check data types\n",
        "data.dtypes"
      ]
    },
    {
      "cell_type": "code",
      "execution_count": 72,
      "metadata": {
        "id": "a_AcIyA7PvYO"
      },
      "outputs": [],
      "source": [
        "#merubah niliai kosong dengan isi spasi menjadi NA\n",
        "data[\"jumlah_tanah_longsor\"]=data[\"jumlah_tanah_longsor\"].replace(\"\",np.nan)"
      ]
    },
    {
      "cell_type": "code",
      "execution_count": 73,
      "metadata": {
        "id": "04lKNWxEQzgn"
      },
      "outputs": [],
      "source": [
        "#Merubah tipe data\n",
        "data[\"jummlah_tanah_longsor\"]=data[\"jumlah_tanah_longsor\"].astype(\"float64\")"
      ]
    },
    {
      "cell_type": "code",
      "execution_count": 74,
      "metadata": {
        "colab": {
          "base_uri": "https://localhost:8080/"
        },
        "id": "t63FNvSiRLwD",
        "outputId": "f9b571fd-af5d-4a01-e153-0d7857c54bea"
      },
      "outputs": [
        {
          "output_type": "execute_result",
          "data": {
            "text/plain": [
              "id                         int64\n",
              "kode_provinsi              int64\n",
              "nama_provinsi             object\n",
              "kode_kabupaten_kota        int64\n",
              "nama_kabupaten_kota       object\n",
              "jumlah_tanah_longsor       int64\n",
              "satuan                    object\n",
              "tahun                      int64\n",
              "jummlah_tanah_longsor    float64\n",
              "dtype: object"
            ]
          },
          "metadata": {},
          "execution_count": 74
        }
      ],
      "source": [
        "data.dtypes"
      ]
    },
    {
      "cell_type": "markdown",
      "metadata": {
        "id": "DEE2Qr5hdXQc"
      },
      "source": [
        "CHECK MISSING VALUE"
      ]
    },
    {
      "cell_type": "code",
      "execution_count": 75,
      "metadata": {
        "colab": {
          "base_uri": "https://localhost:8080/"
        },
        "id": "PotEuX-qdV_E",
        "outputId": "1ca55b33-3b98-4c16-e9dd-c738c8cf551f"
      },
      "outputs": [
        {
          "output_type": "execute_result",
          "data": {
            "text/plain": [
              "id                       0\n",
              "kode_provinsi            0\n",
              "nama_provinsi            0\n",
              "kode_kabupaten_kota      0\n",
              "nama_kabupaten_kota      0\n",
              "jumlah_tanah_longsor     0\n",
              "satuan                   0\n",
              "tahun                    0\n",
              "jummlah_tanah_longsor    0\n",
              "dtype: int64"
            ]
          },
          "metadata": {},
          "execution_count": 75
        }
      ],
      "source": [
        "#Check the missing value\n",
        "data.isnull().sum()"
      ]
    },
    {
      "cell_type": "markdown",
      "metadata": {
        "id": "PtJ-IvZve5aD"
      },
      "source": [
        "IMPUTE MISSING VALUE"
      ]
    },
    {
      "cell_type": "code",
      "execution_count": 85,
      "metadata": {
        "colab": {
          "base_uri": "https://localhost:8080/",
          "height": 262
        },
        "id": "X7xB-FIpe4Uf",
        "outputId": "53616d75-9da0-4632-c32c-aa6681b22c9c"
      },
      "outputs": [
        {
          "output_type": "stream",
          "name": "stderr",
          "text": [
            "/usr/local/lib/python3.8/dist-packages/seaborn/distributions.py:2619: FutureWarning: `distplot` is a deprecated function and will be removed in a future version. Please adapt your code to use either `displot` (a figure-level function with similar flexibility) or `histplot` (an axes-level function for histograms).\n",
            "  warnings.warn(msg, FutureWarning)\n"
          ]
        },
        {
          "output_type": "display_data",
          "data": {
            "text/plain": [
              "<Figure size 720x216 with 1 Axes>"
            ],
            "image/png": "[encoded data removed]"
          },
          "metadata": {
            "needs_background": "light"
          }
        }
      ],
      "source": [
        "#look at the distribution of the totalcharges variable with histogram and destiny plot\n",
        "plt.figure(figsize=(10,3))\n",
        "sns.distplot(data[\"jumlah_tanah_longsor\"])\n",
        "plt.show()"
      ]
    },
    {
      "cell_type": "code",
      "source": [
        "#because the totalcharges variable has positive skewed, therefore the missing value is imputed with the median\n",
        "fill=data[\"jumlah_tanah_longsor\"].median()\n",
        "data[\"jumlah_tanah_longsor\"]=data[\"jumlah_tanah_longsor\"].fillna(fill)"
      ],
      "metadata": {
        "id": "sfK3pNkk8FEq"
      },
      "execution_count": 84,
      "outputs": []
    },
    {
      "cell_type": "code",
      "source": [
        "#check missing value after imputation\n",
        "data.isnull().sum()"
      ],
      "metadata": {
        "colab": {
          "base_uri": "https://localhost:8080/"
        },
        "id": "ar41hEXt8xuF",
        "outputId": "f302d09a-d104-4eea-a4e3-3aec1b5b3f83"
      },
      "execution_count": 87,
      "outputs": [
        {
          "output_type": "execute_result",
          "data": {
            "text/plain": [
              "id                       0\n",
              "kode_provinsi            0\n",
              "nama_provinsi            0\n",
              "kode_kabupaten_kota      0\n",
              "nama_kabupaten_kota      0\n",
              "jumlah_tanah_longsor     0\n",
              "satuan                   0\n",
              "tahun                    0\n",
              "jummlah_tanah_longsor    0\n",
              "dtype: int64"
            ]
          },
          "metadata": {},
          "execution_count": 87
        }
      ]
    },
    {
      "cell_type": "markdown",
      "source": [
        "Outlier Detection"
      ],
      "metadata": {
        "id": "kwj6cG0689DF"
      }
    },
    {
      "cell_type": "code",
      "source": [
        "#check Outlier on Tenure variable\n",
        "plt.figure(figsize=(10,5))\n",
        "sns.boxplot(data[\"tahun\"])\n",
        "plt.show()"
      ],
      "metadata": {
        "colab": {
          "base_uri": "https://localhost:8080/",
          "height": 369
        },
        "id": "3LWvoawp9AZa",
        "outputId": "eaaac0df-dea2-457e-8b4f-46c0706d8d0d"
      },
      "execution_count": 86,
      "outputs": [
        {
          "output_type": "stream",
          "name": "stderr",
          "text": [
            "/usr/local/lib/python3.8/dist-packages/seaborn/_decorators.py:36: FutureWarning: Pass the following variable as a keyword arg: x. From version 0.12, the only valid positional argument will be `data`, and passing other arguments without an explicit keyword will result in an error or misinterpretation.\n",
            "  warnings.warn(\n"
          ]
        },
        {
          "output_type": "display_data",
          "data": {
            "text/plain": [
              "<Figure size 720x360 with 1 Axes>"
            ],
            "image/png": "[encoded data removed]"
          },
          "metadata": {
            "needs_background": "light"
          }
        }
      ]
    },
    {
      "cell_type": "code",
      "source": [
        "#check Outlier on the monthlycharges variable\n",
        "plt.figure(figsize=(10,3))\n",
        "sns.boxplot(data[\"jumlah_tanah_longsor\"])\n",
        "plt.show"
      ],
      "metadata": {
        "colab": {
          "base_uri": "https://localhost:8080/",
          "height": 278
        },
        "id": "aKxC7X509i8P",
        "outputId": "06cb37be-e78f-48ea-c048-e19ec6456c54"
      },
      "execution_count": 90,
      "outputs": [
        {
          "output_type": "stream",
          "name": "stderr",
          "text": [
            "/usr/local/lib/python3.8/dist-packages/seaborn/_decorators.py:36: FutureWarning: Pass the following variable as a keyword arg: x. From version 0.12, the only valid positional argument will be `data`, and passing other arguments without an explicit keyword will result in an error or misinterpretation.\n",
            "  warnings.warn(\n"
          ]
        },
        {
          "output_type": "execute_result",
          "data": {
            "text/plain": [
              "<function matplotlib.pyplot.show(*args, **kw)>"
            ]
          },
          "metadata": {},
          "execution_count": 90
        },
        {
          "output_type": "display_data",
          "data": {
            "text/plain": [
              "<Figure size 720x216 with 1 Axes>"
            ],
            "image/png": "[encoded data removed]"
          },
          "metadata": {
            "needs_background": "light"
          }
        }
      ]
    },
    {
      "cell_type": "code",
      "source": [
        "#See Observation outliners onn the totalcharges variable\n",
        "Q1=data[\"jumlah_tanah_longsor\"].quantile(0.25)\n",
        "Q3=data[\"tahun\"].quantile(0.75)\n",
        "IQR=Q3-Q1\n",
        "lower_range = Q1 - (1.5 * IQR)\n",
        "upper_range = Q2 + (1.5 *IQR)\n",
        "data.loc[(data[\"jumlah_tanah_longsor\"]>upper_range),:]"
      ],
      "metadata": {
        "colab": {
          "base_uri": "https://localhost:8080/",
          "height": 50
        },
        "id": "e4hrVP5Q-F9Y",
        "outputId": "b2550044-2d34-4071-8e2d-301bf85dd773"
      },
      "execution_count": 91,
      "outputs": [
        {
          "output_type": "execute_result",
          "data": {
            "text/plain": [
              "Empty DataFrame\n",
              "Columns: [id, kode_provinsi, nama_provinsi, kode_kabupaten_kota, nama_kabupaten_kota, jumlah_tanah_longsor, satuan, tahun, jummlah_tanah_longsor]\n",
              "Index: []"
            ],
            "text/html": [
              "\n",
              "  <div id=\"df-2141b8f8-0c69-4fb2-a3b8-3a859577b445\">\n",
              "    <div class=\"colab-df-container\">\n",
              "      <div>\n",
              "<style scoped>\n",
              "    .dataframe tbody tr th:only-of-type {\n",
              "        vertical-align: middle;\n",
              "    }\n",
              "\n",
              "    .dataframe tbody tr th {\n",
              "        vertical-align: top;\n",
              "    }\n",
              "\n",
              "    .dataframe thead th {\n",
              "        text-align: right;\n",
              "    }\n",
              "</style>\n",
              "<table border=\"1\" class=\"dataframe\">\n",
              "  <thead>\n",
              "    <tr style=\"text-align: right;\">\n",
              "      <th></th>\n",
              "      <th>id</th>\n",
              "      <th>kode_provinsi</th>\n",
              "      <th>nama_provinsi</th>\n",
              "      <th>kode_kabupaten_kota</th>\n",
              "      <th>nama_kabupaten_kota</th>\n",
              "      <th>jumlah_tanah_longsor</th>\n",
              "      <th>satuan</th>\n",
              "      <th>tahun</th>\n",
              "      <th>jummlah_tanah_longsor</th>\n",
              "    </tr>\n",
              "  </thead>\n",
              "  <tbody>\n",
              "  </tbody>\n",
              "</table>\n",
              "</div>\n",
              "      <button class=\"colab-df-convert\" onclick=\"convertToInteractive('df-2141b8f8-0c69-4fb2-a3b8-3a859577b445')\"\n",
              "              title=\"Convert this dataframe to an interactive table.\"\n",
              "              style=\"display:none;\">\n",
              "        \n",
              "  <svg xmlns=\"http://www.w3.org/2000/svg\" height=\"24px\"viewBox=\"0 0 24 24\"\n",
              "       width=\"24px\">\n",
              "    <path d=\"M0 0h24v24H0V0z\" fill=\"none\"/>\n",
              "    <path d=\"M18.56 5.44l.94 2.06.94-2.06 2.06-.94-2.06-.94-.94-2.06-.94 2.06-2.06.94zm-11 1L8.5 8.5l.94-2.06 2.06-.94-2.06-.94L8.5 2.5l-.94 2.06-2.06.94zm10 10l.94 2.06.94-2.06 2.06-.94-2.06-.94-.94-2.06-.94 2.06-2.06.94z\"/><path d=\"M17.41 7.96l-1.37-1.37c-.4-.4-.92-.59-1.43-.59-.52 0-1.04.2-1.43.59L10.3 9.45l-7.72 7.72c-.78.78-.78 2.05 0 2.83L4 21.41c.39.39.9.59 1.41.59.51 0 1.02-.2 1.41-.59l7.78-7.78 2.81-2.81c.8-.78.8-2.07 0-2.86zM5.41 20L4 18.59l7.72-7.72 1.47 1.35L5.41 20z\"/>\n",
              "  </svg>\n",
              "      </button>\n",
              "      \n",
              "  <style>\n",
              "    .colab-df-container {\n",
              "      display:flex;\n",
              "      flex-wrap:wrap;\n",
              "      gap: 12px;\n",
              "    }\n",
              "\n",
              "    .colab-df-convert {\n",
              "      background-color: #E8F0FE;\n",
              "      border: none;\n",
              "      border-radius: 50%;\n",
              "      cursor: pointer;\n",
              "      display: none;\n",
              "      fill: #1967D2;\n",
              "      height: 32px;\n",
              "      padding: 0 0 0 0;\n",
              "      width: 32px;\n",
              "    }\n",
              "\n",
              "    .colab-df-convert:hover {\n",
              "      background-color: #E2EBFA;\n",
              "      box-shadow: 0px 1px 2px rgba(60, 64, 67, 0.3), 0px 1px 3px 1px rgba(60, 64, 67, 0.15);\n",
              "      fill: #174EA6;\n",
              "    }\n",
              "\n",
              "    [theme=dark] .colab-df-convert {\n",
              "      background-color: #3B4455;\n",
              "      fill: #D2E3FC;\n",
              "    }\n",
              "\n",
              "    [theme=dark] .colab-df-convert:hover {\n",
              "      background-color: #434B5C;\n",
              "      box-shadow: 0px 1px 3px 1px rgba(0, 0, 0, 0.15);\n",
              "      filter: drop-shadow(0px 1px 2px rgba(0, 0, 0, 0.3));\n",
              "      fill: #FFFFFF;\n",
              "    }\n",
              "  </style>\n",
              "\n",
              "      <script>\n",
              "        const buttonEl =\n",
              "          document.querySelector('#df-2141b8f8-0c69-4fb2-a3b8-3a859577b445 button.colab-df-convert');\n",
              "        buttonEl.style.display =\n",
              "          google.colab.kernel.accessAllowed ? 'block' : 'none';\n",
              "\n",
              "        async function convertToInteractive(key) {\n",
              "          const element = document.querySelector('#df-2141b8f8-0c69-4fb2-a3b8-3a859577b445');\n",
              "          const dataTable =\n",
              "            await google.colab.kernel.invokeFunction('convertToInteractive',\n",
              "                                                     [key], {});\n",
              "          if (!dataTable) return;\n",
              "\n",
              "          const docLinkHtml = 'Like what you see? Visit the ' +\n",
              "            '<a target=\"_blank\" href=https://colab.research.google.com/notebooks/data_table.ipynb>data table notebook</a>'\n",
              "            + ' to learn more about interactive tables.';\n",
              "          element.innerHTML = '';\n",
              "          dataTable['output_type'] = 'display_data';\n",
              "          await google.colab.output.renderOutput(dataTable, element);\n",
              "          const docLink = document.createElement('div');\n",
              "          docLink.innerHTML = docLinkHtml;\n",
              "          element.appendChild(docLink);\n",
              "        }\n",
              "      </script>\n",
              "    </div>\n",
              "  </div>\n",
              "  "
            ]
          },
          "metadata": {},
          "execution_count": 91
        }
      ]
    },
    {
      "cell_type": "code",
      "source": [
        "#Replace outliner observations with upper bound and lower bound\n",
        "data.loc[(data[\"jumlah_tanah_longsor\"]>upper_range), \"jumlah_tanah_longsor\"]=upper_range"
      ],
      "metadata": {
        "id": "2ZCXW6dBAB4f"
      },
      "execution_count": 92,
      "outputs": []
    },
    {
      "cell_type": "code",
      "source": [
        "#check outlier on the totalcharges variable\n",
        "plt.figure(figsize=(10,2))\n",
        "sns.boxplot(data[\"jumlah_tanah_longsor\"])\n",
        "plt.show()"
      ],
      "metadata": {
        "colab": {
          "base_uri": "https://localhost:8080/",
          "height": 207
        },
        "id": "f6vkyLq9Ai6f",
        "outputId": "e20b9f73-b25d-4fd3-b6c4-f85bea5bd9d3"
      },
      "execution_count": 93,
      "outputs": [
        {
          "output_type": "stream",
          "name": "stderr",
          "text": [
            "/usr/local/lib/python3.8/dist-packages/seaborn/_decorators.py:36: FutureWarning: Pass the following variable as a keyword arg: x. From version 0.12, the only valid positional argument will be `data`, and passing other arguments without an explicit keyword will result in an error or misinterpretation.\n",
            "  warnings.warn(\n"
          ]
        },
        {
          "output_type": "display_data",
          "data": {
            "text/plain": [
              "<Figure size 720x144 with 1 Axes>"
            ],
            "image/png": "[encoded data removed]"
          },
          "metadata": {
            "needs_background": "light"
          }
        }
      ]
    },
    {
      "cell_type": "markdown",
      "source": [
        "Handle Inconsistent Data"
      ],
      "metadata": {
        "id": "COt-zKG0BLXK"
      }
    },
    {
      "cell_type": "code",
      "source": [
        "from pydoc import replace\n",
        "#replace \"No Internet Service with No\"\n",
        "replace_colsl = ['kode_provinsi', 'nama_provinsi', 'kode_kabupaten_kota']\n",
        "for i in replace_colsl:\n",
        "    data[i] = data[i].replace({'No internet service' : 'No'})\n",
        "\n",
        "#Replace \"No Phone service\" with \"No\"\n",
        "data[\"id\"] =data['id'].replace({'No Phone Service' : 'No'})"
      ],
      "metadata": {
        "id": "RVCZe0dHBJyP"
      },
      "execution_count": 94,
      "outputs": []
    },
    {
      "cell_type": "markdown",
      "source": [
        "Encoding Variables"
      ],
      "metadata": {
        "id": "qleVwFdeDRBq"
      }
    },
    {
      "cell_type": "code",
      "source": [
        "from sklearn.preprocessing import LabelEncoder\n",
        "\n",
        "#Separating Categorical and numerical columns\n",
        "Id_col = ['id']\n",
        "num_cols = ['jumlah_tanah_longsor']\n",
        "\n",
        "#Biner category colums\n",
        "bin_cols = ['kode_provinsi','kode_kabupaten_kota','satuan','tahun']\n",
        "\n",
        "#Multi category colums\n",
        "multi_cols=['nama_provinsi','nama_kabupaten_kota']\n",
        "\n",
        "#Label encoding Biner category colums\n",
        "le = LabelEncoder()\n",
        "for i in bin_cols:\n",
        "  data[i]=le.fit_transform(data[i])\n",
        "\n",
        "#Label encoding for nominal multi category colums\n",
        "data=pd.get_dummies(data=data,columns=multi_cols,drop_first=True)"
      ],
      "metadata": {
        "id": "4GRXsRmMDMsk"
      },
      "execution_count": 95,
      "outputs": []
    },
    {
      "cell_type": "code",
      "source": [
        "data"
      ],
      "metadata": {
        "colab": {
          "base_uri": "https://localhost:8080/",
          "height": 506
        },
        "id": "nXNQA8JWEyBQ",
        "outputId": "ceca1da6-096c-422b-cfff-25f9c6264c4e"
      },
      "execution_count": 50,
      "outputs": [
        {
          "output_type": "execute_result",
          "data": {
            "text/plain": [
              "      id  kode_provinsi  kode_kabupaten_kota  jumlah_tanah_longsor  satuan  \\\n",
              "0      1              0                    0                     0       0   \n",
              "1      2              0                    1                    48       0   \n",
              "2      3              0                    2                     9       0   \n",
              "3      4              0                    3                    12       0   \n",
              "4      5              0                    4                    36       0   \n",
              "..   ...            ...                  ...                   ...     ...   \n",
              "265  266              0                   22                     2       0   \n",
              "266  267              0                   23                     2       0   \n",
              "267  268              0                   24                     3       0   \n",
              "268  269              0                   25                     2       0   \n",
              "269  270              0                   26                     3       0   \n",
              "\n",
              "     tahun  jummlah_tanah_longsor  \\\n",
              "0        0                    0.0   \n",
              "1        0                   48.0   \n",
              "2        0                    9.0   \n",
              "3        0                   12.0   \n",
              "4        0                   36.0   \n",
              "..     ...                    ...   \n",
              "265      9                    2.0   \n",
              "266      9                    2.0   \n",
              "267      9                    3.0   \n",
              "268      9                    2.0   \n",
              "269      9                    3.0   \n",
              "\n",
              "     nama_kabupaten_kota_KABUPATEN BANDUNG BARAT  \\\n",
              "0                                              0   \n",
              "1                                              0   \n",
              "2                                              0   \n",
              "3                                              0   \n",
              "4                                              0   \n",
              "..                                           ...   \n",
              "265                                            0   \n",
              "266                                            0   \n",
              "267                                            0   \n",
              "268                                            0   \n",
              "269                                            0   \n",
              "\n",
              "     nama_kabupaten_kota_KABUPATEN BEKASI  \\\n",
              "0                                       0   \n",
              "1                                       0   \n",
              "2                                       0   \n",
              "3                                       0   \n",
              "4                                       0   \n",
              "..                                    ...   \n",
              "265                                     0   \n",
              "266                                     0   \n",
              "267                                     0   \n",
              "268                                     0   \n",
              "269                                     0   \n",
              "\n",
              "     nama_kabupaten_kota_KABUPATEN BOGOR  ...  \\\n",
              "0                                      1  ...   \n",
              "1                                      0  ...   \n",
              "2                                      0  ...   \n",
              "3                                      0  ...   \n",
              "4                                      0  ...   \n",
              "..                                   ...  ...   \n",
              "265                                    0  ...   \n",
              "266                                    0  ...   \n",
              "267                                    0  ...   \n",
              "268                                    0  ...   \n",
              "269                                    0  ...   \n",
              "\n",
              "     nama_kabupaten_kota_KABUPATEN TASIKMALAYA  \\\n",
              "0                                            0   \n",
              "1                                            0   \n",
              "2                                            0   \n",
              "3                                            0   \n",
              "4                                            0   \n",
              "..                                         ...   \n",
              "265                                          0   \n",
              "266                                          0   \n",
              "267                                          0   \n",
              "268                                          0   \n",
              "269                                          0   \n",
              "\n",
              "     nama_kabupaten_kota_KOTA BANDUNG  nama_kabupaten_kota_KOTA BANJAR  \\\n",
              "0                                   0                                0   \n",
              "1                                   0                                0   \n",
              "2                                   0                                0   \n",
              "3                                   0                                0   \n",
              "4                                   0                                0   \n",
              "..                                ...                              ...   \n",
              "265                                 0                                0   \n",
              "266                                 0                                0   \n",
              "267                                 0                                0   \n",
              "268                                 0                                0   \n",
              "269                                 0                                1   \n",
              "\n",
              "     nama_kabupaten_kota_KOTA BEKASI  nama_kabupaten_kota_KOTA BOGOR  \\\n",
              "0                                  0                               0   \n",
              "1                                  0                               0   \n",
              "2                                  0                               0   \n",
              "3                                  0                               0   \n",
              "4                                  0                               0   \n",
              "..                               ...                             ...   \n",
              "265                                1                               0   \n",
              "266                                0                               0   \n",
              "267                                0                               0   \n",
              "268                                0                               0   \n",
              "269                                0                               0   \n",
              "\n",
              "     nama_kabupaten_kota_KOTA CIMAHI  nama_kabupaten_kota_KOTA CIREBON  \\\n",
              "0                                  0                                 0   \n",
              "1                                  0                                 0   \n",
              "2                                  0                                 0   \n",
              "3                                  0                                 0   \n",
              "4                                  0                                 0   \n",
              "..                               ...                               ...   \n",
              "265                                0                                 0   \n",
              "266                                0                                 0   \n",
              "267                                1                                 0   \n",
              "268                                0                                 0   \n",
              "269                                0                                 0   \n",
              "\n",
              "     nama_kabupaten_kota_KOTA DEPOK  nama_kabupaten_kota_KOTA SUKABUMI  \\\n",
              "0                                 0                                  0   \n",
              "1                                 0                                  0   \n",
              "2                                 0                                  0   \n",
              "3                                 0                                  0   \n",
              "4                                 0                                  0   \n",
              "..                              ...                                ...   \n",
              "265                               0                                  0   \n",
              "266                               1                                  0   \n",
              "267                               0                                  0   \n",
              "268                               0                                  0   \n",
              "269                               0                                  0   \n",
              "\n",
              "     nama_kabupaten_kota_KOTA TASIKMALAYA  \n",
              "0                                       0  \n",
              "1                                       0  \n",
              "2                                       0  \n",
              "3                                       0  \n",
              "4                                       0  \n",
              "..                                    ...  \n",
              "265                                     0  \n",
              "266                                     0  \n",
              "267                                     0  \n",
              "268                                     1  \n",
              "269                                     0  \n",
              "\n",
              "[270 rows x 33 columns]"
            ],
            "text/html": [
              "\n",
              "  <div id=\"df-b49a90a9-1bc5-433d-bcfb-752de81a54ab\">\n",
              "    <div class=\"colab-df-container\">\n",
              "      <div>\n",
              "<style scoped>\n",
              "    .dataframe tbody tr th:only-of-type {\n",
              "        vertical-align: middle;\n",
              "    }\n",
              "\n",
              "    .dataframe tbody tr th {\n",
              "        vertical-align: top;\n",
              "    }\n",
              "\n",
              "    .dataframe thead th {\n",
              "        text-align: right;\n",
              "    }\n",
              "</style>\n",
              "<table border=\"1\" class=\"dataframe\">\n",
              "  <thead>\n",
              "    <tr style=\"text-align: right;\">\n",
              "      <th></th>\n",
              "      <th>id</th>\n",
              "      <th>kode_provinsi</th>\n",
              "      <th>kode_kabupaten_kota</th>\n",
              "      <th>jumlah_tanah_longsor</th>\n",
              "      <th>satuan</th>\n",
              "      <th>tahun</th>\n",
              "      <th>jummlah_tanah_longsor</th>\n",
              "      <th>nama_kabupaten_kota_KABUPATEN BANDUNG BARAT</th>\n",
              "      <th>nama_kabupaten_kota_KABUPATEN BEKASI</th>\n",
              "      <th>nama_kabupaten_kota_KABUPATEN BOGOR</th>\n",
              "      <th>...</th>\n",
              "      <th>nama_kabupaten_kota_KABUPATEN TASIKMALAYA</th>\n",
              "      <th>nama_kabupaten_kota_KOTA BANDUNG</th>\n",
              "      <th>nama_kabupaten_kota_KOTA BANJAR</th>\n",
              "      <th>nama_kabupaten_kota_KOTA BEKASI</th>\n",
              "      <th>nama_kabupaten_kota_KOTA BOGOR</th>\n",
              "      <th>nama_kabupaten_kota_KOTA CIMAHI</th>\n",
              "      <th>nama_kabupaten_kota_KOTA CIREBON</th>\n",
              "      <th>nama_kabupaten_kota_KOTA DEPOK</th>\n",
              "      <th>nama_kabupaten_kota_KOTA SUKABUMI</th>\n",
              "      <th>nama_kabupaten_kota_KOTA TASIKMALAYA</th>\n",
              "    </tr>\n",
              "  </thead>\n",
              "  <tbody>\n",
              "    <tr>\n",
              "      <th>0</th>\n",
              "      <td>1</td>\n",
              "      <td>0</td>\n",
              "      <td>0</td>\n",
              "      <td>0</td>\n",
              "      <td>0</td>\n",
              "      <td>0</td>\n",
              "      <td>0.0</td>\n",
              "      <td>0</td>\n",
              "      <td>0</td>\n",
              "      <td>1</td>\n",
              "      <td>...</td>\n",
              "      <td>0</td>\n",
              "      <td>0</td>\n",
              "      <td>0</td>\n",
              "      <td>0</td>\n",
              "      <td>0</td>\n",
              "      <td>0</td>\n",
              "      <td>0</td>\n",
              "      <td>0</td>\n",
              "      <td>0</td>\n",
              "      <td>0</td>\n",
              "    </tr>\n",
              "    <tr>\n",
              "      <th>1</th>\n",
              "      <td>2</td>\n",
              "      <td>0</td>\n",
              "      <td>1</td>\n",
              "      <td>48</td>\n",
              "      <td>0</td>\n",
              "      <td>0</td>\n",
              "      <td>48.0</td>\n",
              "      <td>0</td>\n",
              "      <td>0</td>\n",
              "      <td>0</td>\n",
              "      <td>...</td>\n",
              "      <td>0</td>\n",
              "      <td>0</td>\n",
              "      <td>0</td>\n",
              "      <td>0</td>\n",
              "      <td>0</td>\n",
              "      <td>0</td>\n",
              "      <td>0</td>\n",
              "      <td>0</td>\n",
              "      <td>0</td>\n",
              "      <td>0</td>\n",
              "    </tr>\n",
              "    <tr>\n",
              "      <th>2</th>\n",
              "      <td>3</td>\n",
              "      <td>0</td>\n",
              "      <td>2</td>\n",
              "      <td>9</td>\n",
              "      <td>0</td>\n",
              "      <td>0</td>\n",
              "      <td>9.0</td>\n",
              "      <td>0</td>\n",
              "      <td>0</td>\n",
              "      <td>0</td>\n",
              "      <td>...</td>\n",
              "      <td>0</td>\n",
              "      <td>0</td>\n",
              "      <td>0</td>\n",
              "      <td>0</td>\n",
              "      <td>0</td>\n",
              "      <td>0</td>\n",
              "      <td>0</td>\n",
              "      <td>0</td>\n",
              "      <td>0</td>\n",
              "      <td>0</td>\n",
              "    </tr>\n",
              "    <tr>\n",
              "      <th>3</th>\n",
              "      <td>4</td>\n",
              "      <td>0</td>\n",
              "      <td>3</td>\n",
              "      <td>12</td>\n",
              "      <td>0</td>\n",
              "      <td>0</td>\n",
              "      <td>12.0</td>\n",
              "      <td>0</td>\n",
              "      <td>0</td>\n",
              "      <td>0</td>\n",
              "      <td>...</td>\n",
              "      <td>0</td>\n",
              "      <td>0</td>\n",
              "      <td>0</td>\n",
              "      <td>0</td>\n",
              "      <td>0</td>\n",
              "      <td>0</td>\n",
              "      <td>0</td>\n",
              "      <td>0</td>\n",
              "      <td>0</td>\n",
              "      <td>0</td>\n",
              "    </tr>\n",
              "    <tr>\n",
              "      <th>4</th>\n",
              "      <td>5</td>\n",
              "      <td>0</td>\n",
              "      <td>4</td>\n",
              "      <td>36</td>\n",
              "      <td>0</td>\n",
              "      <td>0</td>\n",
              "      <td>36.0</td>\n",
              "      <td>0</td>\n",
              "      <td>0</td>\n",
              "      <td>0</td>\n",
              "      <td>...</td>\n",
              "      <td>0</td>\n",
              "      <td>0</td>\n",
              "      <td>0</td>\n",
              "      <td>0</td>\n",
              "      <td>0</td>\n",
              "      <td>0</td>\n",
              "      <td>0</td>\n",
              "      <td>0</td>\n",
              "      <td>0</td>\n",
              "      <td>0</td>\n",
              "    </tr>\n",
              "    <tr>\n",
              "      <th>...</th>\n",
              "      <td>...</td>\n",
              "      <td>...</td>\n",
              "      <td>...</td>\n",
              "      <td>...</td>\n",
              "      <td>...</td>\n",
              "      <td>...</td>\n",
              "      <td>...</td>\n",
              "      <td>...</td>\n",
              "      <td>...</td>\n",
              "      <td>...</td>\n",
              "      <td>...</td>\n",
              "      <td>...</td>\n",
              "      <td>...</td>\n",
              "      <td>...</td>\n",
              "      <td>...</td>\n",
              "      <td>...</td>\n",
              "      <td>...</td>\n",
              "      <td>...</td>\n",
              "      <td>...</td>\n",
              "      <td>...</td>\n",
              "      <td>...</td>\n",
              "    </tr>\n",
              "    <tr>\n",
              "      <th>265</th>\n",
              "      <td>266</td>\n",
              "      <td>0</td>\n",
              "      <td>22</td>\n",
              "      <td>2</td>\n",
              "      <td>0</td>\n",
              "      <td>9</td>\n",
              "      <td>2.0</td>\n",
              "      <td>0</td>\n",
              "      <td>0</td>\n",
              "      <td>0</td>\n",
              "      <td>...</td>\n",
              "      <td>0</td>\n",
              "      <td>0</td>\n",
              "      <td>0</td>\n",
              "      <td>1</td>\n",
              "      <td>0</td>\n",
              "      <td>0</td>\n",
              "      <td>0</td>\n",
              "      <td>0</td>\n",
              "      <td>0</td>\n",
              "      <td>0</td>\n",
              "    </tr>\n",
              "    <tr>\n",
              "      <th>266</th>\n",
              "      <td>267</td>\n",
              "      <td>0</td>\n",
              "      <td>23</td>\n",
              "      <td>2</td>\n",
              "      <td>0</td>\n",
              "      <td>9</td>\n",
              "      <td>2.0</td>\n",
              "      <td>0</td>\n",
              "      <td>0</td>\n",
              "      <td>0</td>\n",
              "      <td>...</td>\n",
              "      <td>0</td>\n",
              "      <td>0</td>\n",
              "      <td>0</td>\n",
              "      <td>0</td>\n",
              "      <td>0</td>\n",
              "      <td>0</td>\n",
              "      <td>0</td>\n",
              "      <td>1</td>\n",
              "      <td>0</td>\n",
              "      <td>0</td>\n",
              "    </tr>\n",
              "    <tr>\n",
              "      <th>267</th>\n",
              "      <td>268</td>\n",
              "      <td>0</td>\n",
              "      <td>24</td>\n",
              "      <td>3</td>\n",
              "      <td>0</td>\n",
              "      <td>9</td>\n",
              "      <td>3.0</td>\n",
              "      <td>0</td>\n",
              "      <td>0</td>\n",
              "      <td>0</td>\n",
              "      <td>...</td>\n",
              "      <td>0</td>\n",
              "      <td>0</td>\n",
              "      <td>0</td>\n",
              "      <td>0</td>\n",
              "      <td>0</td>\n",
              "      <td>1</td>\n",
              "      <td>0</td>\n",
              "      <td>0</td>\n",
              "      <td>0</td>\n",
              "      <td>0</td>\n",
              "    </tr>\n",
              "    <tr>\n",
              "      <th>268</th>\n",
              "      <td>269</td>\n",
              "      <td>0</td>\n",
              "      <td>25</td>\n",
              "      <td>2</td>\n",
              "      <td>0</td>\n",
              "      <td>9</td>\n",
              "      <td>2.0</td>\n",
              "      <td>0</td>\n",
              "      <td>0</td>\n",
              "      <td>0</td>\n",
              "      <td>...</td>\n",
              "      <td>0</td>\n",
              "      <td>0</td>\n",
              "      <td>0</td>\n",
              "      <td>0</td>\n",
              "      <td>0</td>\n",
              "      <td>0</td>\n",
              "      <td>0</td>\n",
              "      <td>0</td>\n",
              "      <td>0</td>\n",
              "      <td>1</td>\n",
              "    </tr>\n",
              "    <tr>\n",
              "      <th>269</th>\n",
              "      <td>270</td>\n",
              "      <td>0</td>\n",
              "      <td>26</td>\n",
              "      <td>3</td>\n",
              "      <td>0</td>\n",
              "      <td>9</td>\n",
              "      <td>3.0</td>\n",
              "      <td>0</td>\n",
              "      <td>0</td>\n",
              "      <td>0</td>\n",
              "      <td>...</td>\n",
              "      <td>0</td>\n",
              "      <td>0</td>\n",
              "      <td>1</td>\n",
              "      <td>0</td>\n",
              "      <td>0</td>\n",
              "      <td>0</td>\n",
              "      <td>0</td>\n",
              "      <td>0</td>\n",
              "      <td>0</td>\n",
              "      <td>0</td>\n",
              "    </tr>\n",
              "  </tbody>\n",
              "</table>\n",
              "<p>270 rows × 33 columns</p>\n",
              "</div>\n",
              "      <button class=\"colab-df-convert\" onclick=\"convertToInteractive('df-b49a90a9-1bc5-433d-bcfb-752de81a54ab')\"\n",
              "              title=\"Convert this dataframe to an interactive table.\"\n",
              "              style=\"display:none;\">\n",
              "        \n",
              "  <svg xmlns=\"http://www.w3.org/2000/svg\" height=\"24px\"viewBox=\"0 0 24 24\"\n",
              "       width=\"24px\">\n",
              "    <path d=\"M0 0h24v24H0V0z\" fill=\"none\"/>\n",
              "    <path d=\"M18.56 5.44l.94 2.06.94-2.06 2.06-.94-2.06-.94-.94-2.06-.94 2.06-2.06.94zm-11 1L8.5 8.5l.94-2.06 2.06-.94-2.06-.94L8.5 2.5l-.94 2.06-2.06.94zm10 10l.94 2.06.94-2.06 2.06-.94-2.06-.94-.94-2.06-.94 2.06-2.06.94z\"/><path d=\"M17.41 7.96l-1.37-1.37c-.4-.4-.92-.59-1.43-.59-.52 0-1.04.2-1.43.59L10.3 9.45l-7.72 7.72c-.78.78-.78 2.05 0 2.83L4 21.41c.39.39.9.59 1.41.59.51 0 1.02-.2 1.41-.59l7.78-7.78 2.81-2.81c.8-.78.8-2.07 0-2.86zM5.41 20L4 18.59l7.72-7.72 1.47 1.35L5.41 20z\"/>\n",
              "  </svg>\n",
              "      </button>\n",
              "      \n",
              "  <style>\n",
              "    .colab-df-container {\n",
              "      display:flex;\n",
              "      flex-wrap:wrap;\n",
              "      gap: 12px;\n",
              "    }\n",
              "\n",
              "    .colab-df-convert {\n",
              "      background-color: #E8F0FE;\n",
              "      border: none;\n",
              "      border-radius: 50%;\n",
              "      cursor: pointer;\n",
              "      display: none;\n",
              "      fill: #1967D2;\n",
              "      height: 32px;\n",
              "      padding: 0 0 0 0;\n",
              "      width: 32px;\n",
              "    }\n",
              "\n",
              "    .colab-df-convert:hover {\n",
              "      background-color: #E2EBFA;\n",
              "      box-shadow: 0px 1px 2px rgba(60, 64, 67, 0.3), 0px 1px 3px 1px rgba(60, 64, 67, 0.15);\n",
              "      fill: #174EA6;\n",
              "    }\n",
              "\n",
              "    [theme=dark] .colab-df-convert {\n",
              "      background-color: #3B4455;\n",
              "      fill: #D2E3FC;\n",
              "    }\n",
              "\n",
              "    [theme=dark] .colab-df-convert:hover {\n",
              "      background-color: #434B5C;\n",
              "      box-shadow: 0px 1px 3px 1px rgba(0, 0, 0, 0.15);\n",
              "      filter: drop-shadow(0px 1px 2px rgba(0, 0, 0, 0.3));\n",
              "      fill: #FFFFFF;\n",
              "    }\n",
              "  </style>\n",
              "\n",
              "      <script>\n",
              "        const buttonEl =\n",
              "          document.querySelector('#df-b49a90a9-1bc5-433d-bcfb-752de81a54ab button.colab-df-convert');\n",
              "        buttonEl.style.display =\n",
              "          google.colab.kernel.accessAllowed ? 'block' : 'none';\n",
              "\n",
              "        async function convertToInteractive(key) {\n",
              "          const element = document.querySelector('#df-b49a90a9-1bc5-433d-bcfb-752de81a54ab');\n",
              "          const dataTable =\n",
              "            await google.colab.kernel.invokeFunction('convertToInteractive',\n",
              "                                                     [key], {});\n",
              "          if (!dataTable) return;\n",
              "\n",
              "          const docLinkHtml = 'Like what you see? Visit the ' +\n",
              "            '<a target=\"_blank\" href=https://colab.research.google.com/notebooks/data_table.ipynb>data table notebook</a>'\n",
              "            + ' to learn more about interactive tables.';\n",
              "          element.innerHTML = '';\n",
              "          dataTable['output_type'] = 'display_data';\n",
              "          await google.colab.output.renderOutput(dataTable, element);\n",
              "          const docLink = document.createElement('div');\n",
              "          docLink.innerHTML = docLinkHtml;\n",
              "          element.appendChild(docLink);\n",
              "        }\n",
              "      </script>\n",
              "    </div>\n",
              "  </div>\n",
              "  "
            ]
          },
          "metadata": {},
          "execution_count": 50
        }
      ]
    },
    {
      "cell_type": "markdown",
      "source": [
        "DATA PARTITION"
      ],
      "metadata": {
        "id": "kYY6SOBcHsRU"
      }
    },
    {
      "cell_type": "code",
      "source": [
        "data=data.drop(labels=\"id\",axis=1)"
      ],
      "metadata": {
        "id": "N80ckSsAGCVt"
      },
      "execution_count": 51,
      "outputs": []
    },
    {
      "cell_type": "code",
      "source": [
        "from sklearn.model_selection import train_test_split\n",
        "\n",
        "##partitionn data into data training and data testing\n",
        "train,test = train_test_split(data,test_size= 0.20,random_state=111)\n",
        "##Seperating dependent and independent variables on training and testing data\n",
        "train_X=train.drop(labels='id',axis=1)\n",
        "train_Y=train['id']\n",
        "test_X=test.drop(labels='id',axis=1)\n",
        "test_Y= test['id']"
      ],
      "metadata": {
        "id": "cgC4mWK0GI9H"
      },
      "execution_count": 96,
      "outputs": []
    }
  ],
  "metadata": {
    "colab": {
      "provenance": [],
      "authorship_tag": "ABX9TyP7gnabvCYKV++q4Y7jqZJB",
      "include_colab_link": true
    },
    "kernelspec": {
      "display_name": "Python 3",
      "name": "python3"
    },
    "language_info": {
      "name": "python"
    }
  },
  "nbformat": 4,
  "nbformat_minor": 0
}